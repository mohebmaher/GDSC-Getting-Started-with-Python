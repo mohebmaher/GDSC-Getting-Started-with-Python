{
 "cells": [
  {
   "cell_type": "markdown",
   "id": "01708d7e-d010-4c29-af37-9fcd6713ef1a",
   "metadata": {},
   "source": [
    "# Strings and String Methods"
   ]
  },
  {
   "cell_type": "markdown",
   "id": "7254404e-e72d-4d6d-b881-69f936bcfbc0",
   "metadata": {},
   "source": [
    "- In this chapter, you will learn how to:\n",
    "> - **Manipulate** strings with **string methods**,\n",
    "> - Work with **user input**,\n",
    "> - Deal with **strings of numbers**,\n",
    "> - **Format strings** for printing."
   ]
  },
  {
   "cell_type": "markdown",
   "id": "96ebc69d-cb91-43b4-8e5c-886083a65fd7",
   "metadata": {},
   "source": [
    "## 1. What is a String?"
   ]
  },
  {
   "cell_type": "markdown",
   "id": "b39ec671-7aea-45de-838e-c2356824576c",
   "metadata": {},
   "source": [
    "### 1.1. The String Data Type"
   ]
  },
  {
   "cell_type": "markdown",
   "id": "b5e1ec1a-9b6d-4bed-b645-a251a78c3b24",
   "metadata": {},
   "source": [
    "- Strings are one of the **fundamental Python data types**:\n",
    "> - The term **data type** refers to what **kind** of data a value represents, strings are used to **represent text**,\n",
    "> - Strings are a **fundamental** data type because they **can’t be broken down into smaller values of a different type**,\n",
    "> - There are **more compound** data types (also known as **data structures**) that may **share some similarities with strings**."
   ]
  },
  {
   "cell_type": "markdown",
   "id": "21cb921f-674f-4f74-b9f6-ebf6a9e79624",
   "metadata": {},
   "source": [
    "- The string data type has a **special abbreviated name in Python**: `str`, you can see this by using the `type()` function, which is used to **determine the data type of a given value**:"
   ]
  },
  {
   "cell_type": "code",
   "execution_count": 1,
   "id": "f7ec32e1-312c-4270-b26e-33e9710642de",
   "metadata": {
    "tags": []
   },
   "outputs": [
    {
     "data": {
      "text/plain": [
       "str"
      ]
     },
     "execution_count": 1,
     "metadata": {},
     "output_type": "execute_result"
    }
   ],
   "source": [
    "type(\"GDSC - Getting Started with Python\")"
   ]
  },
  {
   "cell_type": "markdown",
   "id": "4caab019-85e9-429a-819b-b28be3717f7f",
   "metadata": {},
   "source": [
    "- Strings **have three properties** that you’ll explore in the coming sections:\n",
    "> - Strings **contain characters**, which are individual letters or symbols, **surrounded by single, double or triple quotes**.\n",
    "> - Strings **have a length**, which is the number of characters contained in the string,\n",
    "> - Characters in a string appear in a **sequence**, meaning each character has a **numbered position** in the string."
   ]
  },
  {
   "cell_type": "markdown",
   "id": "716859ed-6f69-4c8f-8093-f51dd3bcd7dc",
   "metadata": {},
   "source": [
    "- You can **create a string** by:\n",
    "> - Simply typing the string explicitly (**string literal** - a string literal is a string value that is written explicitly in your code),\n",
    "> - Using the `str()` function (**constructor**),\n",
    "> - Capturing a string as **user input**."
   ]
  },
  {
   "cell_type": "code",
   "execution_count": 2,
   "id": "0270a1e5-2388-4312-8c9f-40d5fabaf561",
   "metadata": {
    "tags": []
   },
   "outputs": [
    {
     "data": {
      "text/plain": [
       "str"
      ]
     },
     "execution_count": 2,
     "metadata": {},
     "output_type": "execute_result"
    }
   ],
   "source": [
    "year = \"2023\"  # String literal.\n",
    "type(year)"
   ]
  },
  {
   "cell_type": "code",
   "execution_count": 3,
   "id": "72f4ee1c-f238-4e90-8f47-08fdd32d0b04",
   "metadata": {
    "tags": []
   },
   "outputs": [
    {
     "data": {
      "text/plain": [
       "str"
      ]
     },
     "execution_count": 3,
     "metadata": {},
     "output_type": "execute_result"
    }
   ],
   "source": [
    "year = str(2023)  # Constructor - Not a string literal.\n",
    "type(year)"
   ]
  },
  {
   "cell_type": "code",
   "execution_count": 4,
   "id": "d4bca0e7-89df-400c-a44f-c4da06b9e1bc",
   "metadata": {
    "tags": []
   },
   "outputs": [
    {
     "name": "stdin",
     "output_type": "stream",
     "text": [
      "Name:  Guido Van Rossum\n"
     ]
    },
    {
     "data": {
      "text/plain": [
       "str"
      ]
     },
     "execution_count": 4,
     "metadata": {},
     "output_type": "execute_result"
    }
   ],
   "source": [
    "user_input = input(\"Name: \")  # Capture user input as a string.\n",
    "type(user_input)"
   ]
  },
  {
   "cell_type": "markdown",
   "id": "3fb70d38-e059-411c-a562-a18239119325",
   "metadata": {},
   "source": [
    "### 1.2. String Literals"
   ]
  },
  {
   "cell_type": "markdown",
   "id": "ce7a13a8-b99c-4c06-a4ba-9e5034269b43",
   "metadata": {},
   "source": [
    "- As you’ve already seen, you can create a string by **surrounding some text with quotation marks**."
   ]
  },
  {
   "cell_type": "code",
   "execution_count": 5,
   "id": "04eeb489-8b23-4401-9c5b-a05b5d08de9b",
   "metadata": {},
   "outputs": [],
   "source": [
    "course = 'GDSC - Getting Started with Python'\n",
    "year = \"2023\""
   ]
  },
  {
   "cell_type": "markdown",
   "id": "831aee10-74a9-4dc8-9e64-27e3ebc1bbce",
   "metadata": {},
   "source": [
    "- Either **single** quotes <`course`> or **double** quotes <`year`> can be used to create a string, **as long as both quotation marks are the same type**.\n",
    "- The **quotes** surrounding a string are called **delimiters** because they **tell Python where a string begins and where it ends**.\n",
    "- When one type of quotes is used as the delimiter, **the other type of quote can be used inside of the string**:\n",
    "> - After Python reads the **first delimiter**, all of the characters after it are considered a part of the string until a **second matching delimiter** is read,\n",
    "> - This is why you can use a **single quote in a string delimited by double quotes and vice versa**."
   ]
  },
  {
   "cell_type": "code",
   "execution_count": 6,
   "id": "c62545ac-bb72-4174-b0c0-760422b16bda",
   "metadata": {
    "tags": []
   },
   "outputs": [],
   "source": [
    "email = \"I'm going to be a little late today\"  # A Single quote inside two double quotes.\n",
    "reply = 'He said, \"It is ok!\"'  # Double quotes inside two single quotes."
   ]
  },
  {
   "cell_type": "markdown",
   "id": "17b4981a-b2f5-4729-8239-227b90e35ac3",
   "metadata": {},
   "source": [
    "- If you try to use **double quotes** inside of a string that is delimited by **double quotes**, you will get an **error** because Python **doesn’t know how to interpret the rest of the line**:"
   ]
  },
  {
   "cell_type": "code",
   "execution_count": 7,
   "id": "0e60a46a-1882-4116-9e5f-de08ded87b29",
   "metadata": {
    "tags": []
   },
   "outputs": [
    {
     "ename": "SyntaxError",
     "evalue": "unterminated string literal (detected at line 1) (896666338.py, line 1)",
     "output_type": "error",
     "traceback": [
      "\u001b[1;36m  Cell \u001b[1;32mIn[7], line 1\u001b[1;36m\u001b[0m\n\u001b[1;33m    email = 'I'm going to be a little late today'  # A Single quote inside two single quotes - raises an Error!\u001b[0m\n\u001b[1;37m                                                ^\u001b[0m\n\u001b[1;31mSyntaxError\u001b[0m\u001b[1;31m:\u001b[0m unterminated string literal (detected at line 1)\n"
     ]
    }
   ],
   "source": [
    "email = 'I'm going to be a little late today'  # A Single quote inside two single quotes - raises an Error!"
   ]
  },
  {
   "cell_type": "code",
   "execution_count": 8,
   "id": "c44b284f-9beb-4965-999e-70de4d377378",
   "metadata": {
    "tags": []
   },
   "outputs": [
    {
     "ename": "SyntaxError",
     "evalue": "invalid syntax (2366019624.py, line 1)",
     "output_type": "error",
     "traceback": [
      "\u001b[1;36m  Cell \u001b[1;32mIn[8], line 1\u001b[1;36m\u001b[0m\n\u001b[1;33m    reply = 'He said, 'It is ok!''  # Single quotes inside two single quotes - also raises an Error!\u001b[0m\n\u001b[1;37m                       ^\u001b[0m\n\u001b[1;31mSyntaxError\u001b[0m\u001b[1;31m:\u001b[0m invalid syntax\n"
     ]
    }
   ],
   "source": [
    "reply = 'He said, 'It is ok!''  # Single quotes inside two single quotes - also raises an Error!"
   ]
  },
  {
   "cell_type": "markdown",
   "id": "170eaa7a-35be-46c3-bd94-94c8834c816f",
   "metadata": {},
   "source": [
    "- Whethe you prefer using **single** or **double** quotes, keep in mind that **there isn’t really a right or wrong choice!** The goal is to **be consistent**, because consistency helps make your code easier to read and understand."
   ]
  },
  {
   "cell_type": "markdown",
   "id": "b44aec78-bc83-4637-b3f4-42ca25f2f956",
   "metadata": {},
   "source": [
    "- You can **break the string up** across multiple lines into a **multiline string**, suppose you need to fit the following **[text](https://peps.python.org/pep-0020/#the-zen-of-python)** into a **string literal**:"
   ]
  },
  {
   "cell_type": "markdown",
   "id": "91beb6ce-c978-439e-aca0-b4570bd63b7c",
   "metadata": {},
   "source": [
    "> Beautiful is better than ugly.<br>\n",
    "Explicit is better than implicit.<br>\n",
    "Simple is better than complex.<br>\n",
    "Complex is better than complicated.<br>\n",
    "Flat is better than nested.<br>\n",
    "Sparse is better than dense.<br>\n",
    "Readability counts.<br>\n",
    "Special cases aren't special enough to break the rules.<br>\n",
    "Although practicality beats purity.<br>\n",
    "Errors should never pass silently.<br>\n",
    "Unless explicitly silenced.<br>\n",
    "In the face of ambiguity, refuse the temptation to guess.<br>\n",
    "There should be one-- and preferably only one --obvious way to do it.<br>\n",
    "Although that way may not be obvious at first unless you're Dutch.<br>\n",
    "Now is better than never.<br>\n",
    "Although never is often better than *right* now.<br>\n",
    "If the implementation is hard to explain, it's a bad idea.<br>\n",
    "If the implementation is easy to explain, it may be a good idea.<br>\n",
    "Namespaces are one honking great idea -- let's do more of those!<br>"
   ]
  },
  {
   "cell_type": "markdown",
   "id": "57dcc273-f443-4599-912e-d3413f672918",
   "metadata": {},
   "source": [
    "- This paragraph contains far **more than 79 characters**, so any line of code containing the paragraph as a string literal **violates [PEP 8](https://peps.python.org/pep-0008/)**, **what do you do?**\n",
    "> - One way is to **break the string up** across multiple lines and put a **backslash** (`\\`) at the end of all but the last line,\n",
    "> - Or you can create a **multiline string** using triple quotes as delimiters (`\"\"\"` or `'''`)."
   ]
  },
  {
   "cell_type": "code",
   "execution_count": 9,
   "id": "4c9fede2-ea41-4306-b358-62c4cfc2c8b7",
   "metadata": {
    "tags": []
   },
   "outputs": [],
   "source": [
    "# Use a backslash:\n",
    "zen_of_python = \"Beautiful is better than ugly.\\\n",
    "Explicit is better than implicit.\\\n",
    "Simple is better than complex.\\\n",
    "Complex is better than complicated.\\\n",
    "Flat is better than nested.\\\n",
    "Sparse is better than dense.\\\n",
    "Readability counts.\\\n",
    "Special cases aren't special enough to break the rules.\\\n",
    "Although practicality beats purity.\\\n",
    "Errors should never pass silently.\\\n",
    "Unless explicitly silenced.\\\n",
    "In the face of ambiguity, refuse the temptation to guess.\\\n",
    "There should be one-- and preferably only one --obvious way to do it.\\\n",
    "Although that way may not be obvious at first unless you're Dutch.\\\n",
    "Now is better than never.\\\n",
    "Although never is often better than *right* now.\\\n",
    "If the implementation is hard to explain, it's a bad idea.\\\n",
    "If the implementation is easy to explain, it may be a good idea.\\\n",
    "Namespaces are one honking great idea -- let's do more of those!\""
   ]
  },
  {
   "cell_type": "code",
   "execution_count": 10,
   "id": "ca9961c4-b4fa-4f85-88e5-6d9849bb741f",
   "metadata": {
    "tags": []
   },
   "outputs": [
    {
     "name": "stdout",
     "output_type": "stream",
     "text": [
      "Beautiful is better than ugly.Explicit is better than implicit.Simple is better than complex.Complex is better than complicated.Flat is better than nested.Sparse is better than dense.Readability counts.Special cases aren't special enough to break the rules.Although practicality beats purity.Errors should never pass silently.Unless explicitly silenced.In the face of ambiguity, refuse the temptation to guess.There should be one-- and preferably only one --obvious way to do it.Although that way may not be obvious at first unless you're Dutch.Now is better than never.Although never is often better than *right* now.If the implementation is hard to explain, it's a bad idea.If the implementation is easy to explain, it may be a good idea.Namespaces are one honking great idea -- let's do more of those!\n"
     ]
    }
   ],
   "source": [
    "print(zen_of_python)  # The output displayed on a single line."
   ]
  },
  {
   "cell_type": "code",
   "execution_count": 11,
   "id": "fcb4e026-8f87-4579-947c-575312df6041",
   "metadata": {
    "tags": []
   },
   "outputs": [],
   "source": [
    "# Use a multiline string\n",
    "zen_of_python = \"\"\"Beautiful is better than ugly.\n",
    "Explicit is better than implicit.\n",
    "Simple is better than complex.\n",
    "Complex is better than complicated.\n",
    "Flat is better than nested.\n",
    "Sparse is better than dense.\n",
    "Readability counts.\n",
    "Special cases aren't special enough to break the rules.\n",
    "Although practicality beats purity.\n",
    "Errors should never pass silently.\n",
    "Unless explicitly silenced.\n",
    "In the face of ambiguity, refuse the temptation to guess.\n",
    "There should be one-- and preferably only one --obvious way to do it.\n",
    "Although that way may not be obvious at first unless you're Dutch.\n",
    "Now is better than never.\n",
    "Although never is often better than *right* now.\n",
    "If the implementation is hard to explain, it's a bad idea.\n",
    "If the implementation is easy to explain, it may be a good idea.\n",
    "Namespaces are one honking great idea -- let's do more of those!\"\"\""
   ]
  },
  {
   "cell_type": "code",
   "execution_count": 12,
   "id": "a71b5671-145a-4380-93e5-17022b9d4bbb",
   "metadata": {
    "tags": []
   },
   "outputs": [
    {
     "name": "stdout",
     "output_type": "stream",
     "text": [
      "Beautiful is better than ugly.\n",
      "Explicit is better than implicit.\n",
      "Simple is better than complex.\n",
      "Complex is better than complicated.\n",
      "Flat is better than nested.\n",
      "Sparse is better than dense.\n",
      "Readability counts.\n",
      "Special cases aren't special enough to break the rules.\n",
      "Although practicality beats purity.\n",
      "Errors should never pass silently.\n",
      "Unless explicitly silenced.\n",
      "In the face of ambiguity, refuse the temptation to guess.\n",
      "There should be one-- and preferably only one --obvious way to do it.\n",
      "Although that way may not be obvious at first unless you're Dutch.\n",
      "Now is better than never.\n",
      "Although never is often better than *right* now.\n",
      "If the implementation is hard to explain, it's a bad idea.\n",
      "If the implementation is easy to explain, it may be a good idea.\n",
      "Namespaces are one honking great idea -- let's do more of those!\n"
     ]
    }
   ],
   "source": [
    "print(zen_of_python)  # Triple-quoted strings preserve whitespace."
   ]
  },
  {
   "cell_type": "markdown",
   "id": "9fd3d7ae-e673-4d26-a9bc-b01ee2c1e486",
   "metadata": {},
   "source": [
    "- Triple-quoted strings **have a special purpose in Python**, they are used to **document code**:\n",
    "> - You’ll often find them **at the top of a .py** with a description of the code’s purpose,\n",
    "> - They are also used to **document custom functions**.\n",
    "- When used to document code, triple-quoted strings are called **docstrings**."
   ]
  },
  {
   "cell_type": "markdown",
   "id": "7f631306-c7d2-48fa-b0af-834dbda145e3",
   "metadata": {},
   "source": [
    "- Strings can contain any valid **Unicode** character:"
   ]
  },
  {
   "cell_type": "code",
   "execution_count": 13,
   "id": "5bd73247-73bb-4250-b9bf-e193bfa30fac",
   "metadata": {
    "tags": []
   },
   "outputs": [
    {
     "data": {
      "text/plain": [
       "'×Pýŧħøŋ×'"
      ]
     },
     "execution_count": 13,
     "metadata": {},
     "output_type": "execute_result"
    }
   ],
   "source": [
    "programming_language = \"×Pýŧħøŋ×\"\n",
    "programming_language"
   ]
  },
  {
   "cell_type": "markdown",
   "id": "5a3fdb58-6ae6-44a0-b211-1ffe6aa0017f",
   "metadata": {},
   "source": [
    "## 2. Concatenation, Indexing, and Slicing"
   ]
  },
  {
   "cell_type": "markdown",
   "id": "37a0d638-5fc2-4649-ad45-e974e6c85970",
   "metadata": {},
   "source": [
    "### 2.1. String Concatenation"
   ]
  },
  {
   "cell_type": "markdown",
   "id": "50808cd7-7979-4d7f-b057-012a819872fd",
   "metadata": {},
   "source": [
    "- Two strings can be combined, or **concatenated**, using the (`+`) **operator**:"
   ]
  },
  {
   "cell_type": "code",
   "execution_count": 14,
   "id": "2ecf0a34-1db4-4a6b-8e60-736a2324fbab",
   "metadata": {
    "tags": []
   },
   "outputs": [
    {
     "data": {
      "text/plain": [
       "'Guido Van Rossum'"
      ]
     },
     "execution_count": 14,
     "metadata": {},
     "output_type": "execute_result"
    }
   ],
   "source": [
    "first_name = \"Guido\"\n",
    "last_name = \"Van Rossum\"\n",
    "full_name = first_name + \" \" + last_name\n",
    "full_name"
   ]
  },
  {
   "cell_type": "markdown",
   "id": "993bfd5a-5356-4bc3-929d-ab40d1ab0f49",
   "metadata": {},
   "source": [
    "### 2.2. Determine the Length of a String"
   ]
  },
  {
   "cell_type": "markdown",
   "id": "046bead9-9e45-4593-a577-338d5956c1a0",
   "metadata": {},
   "source": [
    "- The **number of characters contained in a string**, including spaces, is called the **length** of the string.\n",
    "- To determine a **string’s length**, you use Python’s built-in `len()` function:"
   ]
  },
  {
   "cell_type": "code",
   "execution_count": 15,
   "id": "60ab6318-e407-4671-8eee-8214b6714e19",
   "metadata": {
    "tags": []
   },
   "outputs": [
    {
     "data": {
      "text/plain": [
       "3"
      ]
     },
     "execution_count": 15,
     "metadata": {},
     "output_type": "execute_result"
    }
   ],
   "source": [
    "letters = \"abc\"\n",
    "len(letters)"
   ]
  },
  {
   "cell_type": "markdown",
   "id": "92e202fd-9125-41bc-a7b6-7d149c3ba55f",
   "metadata": {},
   "source": [
    "### 2.3. String Indexing"
   ]
  },
  {
   "cell_type": "markdown",
   "id": "64855ef9-f253-42e5-a997-ee0a6e49d669",
   "metadata": {},
   "source": [
    "- Each character in a string has a **numbered position** called an **index**.\n",
    "- You can access the character at the **Nth** position by putting the number **N** in between **two square brackets** immediately after the string:"
   ]
  },
  {
   "cell_type": "code",
   "execution_count": 16,
   "id": "92d08b5f-d63c-465c-ad3a-e93ac959a7f7",
   "metadata": {
    "tags": []
   },
   "outputs": [
    {
     "data": {
      "text/plain": [
       "'Guido Van Rossum'"
      ]
     },
     "execution_count": 16,
     "metadata": {},
     "output_type": "execute_result"
    }
   ],
   "source": [
    "full_name"
   ]
  },
  {
   "cell_type": "code",
   "execution_count": 17,
   "id": "d0d40087-0ef8-42a3-9154-a7ac7218958b",
   "metadata": {
    "tags": []
   },
   "outputs": [
    {
     "data": {
      "text/plain": [
       "'R'"
      ]
     },
     "execution_count": 17,
     "metadata": {},
     "output_type": "execute_result"
    }
   ],
   "source": [
    "full_name[10]"
   ]
  },
  {
   "cell_type": "markdown",
   "id": "2b06c599-e0e4-487d-93db-5a58a0dc5efd",
   "metadata": {},
   "source": [
    "- **Note that:**\n",
    "> - In Python and most other programming languages **counting always starts at zero**,\n",
    "> - **Whitespace** characters are counted,\n",
    "> - **Forgetting that counting starts with zero** and trying to access the first character in a string with the index 1 results in an **IndexError**."
   ]
  },
  {
   "cell_type": "markdown",
   "id": "facb122e-f778-43ee-9736-a38da84b8379",
   "metadata": {},
   "source": [
    "| G | u | i | d | o |   | V | a | n |   | R | o | s | s | u | m |\n",
    "| --- | --- | --- | --- | --- | --- | --- |--- |--- |--- |--- |--- |--- |--- |--- |--- |\n",
    "| 0 | 1 | 2 | 3 | 4 | 5 | 6 | 7 | 8 | 9 | 10 | 11 | 12 | 13 | 14 | 15 |"
   ]
  },
  {
   "cell_type": "code",
   "execution_count": 18,
   "id": "080711a9-a4a0-4d71-91ec-27f1ef943e62",
   "metadata": {
    "tags": []
   },
   "outputs": [
    {
     "ename": "IndexError",
     "evalue": "string index out of range",
     "output_type": "error",
     "traceback": [
      "\u001b[1;31m---------------------------------------------------------------------------\u001b[0m",
      "\u001b[1;31mIndexError\u001b[0m                                Traceback (most recent call last)",
      "Cell \u001b[1;32mIn[18], line 2\u001b[0m\n\u001b[0;32m      1\u001b[0m nth \u001b[38;5;241m=\u001b[39m \u001b[38;5;28mlen\u001b[39m(full_name)\n\u001b[1;32m----> 2\u001b[0m \u001b[43mfull_name\u001b[49m\u001b[43m[\u001b[49m\u001b[43mnth\u001b[49m\u001b[43m]\u001b[49m\n",
      "\u001b[1;31mIndexError\u001b[0m: string index out of range"
     ]
    }
   ],
   "source": [
    "nth = len(full_name)\n",
    "full_name[nth]"
   ]
  },
  {
   "cell_type": "markdown",
   "id": "a16134ee-9256-4aee-85b5-4404f0e540a9",
   "metadata": {},
   "source": [
    "- Strings also support **negative indices**:"
   ]
  },
  {
   "cell_type": "markdown",
   "id": "26304ee5-4c3a-4230-bc28-f8849bc93474",
   "metadata": {},
   "source": [
    "| G | u | i | d | o |   | V | a | n |   | R | o | s | s | u | m |\n",
    "| --- | --- | --- | --- | --- | --- | --- |--- |--- |--- |--- |--- |--- |--- |--- |--- |\n",
    "| 0 | 1 | 2 | 3 | 4 | 5 | 6 | 7 | 8 | 9 | 10 | 11 | 12 | 13 | 14 | 15 |\n",
    "| -16 | -15 | -14 | -13 | -12 | -11 | -10 | -9 | -8 | -7 | -6 | -5 | -4 | -3 | -2 | -1 |"
   ]
  },
  {
   "cell_type": "code",
   "execution_count": null,
   "id": "5a5ca068-b9ce-4f08-a969-7ffdfff0ebe1",
   "metadata": {
    "tags": []
   },
   "outputs": [],
   "source": [
    "full_name[-1]"
   ]
  },
  {
   "cell_type": "markdown",
   "id": "7dbbaba9-a061-49ac-b852-71f29c776815",
   "metadata": {},
   "source": [
    "- Just like positive indices, Python raises an **IndexError** if you try to access a negative index **less than** the index of the first character in the string:"
   ]
  },
  {
   "cell_type": "code",
   "execution_count": 19,
   "id": "5086830d-9836-4957-b540-b4651aa8f65e",
   "metadata": {
    "tags": []
   },
   "outputs": [
    {
     "ename": "IndexError",
     "evalue": "string index out of range",
     "output_type": "error",
     "traceback": [
      "\u001b[1;31m---------------------------------------------------------------------------\u001b[0m",
      "\u001b[1;31mIndexError\u001b[0m                                Traceback (most recent call last)",
      "Cell \u001b[1;32mIn[19], line 1\u001b[0m\n\u001b[1;32m----> 1\u001b[0m \u001b[43mfull_name\u001b[49m\u001b[43m[\u001b[49m\u001b[38;5;241;43m-\u001b[39;49m\u001b[38;5;241;43m17\u001b[39;49m\u001b[43m]\u001b[49m\n",
      "\u001b[1;31mIndexError\u001b[0m: string index out of range"
     ]
    }
   ],
   "source": [
    "full_name[-17]"
   ]
  },
  {
   "cell_type": "markdown",
   "id": "c5c7d1c9-5060-4fd8-a2ee-88c31954891c",
   "metadata": {},
   "source": [
    "### 2.4. String Slicing"
   ]
  },
  {
   "cell_type": "markdown",
   "id": "be999297-55e6-49ce-9338-c3be78f387d1",
   "metadata": {},
   "source": [
    "- Suppose you need the string containing **just the first name**, you could access each character by index and concatenate them, like this:"
   ]
  },
  {
   "cell_type": "code",
   "execution_count": 20,
   "id": "18c6da26-db99-48ae-ad54-9eb24ddb4808",
   "metadata": {
    "tags": []
   },
   "outputs": [
    {
     "data": {
      "text/plain": [
       "'Guido'"
      ]
     },
     "execution_count": 20,
     "metadata": {},
     "output_type": "execute_result"
    }
   ],
   "source": [
    "full_name[0] + full_name[1] + full_name[2] + full_name[3] + full_name[4]"
   ]
  },
  {
   "cell_type": "markdown",
   "id": "9decdc7a-531a-42d2-8d69-7e5a5243dd77",
   "metadata": {},
   "source": [
    "- Fortunately, Python provides an **easier way** to do this, you can extract a portion of a string, called a **substring**, by inserting a **colon** (`:`) between two index numbers inside of square brackets, like this:"
   ]
  },
  {
   "cell_type": "code",
   "execution_count": 21,
   "id": "22c23f88-7bad-44b9-a7bc-b744d4faadf6",
   "metadata": {
    "tags": []
   },
   "outputs": [
    {
     "data": {
      "text/plain": [
       "'Guido'"
      ]
     },
     "execution_count": 21,
     "metadata": {},
     "output_type": "execute_result"
    }
   ],
   "source": [
    "full_name[0:5]"
   ]
  },
  {
   "cell_type": "markdown",
   "id": "87476d93-061f-4474-8e8e-20c2260da48f",
   "metadata": {},
   "source": [
    "- **Note that:**\n",
    "> - The `[0:5`] part of `full_name[0:5]` is called a **slice**.\n",
    "> - `full_name[0:5]` returns the first five characters, **starting** with the character with index `0` and **going up to, but not including**, the character with index `5`."
   ]
  },
  {
   "cell_type": "markdown",
   "id": "6e151783-a888-43e6-ba4c-e293d00ae627",
   "metadata": {},
   "source": [
    "| G | u | i | d | o |   | V | a | n |   | R | o | s | s | u | m |\n",
    "| --- | --- | --- | --- | --- | --- | --- |--- |--- |--- |--- |--- |--- |--- |--- |--- |\n",
    "| 0 | 1 | 2 | 3 | 4 | 5 | 6 | 7 | 8 | 9 | 10 | 11 | 12 | 13 | 14 | 15 |\n",
    "| -16 | -15 | -14 | -13 | -12 | -11 | -10 | -9 | -8 | -7 | -6 | -5 | -4 | -3 | -2 | -1 |"
   ]
  },
  {
   "cell_type": "markdown",
   "id": "411853ec-68a4-4cb5-896b-3daa3f8994c7",
   "metadata": {},
   "source": [
    "- The **slice** `[:5]` is **equivalent to** the slice `[0:5]`:"
   ]
  },
  {
   "cell_type": "code",
   "execution_count": 22,
   "id": "a59d416b-4b6d-46f6-9142-5098362a2a1d",
   "metadata": {
    "tags": []
   },
   "outputs": [
    {
     "data": {
      "text/plain": [
       "'Guido'"
      ]
     },
     "execution_count": 22,
     "metadata": {},
     "output_type": "execute_result"
    }
   ],
   "source": [
    "full_name[:5]"
   ]
  },
  {
   "cell_type": "code",
   "execution_count": 23,
   "id": "f0cec235-4057-478d-a0d0-941094487b2c",
   "metadata": {
    "tags": []
   },
   "outputs": [
    {
     "data": {
      "text/plain": [
       "'Guido'"
      ]
     },
     "execution_count": 23,
     "metadata": {},
     "output_type": "execute_result"
    }
   ],
   "source": [
    "full_name[0:5]"
   ]
  },
  {
   "cell_type": "markdown",
   "id": "d7d6fb38-0f61-40ea-89e1-65620721e593",
   "metadata": {},
   "source": [
    "- Similarly, The **slice** `[6:]` is **equivalent to** the slice `[6:16]`:"
   ]
  },
  {
   "cell_type": "code",
   "execution_count": 24,
   "id": "2f30c2a2-022b-467e-a67d-2a50bc110b7d",
   "metadata": {
    "tags": []
   },
   "outputs": [
    {
     "data": {
      "text/plain": [
       "'Van Rossum'"
      ]
     },
     "execution_count": 24,
     "metadata": {},
     "output_type": "execute_result"
    }
   ],
   "source": [
    "full_name[6:]"
   ]
  },
  {
   "cell_type": "code",
   "execution_count": 25,
   "id": "347ca92b-974f-40ce-9eea-e046dc2cf7d0",
   "metadata": {
    "tags": []
   },
   "outputs": [
    {
     "data": {
      "text/plain": [
       "'Van Rossum'"
      ]
     },
     "execution_count": 25,
     "metadata": {},
     "output_type": "execute_result"
    }
   ],
   "source": [
    "full_name[6:16]"
   ]
  },
  {
   "cell_type": "markdown",
   "id": "1d708344-7dc0-4d13-a883-7d968e2a4afa",
   "metadata": {},
   "source": [
    "- If you **omit both the first and second numbers in a slice**, you get a string that starts with the character with **index** `0` and ends with the **last character**:"
   ]
  },
  {
   "cell_type": "code",
   "execution_count": 26,
   "id": "be838c6c-fadc-4b93-805c-b8806261c844",
   "metadata": {
    "tags": []
   },
   "outputs": [
    {
     "data": {
      "text/plain": [
       "'Guido Van Rossum'"
      ]
     },
     "execution_count": 26,
     "metadata": {},
     "output_type": "execute_result"
    }
   ],
   "source": [
    "full_name[:]"
   ]
  },
  {
   "cell_type": "markdown",
   "id": "566172e3-ac3d-45f9-9d64-dfed5afdf6f8",
   "metadata": {},
   "source": [
    "- It’s important to **note that**, unlike string indexing, **Python won’t raise an IndexError** when you try to slice between boundaries **before or after** the beginning and ending boundaries of a string:"
   ]
  },
  {
   "cell_type": "code",
   "execution_count": 27,
   "id": "5cef39bf-e783-41fd-a0f8-d95089b570d1",
   "metadata": {
    "tags": []
   },
   "outputs": [
    {
     "data": {
      "text/plain": [
       "'Guido Van Rossum'"
      ]
     },
     "execution_count": 27,
     "metadata": {},
     "output_type": "execute_result"
    }
   ],
   "source": [
    "full_name[:20]"
   ]
  },
  {
   "cell_type": "code",
   "execution_count": 28,
   "id": "589674db-0755-4d7c-b1a9-15555c4c2c32",
   "metadata": {
    "tags": []
   },
   "outputs": [
    {
     "data": {
      "text/plain": [
       "''"
      ]
     },
     "execution_count": 28,
     "metadata": {},
     "output_type": "execute_result"
    }
   ],
   "source": [
    "full_name[20:]"
   ]
  },
  {
   "cell_type": "markdown",
   "id": "a85fbbb3-85be-4b32-b9d2-cd09b055abb0",
   "metadata": {},
   "source": [
    "- You can use **negative numbers** in slices with the same rules:"
   ]
  },
  {
   "cell_type": "markdown",
   "id": "5aafaddf-2ed5-4305-91f9-839667e27005",
   "metadata": {},
   "source": [
    "| G | u | i | d | o |   | V | a | n |   | R | o | s | s | u | m |\n",
    "| --- | --- | --- | --- | --- | --- | --- |--- |--- |--- |--- |--- |--- |--- |--- |--- |\n",
    "| 0 | 1 | 2 | 3 | 4 | 5 | 6 | 7 | 8 | 9 | 10 | 11 | 12 | 13 | 14 | 15 |\n",
    "| -16 | -15 | -14 | -13 | -12 | -11 | -10 | -9 | -8 | -7 | -6 | -5 | -4 | -3 | -2 | -1 |"
   ]
  },
  {
   "cell_type": "code",
   "execution_count": 29,
   "id": "4dde6baa-5f7b-4e80-adde-a891f06a97f6",
   "metadata": {
    "tags": []
   },
   "outputs": [
    {
     "data": {
      "text/plain": [
       "'Guido'"
      ]
     },
     "execution_count": 29,
     "metadata": {},
     "output_type": "execute_result"
    }
   ],
   "source": [
    "full_name[-16:-11]"
   ]
  },
  {
   "cell_type": "markdown",
   "id": "b7f3e04e-78c1-4814-9abc-d1bc6e61a64f",
   "metadata": {},
   "source": [
    "- Notice, however, that the **right-most boundary does not have a negative index**, the logical choice for that boundary would seem to be the **number** `0`, but that **doesn’t work**:"
   ]
  },
  {
   "cell_type": "code",
   "execution_count": 30,
   "id": "7de8b498-b812-4862-9b08-991f9195a1d3",
   "metadata": {
    "tags": []
   },
   "outputs": [
    {
     "data": {
      "text/plain": [
       "''"
      ]
     },
     "execution_count": 30,
     "metadata": {},
     "output_type": "execute_result"
    }
   ],
   "source": [
    "full_name[-10:0]"
   ]
  },
  {
   "cell_type": "markdown",
   "id": "47e09904-5f4e-4860-a1a8-635ebf9eb6b9",
   "metadata": {},
   "source": [
    "- If you need to include the final character of a string in your slice, you can **omit the second number**:"
   ]
  },
  {
   "cell_type": "code",
   "execution_count": 31,
   "id": "8b360293-deaa-4aa0-a9ca-b449e2d0ef6a",
   "metadata": {
    "tags": []
   },
   "outputs": [
    {
     "data": {
      "text/plain": [
       "'Van Rossum'"
      ]
     },
     "execution_count": 31,
     "metadata": {},
     "output_type": "execute_result"
    }
   ],
   "source": [
    "full_name[-10:]"
   ]
  },
  {
   "cell_type": "markdown",
   "id": "dccc5f4c-7d2d-4396-aaa3-982b1b58c248",
   "metadata": {},
   "source": [
    "### 2.5. Strings are Immutable"
   ]
  },
  {
   "cell_type": "markdown",
   "id": "a669b74d-da97-44dc-9496-7d56c197239a",
   "metadata": {},
   "source": [
    "- Strings are **immutable**, which means that you can’t change them once you’ve created them.\n",
    "- **What happens when you try to assign a new letter to one particular character of a string?**"
   ]
  },
  {
   "cell_type": "code",
   "execution_count": 32,
   "id": "e2214fa1-8d93-4012-98dc-34e131ce9061",
   "metadata": {},
   "outputs": [
    {
     "name": "stdout",
     "output_type": "stream",
     "text": [
      "Guido\n",
      "1776239461872\n"
     ]
    }
   ],
   "source": [
    "# Create a string and check its id address:\n",
    "full_name = \"Guido\"\n",
    "print(full_name)\n",
    "print(id(full_name))"
   ]
  },
  {
   "cell_type": "code",
   "execution_count": 33,
   "id": "f1893d06-3ce6-4d8d-8a6c-ae6b2c03769b",
   "metadata": {},
   "outputs": [
    {
     "name": "stdout",
     "output_type": "stream",
     "text": [
      "Guido Van Rossum\n",
      "1776239367136\n"
     ]
    }
   ],
   "source": [
    "# Concatenate another string and double-check its id address:\n",
    "full_name += \" Van Rossum\"\n",
    "print(full_name)\n",
    "print(id(full_name))"
   ]
  },
  {
   "cell_type": "markdown",
   "id": "fa28a1d0-cfa3-49e7-b38a-44657db741cd",
   "metadata": {
    "tags": []
   },
   "source": [
    "## 3.1. Manipulate Strings with Methods"
   ]
  },
  {
   "cell_type": "markdown",
   "id": "8439066d-d836-4924-9e62-ed80ce43402c",
   "metadata": {},
   "source": [
    "- Strings come bundled with special functions called **[string methods](https://www.w3schools.com/python/python_strings_methods.asp)** that can be used to **work with and manipulate** strings.\n",
    "- There are numerous string methods available, but we’ll focus on some of the **most commonly used ones**."
   ]
  },
  {
   "cell_type": "code",
   "execution_count": 34,
   "id": "c7089ab5-7399-4617-8858-1f03676b7811",
   "metadata": {
    "tags": []
   },
   "outputs": [],
   "source": [
    "full_name = \"Guido Van Rossum\""
   ]
  },
  {
   "cell_type": "markdown",
   "id": "05de0f25-2d39-454c-b1dc-96e24aff579d",
   "metadata": {},
   "source": [
    "### Converting String Case"
   ]
  },
  {
   "cell_type": "markdown",
   "id": "4e4fe90f-4321-44f5-9018-51b9b37338df",
   "metadata": {},
   "source": [
    "- To convert a string to **all upper case letters**, you use the string’s `.upper()` method:"
   ]
  },
  {
   "cell_type": "code",
   "execution_count": 35,
   "id": "129ef3dd-1c62-460b-8371-ed65a5233bcb",
   "metadata": {
    "tags": []
   },
   "outputs": [
    {
     "data": {
      "text/plain": [
       "'GUIDO VAN ROSSUM'"
      ]
     },
     "execution_count": 35,
     "metadata": {},
     "output_type": "execute_result"
    }
   ],
   "source": [
    "full_name.upper()"
   ]
  },
  {
   "cell_type": "markdown",
   "id": "57fce461-50d9-4ced-88ff-8fc993d59c64",
   "metadata": {},
   "source": [
    "- The **opposite** of the `.upper()` method is the `.lower()` method, which **converts every character in a string to lower case**:"
   ]
  },
  {
   "cell_type": "code",
   "execution_count": 36,
   "id": "909958a3-c13f-46f8-a4f9-fc87679b2dab",
   "metadata": {
    "tags": []
   },
   "outputs": [
    {
     "data": {
      "text/plain": [
       "'guido van rossum'"
      ]
     },
     "execution_count": 36,
     "metadata": {},
     "output_type": "execute_result"
    }
   ],
   "source": [
    "full_name.lower()"
   ]
  },
  {
   "cell_type": "markdown",
   "id": "dbfd819a-25c3-4153-8bd6-996c130fef5c",
   "metadata": {},
   "source": [
    "- The `.casefold()` method returns a string where **all the characters are lower case**."
   ]
  },
  {
   "cell_type": "code",
   "execution_count": 37,
   "id": "908bbf02-4568-460d-a1e0-241190e21fd4",
   "metadata": {
    "tags": []
   },
   "outputs": [
    {
     "data": {
      "text/plain": [
       "'guido van rossum'"
      ]
     },
     "execution_count": 37,
     "metadata": {},
     "output_type": "execute_result"
    }
   ],
   "source": [
    "full_name.casefold()"
   ]
  },
  {
   "cell_type": "markdown",
   "id": "37e572de-3b5a-4dc1-8ef1-4affe23df50c",
   "metadata": {},
   "source": [
    "\n",
    "- **What is the difference between `.lower()` and `.casefold()`?**\n",
    ">- The `.casefold()` method is **similar to** the `.lower()` method, but the `.casefold()` method **is stronger, more aggressive**, meaning that it will convert more characters into lower case, and will find more matches when comparing two strings and both are converted using the `.casefold()` method,\n",
    ">- The `.casefold()` method is **more useful for caseless comparison**."
   ]
  },
  {
   "cell_type": "code",
   "execution_count": 38,
   "id": "8e163eb9-3919-4a0b-b043-f52a1a312073",
   "metadata": {
    "tags": []
   },
   "outputs": [],
   "source": [
    "# Load str_01 & str_02 from case_insensitive_comparison_examples.py (Assets):\n",
    "%run \"../Assets/case_insensitive_comparison_examples.py\""
   ]
  },
  {
   "cell_type": "code",
   "execution_count": 39,
   "id": "09e063fd-9bd8-4f48-ac49-2a931bed82ec",
   "metadata": {
    "tags": []
   },
   "outputs": [
    {
     "data": {
      "text/plain": [
       "False"
      ]
     },
     "execution_count": 39,
     "metadata": {},
     "output_type": "execute_result"
    }
   ],
   "source": [
    "str_01.lower() == str_02.lower()"
   ]
  },
  {
   "cell_type": "code",
   "execution_count": 40,
   "id": "8aa9e105-392c-4af0-a641-b2af632d8ee3",
   "metadata": {
    "tags": []
   },
   "outputs": [
    {
     "data": {
      "text/plain": [
       "True"
      ]
     },
     "execution_count": 40,
     "metadata": {},
     "output_type": "execute_result"
    }
   ],
   "source": [
    "str_01.casefold() == str_02.casefold()"
   ]
  },
  {
   "cell_type": "code",
   "execution_count": 41,
   "id": "a1f208b1-2c5c-4c28-8399-dc45f7d5b0ea",
   "metadata": {
    "tags": []
   },
   "outputs": [
    {
     "name": "stdout",
     "output_type": "stream",
     "text": [
      "Straße\n",
      "strasse\n"
     ]
    }
   ],
   "source": [
    "print(str_01)\n",
    "print(str_02)"
   ]
  },
  {
   "cell_type": "markdown",
   "id": "a5784a07-8a9d-4c23-92d5-94d6aa7bff31",
   "metadata": {},
   "source": [
    "- The `.capitalize()` method returns a string where the **first character is upper case**, and the **rest is lower case**:"
   ]
  },
  {
   "cell_type": "code",
   "execution_count": 42,
   "id": "5b52b1db-a333-49bc-883b-7c76a51c5edb",
   "metadata": {
    "tags": []
   },
   "outputs": [
    {
     "data": {
      "text/plain": [
       "'guido van rossum'"
      ]
     },
     "execution_count": 42,
     "metadata": {},
     "output_type": "execute_result"
    }
   ],
   "source": [
    "full_name_lower_cased = full_name.lower()\n",
    "full_name_lower_cased"
   ]
  },
  {
   "cell_type": "code",
   "execution_count": 43,
   "id": "277c2f73-54fc-40b9-ad1d-9396e4a732ee",
   "metadata": {
    "tags": []
   },
   "outputs": [
    {
     "data": {
      "text/plain": [
       "'Guido van rossum'"
      ]
     },
     "execution_count": 43,
     "metadata": {},
     "output_type": "execute_result"
    }
   ],
   "source": [
    "full_name_lower_cased.capitalize()"
   ]
  },
  {
   "cell_type": "markdown",
   "id": "886e4421-56b2-4c55-8456-57cb54dcceda",
   "metadata": {
    "tags": []
   },
   "source": [
    "- The `.title()` method returns a string where the **first character in every word is upper case**:"
   ]
  },
  {
   "cell_type": "code",
   "execution_count": 44,
   "id": "cae0f591-94ef-491d-9ad6-66ef125b5d44",
   "metadata": {
    "tags": []
   },
   "outputs": [
    {
     "data": {
      "text/plain": [
       "'Guido Van Rossum'"
      ]
     },
     "execution_count": 44,
     "metadata": {},
     "output_type": "execute_result"
    }
   ],
   "source": [
    "full_name_lower_cased.title()"
   ]
  },
  {
   "cell_type": "markdown",
   "id": "398a85e2-fb15-4fcb-a7c9-dc812f7903ce",
   "metadata": {},
   "source": [
    "### Removing Whitespace From a String"
   ]
  },
  {
   "cell_type": "markdown",
   "id": "d32f29e5-9a6f-4c43-8bef-db3942a03761",
   "metadata": {},
   "source": [
    "- **Whitespace** is **any character that is printed as blank space**, this includes things like **spaces** and **line feeds**:"
   ]
  },
  {
   "cell_type": "code",
   "execution_count": 45,
   "id": "02e3239a-b583-4988-865f-48d75d0eb95f",
   "metadata": {
    "tags": []
   },
   "outputs": [
    {
     "data": {
      "text/plain": [
       "' '"
      ]
     },
     "execution_count": 45,
     "metadata": {},
     "output_type": "execute_result"
    }
   ],
   "source": [
    "full_name = \" Guido Van Rossum\"\n",
    "full_name[0]"
   ]
  },
  {
   "cell_type": "markdown",
   "id": "8f84cee1-c992-4ffe-b686-ee2c63858734",
   "metadata": {},
   "source": [
    "- Sometimes you need to **remove whitespace from the beginning or end of a string**, this is especially useful when working with strings that come from **user input, where extra whitespace characters may have been introduced by accident**:"
   ]
  },
  {
   "cell_type": "code",
   "execution_count": 46,
   "id": "cc027805-8b00-4023-bedb-3d27338df167",
   "metadata": {
    "tags": []
   },
   "outputs": [
    {
     "name": "stdin",
     "output_type": "stream",
     "text": [
      "Full name:       Guido Van Rossum\n"
     ]
    },
    {
     "data": {
      "text/plain": [
       "'     Guido Van Rossum'"
      ]
     },
     "execution_count": 46,
     "metadata": {},
     "output_type": "execute_result"
    }
   ],
   "source": [
    "user_input = input(\"Full name: \")\n",
    "user_input"
   ]
  },
  {
   "cell_type": "markdown",
   "id": "c9cdb64d-6751-4591-9e4e-484ff2f47647",
   "metadata": {},
   "source": [
    "- There are **three string methods** that you can use to **remove whitespace** from a string:\n",
    "> 1. `.rstrip()`: **removes any white spaces at the end of the string**,\n",
    "> 2. `.lstrip()` : **removes any white spaces at the start of the string**,\n",
    "> 3. `.strip()`: **removes any white spaces at both ends**."
   ]
  },
  {
   "cell_type": "code",
   "execution_count": 47,
   "id": "3a61bc80-ff17-435a-98bb-31e459029a8f",
   "metadata": {
    "tags": []
   },
   "outputs": [
    {
     "data": {
      "text/plain": [
       "'     Guido Van Rossum'"
      ]
     },
     "execution_count": 47,
     "metadata": {},
     "output_type": "execute_result"
    }
   ],
   "source": [
    "user_input.rstrip()"
   ]
  },
  {
   "cell_type": "code",
   "execution_count": 48,
   "id": "9a986aed-c7f3-4aa6-826c-14c0b2a48391",
   "metadata": {
    "tags": []
   },
   "outputs": [
    {
     "data": {
      "text/plain": [
       "'Guido Van Rossum'"
      ]
     },
     "execution_count": 48,
     "metadata": {},
     "output_type": "execute_result"
    }
   ],
   "source": [
    "user_input.lstrip()"
   ]
  },
  {
   "cell_type": "code",
   "execution_count": 49,
   "id": "1179bee4-6a87-473e-b865-d5c78a48f0d6",
   "metadata": {
    "tags": []
   },
   "outputs": [
    {
     "data": {
      "text/plain": [
       "'Guido Van Rossum'"
      ]
     },
     "execution_count": 49,
     "metadata": {},
     "output_type": "execute_result"
    }
   ],
   "source": [
    "user_input.strip()"
   ]
  },
  {
   "cell_type": "markdown",
   "id": "593984f2-c422-4b7f-b58b-68a991a7e9d8",
   "metadata": {},
   "source": [
    "- **None** of the `.rstrip()`, `.lstrip()`, and `.strip()` methods **remove whitespace from the middle of the string**."
   ]
  },
  {
   "cell_type": "code",
   "execution_count": 50,
   "id": "3035e06e-35c5-40ff-a224-9697e21ea8a1",
   "metadata": {
    "tags": []
   },
   "outputs": [
    {
     "name": "stdin",
     "output_type": "stream",
     "text": [
      "Full name:    Guido Van Rossum\n"
     ]
    },
    {
     "data": {
      "text/plain": [
       "'  Guido Van Rossum'"
      ]
     },
     "execution_count": 50,
     "metadata": {},
     "output_type": "execute_result"
    }
   ],
   "source": [
    "user_input = input(\"Full name: \")\n",
    "user_input"
   ]
  },
  {
   "cell_type": "code",
   "execution_count": 51,
   "id": "801ea26c-c418-40d1-b37f-e19a747ca1bc",
   "metadata": {
    "tags": []
   },
   "outputs": [
    {
     "name": "stdout",
     "output_type": "stream",
     "text": [
      "  Guido Van Rossum\n",
      "Guido Van Rossum\n",
      "Guido Van Rossum\n"
     ]
    }
   ],
   "source": [
    "print(user_input.rstrip())\n",
    "print(user_input.lstrip())\n",
    "print(user_input.strip())"
   ]
  },
  {
   "cell_type": "markdown",
   "id": "696d309d-49c1-4949-8564-ff707f6a4809",
   "metadata": {},
   "source": [
    "### Determine if a String Starts or Ends with a Particular String"
   ]
  },
  {
   "cell_type": "markdown",
   "id": "c1bd8bbd-5e33-4f1f-8d19-3b526022c4e7",
   "metadata": {},
   "source": [
    "- When you work with text, sometimes you need to **determine if a given string starts with or ends with certain characters**, you can use two string methods to solve this problem:\n",
    "> 1. `.startswith()`: **returns True if the string starts with the specified value, otherwise False**,\n",
    "> 2. `.endswith()`: **returns True if the string ends with the specified value, otherwise False**."
   ]
  },
  {
   "cell_type": "code",
   "execution_count": 52,
   "id": "d7771631-f023-4d96-bf30-8cd797a4a984",
   "metadata": {
    "tags": []
   },
   "outputs": [
    {
     "name": "stdin",
     "output_type": "stream",
     "text": [
      "File name:  GDSC - Getting Started with Python.py\n"
     ]
    },
    {
     "data": {
      "text/plain": [
       "'GDSC - Getting Started with Python.py'"
      ]
     },
     "execution_count": 52,
     "metadata": {},
     "output_type": "execute_result"
    }
   ],
   "source": [
    "user_input = input(\"File name: \")\n",
    "user_input"
   ]
  },
  {
   "cell_type": "code",
   "execution_count": 53,
   "id": "6fbe8b56-1da5-462d-84b4-ff3994efd9cc",
   "metadata": {
    "tags": []
   },
   "outputs": [
    {
     "data": {
      "text/plain": [
       "True"
      ]
     },
     "execution_count": 53,
     "metadata": {},
     "output_type": "execute_result"
    }
   ],
   "source": [
    "user_input.endswith(\".py\")"
   ]
  },
  {
   "cell_type": "code",
   "execution_count": 54,
   "id": "c7d77b12-d8fe-4ea2-8411-17c1106d4fe8",
   "metadata": {
    "tags": []
   },
   "outputs": [
    {
     "data": {
      "text/plain": [
       "True"
      ]
     },
     "execution_count": 54,
     "metadata": {},
     "output_type": "execute_result"
    }
   ],
   "source": [
    "user_input.startswith(\"GDSC\")"
   ]
  },
  {
   "cell_type": "markdown",
   "id": "b620a8ce-4f5b-4f2c-86ba-3c408d268a87",
   "metadata": {},
   "source": [
    "- They are **both case-sensitive**."
   ]
  },
  {
   "cell_type": "code",
   "execution_count": 55,
   "id": "7d78f0f7-d4ed-4d6e-9ad0-3bced77c857e",
   "metadata": {
    "tags": []
   },
   "outputs": [
    {
     "data": {
      "text/plain": [
       "False"
      ]
     },
     "execution_count": 55,
     "metadata": {},
     "output_type": "execute_result"
    }
   ],
   "source": [
    "user_input.endswith(\".PY\")"
   ]
  },
  {
   "cell_type": "code",
   "execution_count": 56,
   "id": "057706fe-acda-479d-a62c-34a482a6e32e",
   "metadata": {
    "tags": []
   },
   "outputs": [
    {
     "data": {
      "text/plain": [
       "False"
      ]
     },
     "execution_count": 56,
     "metadata": {},
     "output_type": "execute_result"
    }
   ],
   "source": [
    "user_input.startswith(\"gdsc\")"
   ]
  },
  {
   "cell_type": "markdown",
   "id": "eb1eca80-e591-4dbb-a631-302eff9c5cfc",
   "metadata": {},
   "source": [
    "### Splitting and Joining Strings"
   ]
  },
  {
   "cell_type": "markdown",
   "id": "41605cd1-3d74-4ca9-a0f9-4b558f770698",
   "metadata": {},
   "source": [
    "- If you need to **split a string into several parts**, you can use two string methods to solve this problem:\n",
    "> - `.split()`: **splits a string into a list starting from the left**,\n",
    "> - `.rsplit()`: **splits a string into a list starting from the right**."
   ]
  },
  {
   "cell_type": "code",
   "execution_count": 57,
   "id": "9b6859b5-07f8-48d6-9b7a-25a78cb7a2ae",
   "metadata": {
    "tags": []
   },
   "outputs": [
    {
     "name": "stdin",
     "output_type": "stream",
     "text": [
      "Enter your order here:  apples bananas strawberries\n"
     ]
    },
    {
     "data": {
      "text/plain": [
       "['apples', 'bananas', 'strawberries']"
      ]
     },
     "execution_count": 57,
     "metadata": {},
     "output_type": "execute_result"
    }
   ],
   "source": [
    "grocey_list = input(\"Enter your order here: \")\n",
    "grocey_list.split()"
   ]
  },
  {
   "cell_type": "markdown",
   "id": "f88e8935-7b32-4270-8e11-3046542cd874",
   "metadata": {},
   "source": [
    "- You can specify the **separator**, default separator is **any whitespace**, also when **maxsplit** is specified, the list will contain the specified number of elements plus one:"
   ]
  },
  {
   "cell_type": "code",
   "execution_count": 58,
   "id": "34109e96-f806-44fd-92da-c8cfcc6b8770",
   "metadata": {
    "tags": []
   },
   "outputs": [],
   "source": [
    "full_path = \"H:/Programming Lab/GDSC - Gettinf Started with Python.py\""
   ]
  },
  {
   "cell_type": "code",
   "execution_count": 59,
   "id": "29947b33-1f7d-48fd-a0b0-de3c9b3e8e6e",
   "metadata": {
    "tags": []
   },
   "outputs": [
    {
     "data": {
      "text/plain": [
       "'H:/Programming Lab'"
      ]
     },
     "execution_count": 59,
     "metadata": {},
     "output_type": "execute_result"
    }
   ],
   "source": [
    "# Get the directory path:\n",
    "full_path.rsplit(\"/\", maxsplit=1)[0]"
   ]
  },
  {
   "cell_type": "code",
   "execution_count": 60,
   "id": "6d2bc371-f321-4078-ab16-c806b4996576",
   "metadata": {
    "tags": []
   },
   "outputs": [
    {
     "data": {
      "text/plain": [
       "'GDSC - Gettinf Started with Python.py'"
      ]
     },
     "execution_count": 60,
     "metadata": {},
     "output_type": "execute_result"
    }
   ],
   "source": [
    "# Get the file name:\n",
    "full_path.rsplit(\"/\", maxsplit=1)[-1]"
   ]
  },
  {
   "cell_type": "code",
   "execution_count": 61,
   "id": "9c77146a-4c5b-4b2b-8983-dc61969de112",
   "metadata": {
    "tags": []
   },
   "outputs": [
    {
     "data": {
      "text/plain": [
       "'py'"
      ]
     },
     "execution_count": 61,
     "metadata": {},
     "output_type": "execute_result"
    }
   ],
   "source": [
    "# Get the file extension:\n",
    "full_path.rsplit(\".\")[-1]"
   ]
  },
  {
   "cell_type": "markdown",
   "id": "dfefe073-432d-40a2-81ee-4e1524fe13c6",
   "metadata": {},
   "source": [
    "- If you need to do the opposite, **join all items in a list or a tuple into a string, using a character as separator**, you can use a string methods called `.join()` which **takes all items in an iterable and joins them into one string**:"
   ]
  },
  {
   "cell_type": "code",
   "execution_count": 62,
   "id": "52917b0b-f20f-4a2b-8ebd-1de0a8086a8c",
   "metadata": {
    "tags": []
   },
   "outputs": [],
   "source": [
    "dir_list = [\"H:\", \"Programming Lab\"]"
   ]
  },
  {
   "cell_type": "code",
   "execution_count": 63,
   "id": "d56b7c51-26e5-4fda-8935-a1c3d2ed519a",
   "metadata": {
    "tags": []
   },
   "outputs": [
    {
     "data": {
      "text/plain": [
       "'H:/Programming Lab'"
      ]
     },
     "execution_count": 63,
     "metadata": {},
     "output_type": "execute_result"
    }
   ],
   "source": [
    "# Rebiuld the directory path:\n",
    "directory = \"/\".join(dir_list)\n",
    "directory"
   ]
  },
  {
   "cell_type": "markdown",
   "id": "fcfe795c-3db7-47ed-987b-220b0c482ea2",
   "metadata": {
    "tags": []
   },
   "source": [
    "## 4. String and Operators"
   ]
  },
  {
   "cell_type": "markdown",
   "id": "b35ba89c-83ec-465d-acf8-85aacbcbf8b1",
   "metadata": {},
   "source": [
    "### Arithmetic Operators"
   ]
  },
  {
   "cell_type": "markdown",
   "id": "e6eae474-78a6-4909-9643-ead63b7a377c",
   "metadata": {},
   "source": [
    "- The (`+`) operator **concatenates** two string together:"
   ]
  },
  {
   "cell_type": "code",
   "execution_count": 64,
   "id": "fe8ac3e7-ec4b-4600-ab71-ed321664b3be",
   "metadata": {
    "tags": []
   },
   "outputs": [
    {
     "data": {
      "text/plain": [
       "'55'"
      ]
     },
     "execution_count": 64,
     "metadata": {},
     "output_type": "execute_result"
    }
   ],
   "source": [
    "n = \"5\"\n",
    "n + n"
   ]
  },
  {
   "cell_type": "markdown",
   "id": "92ddaadf-c036-435e-9c9f-8901a4f86bfa",
   "metadata": {},
   "source": [
    "- Strings can be **multiplied by a number** as long as that number is an **integer**:"
   ]
  },
  {
   "cell_type": "code",
   "execution_count": 65,
   "id": "ebdae146-dbbd-448d-a4ab-0e15273b72da",
   "metadata": {
    "tags": []
   },
   "outputs": [
    {
     "data": {
      "text/plain": [
       "'*****'"
      ]
     },
     "execution_count": 65,
     "metadata": {},
     "output_type": "execute_result"
    }
   ],
   "source": [
    "asterisk = \"*\"\n",
    "asterisk * 5"
   ]
  },
  {
   "cell_type": "markdown",
   "id": "2e6dd9cd-311d-48af-ab68-928c10ae6b38",
   "metadata": {},
   "source": [
    "- **What do you think happens if you use the (`*`) operator between two strings?**"
   ]
  },
  {
   "cell_type": "code",
   "execution_count": 66,
   "id": "8376bf08-2a31-4710-80b6-fade0c734718",
   "metadata": {
    "tags": []
   },
   "outputs": [
    {
     "ename": "TypeError",
     "evalue": "can't multiply sequence by non-int of type 'str'",
     "output_type": "error",
     "traceback": [
      "\u001b[1;31m---------------------------------------------------------------------------\u001b[0m",
      "\u001b[1;31mTypeError\u001b[0m                                 Traceback (most recent call last)",
      "Cell \u001b[1;32mIn[66], line 1\u001b[0m\n\u001b[1;32m----> 1\u001b[0m \u001b[43masterisk\u001b[49m\u001b[43m \u001b[49m\u001b[38;5;241;43m*\u001b[39;49m\u001b[43m \u001b[49m\u001b[43mn\u001b[49m\n",
      "\u001b[1;31mTypeError\u001b[0m: can't multiply sequence by non-int of type 'str'"
     ]
    }
   ],
   "source": [
    "asterisk * n"
   ]
  },
  {
   "cell_type": "markdown",
   "id": "c32299a6-9f47-44dd-bb19-35dd52f285b9",
   "metadata": {},
   "source": [
    "- **What do you think happens when you try to add a string and a number?**"
   ]
  },
  {
   "cell_type": "code",
   "execution_count": 67,
   "id": "cd86c099-affb-4d20-af26-84d60578d4f3",
   "metadata": {
    "tags": []
   },
   "outputs": [
    {
     "ename": "TypeError",
     "evalue": "can only concatenate str (not \"int\") to str",
     "output_type": "error",
     "traceback": [
      "\u001b[1;31m---------------------------------------------------------------------------\u001b[0m",
      "\u001b[1;31mTypeError\u001b[0m                                 Traceback (most recent call last)",
      "Cell \u001b[1;32mIn[67], line 1\u001b[0m\n\u001b[1;32m----> 1\u001b[0m \u001b[43masterisk\u001b[49m\u001b[43m \u001b[49m\u001b[38;5;241;43m+\u001b[39;49m\u001b[43m \u001b[49m\u001b[38;5;241;43m5\u001b[39;49m\n",
      "\u001b[1;31mTypeError\u001b[0m: can only concatenate str (not \"int\") to str"
     ]
    }
   ],
   "source": [
    "asterisk + 5"
   ]
  },
  {
   "cell_type": "markdown",
   "id": "041c746f-dba0-40db-a52a-38ac025deff0",
   "metadata": {},
   "source": [
    "- The `TypeError` errors you saw in the previous section highlight a common problem encountered when working with user input, **type mismatches** when trying to use the input in an operation that requires a number and not a string.\n",
    "- Let’s look at an **example**:\n",
    "> Circle Area = $2 * PI * r$"
   ]
  },
  {
   "cell_type": "code",
   "execution_count": 68,
   "id": "29eea085-cd05-41fb-8b4b-dc1373d7799b",
   "metadata": {
    "tags": []
   },
   "outputs": [
    {
     "name": "stdin",
     "output_type": "stream",
     "text": [
      "Radius:  5\n"
     ]
    },
    {
     "ename": "TypeError",
     "evalue": "can't multiply sequence by non-int of type 'float'",
     "output_type": "error",
     "traceback": [
      "\u001b[1;31m---------------------------------------------------------------------------\u001b[0m",
      "\u001b[1;31mTypeError\u001b[0m                                 Traceback (most recent call last)",
      "Cell \u001b[1;32mIn[68], line 6\u001b[0m\n\u001b[0;32m      4\u001b[0m \u001b[38;5;66;03m# Calculate the result:\u001b[39;00m\n\u001b[0;32m      5\u001b[0m PI \u001b[38;5;241m=\u001b[39m \u001b[38;5;241m22\u001b[39m\u001b[38;5;241m/\u001b[39m\u001b[38;5;241m7\u001b[39m\n\u001b[1;32m----> 6\u001b[0m area \u001b[38;5;241m=\u001b[39m \u001b[38;5;241;43m2\u001b[39;49m\u001b[43m \u001b[49m\u001b[38;5;241;43m*\u001b[39;49m\u001b[43m \u001b[49m\u001b[43mPI\u001b[49m\u001b[43m \u001b[49m\u001b[38;5;241;43m*\u001b[39;49m\u001b[43m \u001b[49m\u001b[43mr\u001b[49m\n\u001b[0;32m      7\u001b[0m area\n",
      "\u001b[1;31mTypeError\u001b[0m: can't multiply sequence by non-int of type 'float'"
     ]
    }
   ],
   "source": [
    "# Get the radius from user input:\n",
    "r = input(\"Radius: \")\n",
    "\n",
    "# Calculate the result:\n",
    "PI = 22/7\n",
    "area = 2 * PI * r\n",
    "area"
   ]
  },
  {
   "cell_type": "code",
   "execution_count": 69,
   "id": "e0006315-cb32-4c1b-b517-790cc3962a02",
   "metadata": {
    "tags": []
   },
   "outputs": [
    {
     "name": "stdin",
     "output_type": "stream",
     "text": [
      "Radius:  5\n"
     ]
    },
    {
     "data": {
      "text/plain": [
       "31.428571428571427"
      ]
     },
     "execution_count": 69,
     "metadata": {},
     "output_type": "execute_result"
    }
   ],
   "source": [
    "# Get the radius from user input & cast it into an intefer:\n",
    "r = input(\"Radius: \")\n",
    "r = float(r)\n",
    "\n",
    "# Calculate the result:\n",
    "PI = 22/7\n",
    "area = 2 * PI * r\n",
    "area"
   ]
  },
  {
   "cell_type": "markdown",
   "id": "63e424e0-ffb8-412f-a232-87ed9a5e8e6b",
   "metadata": {},
   "source": [
    "- Strings in Python have a **unique built-in operation** that can be accessed with the (`%`) operator, it’s a shortcut that lets you do **simple positional formatting** very easily:"
   ]
  },
  {
   "cell_type": "code",
   "execution_count": 70,
   "id": "0319c9a2-0413-4d04-ac3d-a9ec49448422",
   "metadata": {
    "tags": []
   },
   "outputs": [
    {
     "data": {
      "text/plain": [
       "'My name is Moheb, I am 36 years old!'"
      ]
     },
     "execution_count": 70,
     "metadata": {},
     "output_type": "execute_result"
    }
   ],
   "source": [
    "name = \"Moheb\"\n",
    "age = 36\n",
    "\"My name is %s, I am %d years old!\" % (name, age)  # Old-style formatting."
   ]
  },
  {
   "cell_type": "markdown",
   "id": "b5f9a567-4712-4fab-b07e-b54d09532716",
   "metadata": {},
   "source": [
    "### Comparisom Operators"
   ]
  },
  {
   "cell_type": "code",
   "execution_count": 71,
   "id": "d54413d5-6e71-4cac-a3e2-99ee05f9864d",
   "metadata": {
    "tags": []
   },
   "outputs": [
    {
     "data": {
      "text/plain": [
       "False"
      ]
     },
     "execution_count": 71,
     "metadata": {},
     "output_type": "execute_result"
    }
   ],
   "source": [
    "a, b = \"a\", \"b\"\n",
    "a > b"
   ]
  },
  {
   "cell_type": "code",
   "execution_count": 72,
   "id": "162fd0b6-7249-4dfc-96d0-829a62bbad4e",
   "metadata": {
    "tags": []
   },
   "outputs": [
    {
     "data": {
      "text/plain": [
       "(97, 98)"
      ]
     },
     "execution_count": 72,
     "metadata": {},
     "output_type": "execute_result"
    }
   ],
   "source": [
    "ord(\"a\"), ord(\"b\")"
   ]
  },
  {
   "cell_type": "code",
   "execution_count": 73,
   "id": "bef33860-597b-4ed3-bae0-b1efb0a57db5",
   "metadata": {
    "tags": []
   },
   "outputs": [
    {
     "data": {
      "text/plain": [
       "True"
      ]
     },
     "execution_count": 73,
     "metadata": {},
     "output_type": "execute_result"
    }
   ],
   "source": [
    "course_01 = \"GDSC - Getting Started with Python\"\n",
    "course_02 = \"GDSC - Getting Started with Python\"\n",
    "course_01 == course_02"
   ]
  },
  {
   "cell_type": "markdown",
   "id": "0adad21c-28ae-41f8-ac54-257019743c8f",
   "metadata": {},
   "source": [
    "### Membership Operators"
   ]
  },
  {
   "cell_type": "code",
   "execution_count": 74,
   "id": "bd82e63a-aa3a-47b0-b017-bb66f49ae263",
   "metadata": {
    "tags": []
   },
   "outputs": [
    {
     "data": {
      "text/plain": [
       "True"
      ]
     },
     "execution_count": 74,
     "metadata": {},
     "output_type": "execute_result"
    }
   ],
   "source": [
    "course = \"GDSC - Getting Started with Python\"\n",
    "\"Python\" in course"
   ]
  },
  {
   "cell_type": "markdown",
   "id": "c4d4900c-379b-4588-8d56-15742d531fc9",
   "metadata": {},
   "source": [
    "### Identitiy Operators"
   ]
  },
  {
   "cell_type": "code",
   "execution_count": 75,
   "id": "571e9da2-59b3-4e1e-8718-3fe67f4c2d0a",
   "metadata": {
    "tags": []
   },
   "outputs": [
    {
     "data": {
      "text/plain": [
       "False"
      ]
     },
     "execution_count": 75,
     "metadata": {},
     "output_type": "execute_result"
    }
   ],
   "source": [
    "course_01 = \"GDSC - Getting Started with Python\"\n",
    "course_02 = \"GDSC - Getting Started with Python\"\n",
    "course_01 is course_02"
   ]
  },
  {
   "cell_type": "code",
   "execution_count": 76,
   "id": "115097f0-5457-49b8-9837-a44a48b51a8c",
   "metadata": {
    "tags": []
   },
   "outputs": [
    {
     "data": {
      "text/plain": [
       "True"
      ]
     },
     "execution_count": 76,
     "metadata": {},
     "output_type": "execute_result"
    }
   ],
   "source": [
    "lang_01 = \"python\"\n",
    "lang_02 = \"python\"\n",
    "lang_01 is lang_02"
   ]
  },
  {
   "cell_type": "markdown",
   "id": "48acb5b5-7b14-478a-8917-34dbd0d66cd7",
   "metadata": {},
   "source": [
    "## 5. “New Style” String Formatting"
   ]
  },
  {
   "cell_type": "markdown",
   "id": "5ec04da4-4703-4e39-a0a5-566ea246a445",
   "metadata": {},
   "source": [
    "- This **new style** string formatting **gets rid of the (`%`) operator special syntax** and makes the syntax for string formatting more regular.\n",
    "- Formatting is now handled **either by**:\n",
    "> - **Calling** a `.format()` method on a string object,\n",
    "> - Literal string **interpolation** (Python 3.6+)."
   ]
  },
  {
   "cell_type": "code",
   "execution_count": 77,
   "id": "d5a0525f-6680-44ee-ba64-55adddc05661",
   "metadata": {
    "tags": []
   },
   "outputs": [
    {
     "data": {
      "text/plain": [
       "'My name is Moheb, I am 36 years old!'"
      ]
     },
     "execution_count": 77,
     "metadata": {},
     "output_type": "execute_result"
    }
   ],
   "source": [
    "name = \"Moheb\"\n",
    "age = 36\n",
    "\"My name is {}, I am {} years old!\".format(name, age)  # Calling .format() method."
   ]
  },
  {
   "cell_type": "code",
   "execution_count": 78,
   "id": "f2420392-e41c-45a7-9f0f-d0d2bbab1b61",
   "metadata": {
    "tags": []
   },
   "outputs": [
    {
     "data": {
      "text/plain": [
       "'My name is Moheb, I am 36 years old!'"
      ]
     },
     "execution_count": 78,
     "metadata": {},
     "output_type": "execute_result"
    }
   ],
   "source": [
    "name = \"Moheb\"\n",
    "age = 36\n",
    "f\"My name is {name}, I am {35 + 1} years old!\"  # Literal string interpolation."
   ]
  },
  {
   "cell_type": "code",
   "execution_count": null,
   "id": "5fa95fb8-16e2-4611-821a-ec93a435c617",
   "metadata": {},
   "outputs": [],
   "source": []
  }
 ],
 "metadata": {
  "kernelspec": {
   "display_name": "GDSC",
   "language": "python",
   "name": "gdsc"
  },
  "language_info": {
   "codemirror_mode": {
    "name": "ipython",
    "version": 3
   },
   "file_extension": ".py",
   "mimetype": "text/x-python",
   "name": "python",
   "nbconvert_exporter": "python",
   "pygments_lexer": "ipython3",
   "version": "3.10.10"
  }
 },
 "nbformat": 4,
 "nbformat_minor": 5
}
