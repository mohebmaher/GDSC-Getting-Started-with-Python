{
 "cells": [
  {
   "cell_type": "markdown",
   "id": "781f9dde-8c91-4805-ab55-ef11898e0446",
   "metadata": {},
   "source": [
    "# Basic Programming Constructs in Python"
   ]
  },
  {
   "cell_type": "code",
   "execution_count": 1,
   "id": "f3f55bb2-c83d-4d98-adaa-58b5071a07f6",
   "metadata": {
    "tags": []
   },
   "outputs": [],
   "source": [
    "# Beautify Python code automatically using Black.\n",
    "# %load_ext lab_black"
   ]
  },
  {
   "cell_type": "markdown",
   "id": "04426eea-8ef1-4fbe-9d3b-64d9dcd0ada5",
   "metadata": {},
   "source": [
    "- In this chapter, you will get familiar with:\n",
    "> - **Getting help** when you feel stuck,\n",
    "> - Variables & **objects**,\n",
    "> - Most commonly used **data types**,\n",
    "> - **Operators** in Python,\n",
    "> - **Control flow**,\n",
    "> - **Loops**,\n",
    "> - **Funstions**."
   ]
  },
  {
   "cell_type": "markdown",
   "id": "d9884276-bc8f-4f11-8d74-787f8e4b0c42",
   "metadata": {},
   "source": [
    "## 1. Geting `help()` when you Feel Stuck!"
   ]
  },
  {
   "cell_type": "markdown",
   "id": "58ea9c70-138d-49ac-b3d4-fb243c7b74e6",
   "metadata": {},
   "source": [
    "- The Python `help()` function is used to **display the documentation** of modules, functions, classes, keywords, etc. \n",
    "- The `help()` function has the following **syntax**:`help(<object>)`:\n",
    "> - It will launch CLI and we can enter a class name or function name,\n",
    "> - You can also get help on any object (class or function) by passing them to help function interactively."
   ]
  },
  {
   "cell_type": "code",
   "execution_count": 2,
   "id": "6e760dec-9b1e-4e62-9ac5-415c3a672068",
   "metadata": {
    "tags": []
   },
   "outputs": [],
   "source": [
    "any_object = 42"
   ]
  },
  {
   "cell_type": "code",
   "execution_count": 3,
   "id": "8a6ca1f3-889b-41f4-8c7f-5dc6f4f1fdfc",
   "metadata": {
    "tags": []
   },
   "outputs": [],
   "source": [
    "# help()"
   ]
  },
  {
   "cell_type": "code",
   "execution_count": 4,
   "id": "76e06cdd-471e-46f1-8fd8-4b4b691b7530",
   "metadata": {
    "collapsed": true,
    "jupyter": {
     "outputs_hidden": true
    },
    "tags": []
   },
   "outputs": [
    {
     "name": "stdout",
     "output_type": "stream",
     "text": [
      "Help on int object:\n",
      "\n",
      "class int(object)\n",
      " |  int([x]) -> integer\n",
      " |  int(x, base=10) -> integer\n",
      " |  \n",
      " |  Convert a number or string to an integer, or return 0 if no arguments\n",
      " |  are given.  If x is a number, return x.__int__().  For floating point\n",
      " |  numbers, this truncates towards zero.\n",
      " |  \n",
      " |  If x is not a number or if base is given, then x must be a string,\n",
      " |  bytes, or bytearray instance representing an integer literal in the\n",
      " |  given base.  The literal can be preceded by '+' or '-' and be surrounded\n",
      " |  by whitespace.  The base defaults to 10.  Valid bases are 0 and 2-36.\n",
      " |  Base 0 means to interpret the base from the string as an integer literal.\n",
      " |  >>> int('0b100', base=0)\n",
      " |  4\n",
      " |  \n",
      " |  Built-in subclasses:\n",
      " |      bool\n",
      " |  \n",
      " |  Methods defined here:\n",
      " |  \n",
      " |  __abs__(self, /)\n",
      " |      abs(self)\n",
      " |  \n",
      " |  __add__(self, value, /)\n",
      " |      Return self+value.\n",
      " |  \n",
      " |  __and__(self, value, /)\n",
      " |      Return self&value.\n",
      " |  \n",
      " |  __bool__(self, /)\n",
      " |      True if self else False\n",
      " |  \n",
      " |  __ceil__(...)\n",
      " |      Ceiling of an Integral returns itself.\n",
      " |  \n",
      " |  __divmod__(self, value, /)\n",
      " |      Return divmod(self, value).\n",
      " |  \n",
      " |  __eq__(self, value, /)\n",
      " |      Return self==value.\n",
      " |  \n",
      " |  __float__(self, /)\n",
      " |      float(self)\n",
      " |  \n",
      " |  __floor__(...)\n",
      " |      Flooring an Integral returns itself.\n",
      " |  \n",
      " |  __floordiv__(self, value, /)\n",
      " |      Return self//value.\n",
      " |  \n",
      " |  __format__(self, format_spec, /)\n",
      " |      Default object formatter.\n",
      " |  \n",
      " |  __ge__(self, value, /)\n",
      " |      Return self>=value.\n",
      " |  \n",
      " |  __getattribute__(self, name, /)\n",
      " |      Return getattr(self, name).\n",
      " |  \n",
      " |  __getnewargs__(self, /)\n",
      " |  \n",
      " |  __gt__(self, value, /)\n",
      " |      Return self>value.\n",
      " |  \n",
      " |  __hash__(self, /)\n",
      " |      Return hash(self).\n",
      " |  \n",
      " |  __index__(self, /)\n",
      " |      Return self converted to an integer, if self is suitable for use as an index into a list.\n",
      " |  \n",
      " |  __int__(self, /)\n",
      " |      int(self)\n",
      " |  \n",
      " |  __invert__(self, /)\n",
      " |      ~self\n",
      " |  \n",
      " |  __le__(self, value, /)\n",
      " |      Return self<=value.\n",
      " |  \n",
      " |  __lshift__(self, value, /)\n",
      " |      Return self<<value.\n",
      " |  \n",
      " |  __lt__(self, value, /)\n",
      " |      Return self<value.\n",
      " |  \n",
      " |  __mod__(self, value, /)\n",
      " |      Return self%value.\n",
      " |  \n",
      " |  __mul__(self, value, /)\n",
      " |      Return self*value.\n",
      " |  \n",
      " |  __ne__(self, value, /)\n",
      " |      Return self!=value.\n",
      " |  \n",
      " |  __neg__(self, /)\n",
      " |      -self\n",
      " |  \n",
      " |  __or__(self, value, /)\n",
      " |      Return self|value.\n",
      " |  \n",
      " |  __pos__(self, /)\n",
      " |      +self\n",
      " |  \n",
      " |  __pow__(self, value, mod=None, /)\n",
      " |      Return pow(self, value, mod).\n",
      " |  \n",
      " |  __radd__(self, value, /)\n",
      " |      Return value+self.\n",
      " |  \n",
      " |  __rand__(self, value, /)\n",
      " |      Return value&self.\n",
      " |  \n",
      " |  __rdivmod__(self, value, /)\n",
      " |      Return divmod(value, self).\n",
      " |  \n",
      " |  __repr__(self, /)\n",
      " |      Return repr(self).\n",
      " |  \n",
      " |  __rfloordiv__(self, value, /)\n",
      " |      Return value//self.\n",
      " |  \n",
      " |  __rlshift__(self, value, /)\n",
      " |      Return value<<self.\n",
      " |  \n",
      " |  __rmod__(self, value, /)\n",
      " |      Return value%self.\n",
      " |  \n",
      " |  __rmul__(self, value, /)\n",
      " |      Return value*self.\n",
      " |  \n",
      " |  __ror__(self, value, /)\n",
      " |      Return value|self.\n",
      " |  \n",
      " |  __round__(...)\n",
      " |      Rounding an Integral returns itself.\n",
      " |      \n",
      " |      Rounding with an ndigits argument also returns an integer.\n",
      " |  \n",
      " |  __rpow__(self, value, mod=None, /)\n",
      " |      Return pow(value, self, mod).\n",
      " |  \n",
      " |  __rrshift__(self, value, /)\n",
      " |      Return value>>self.\n",
      " |  \n",
      " |  __rshift__(self, value, /)\n",
      " |      Return self>>value.\n",
      " |  \n",
      " |  __rsub__(self, value, /)\n",
      " |      Return value-self.\n",
      " |  \n",
      " |  __rtruediv__(self, value, /)\n",
      " |      Return value/self.\n",
      " |  \n",
      " |  __rxor__(self, value, /)\n",
      " |      Return value^self.\n",
      " |  \n",
      " |  __sizeof__(self, /)\n",
      " |      Returns size in memory, in bytes.\n",
      " |  \n",
      " |  __sub__(self, value, /)\n",
      " |      Return self-value.\n",
      " |  \n",
      " |  __truediv__(self, value, /)\n",
      " |      Return self/value.\n",
      " |  \n",
      " |  __trunc__(...)\n",
      " |      Truncating an Integral returns itself.\n",
      " |  \n",
      " |  __xor__(self, value, /)\n",
      " |      Return self^value.\n",
      " |  \n",
      " |  as_integer_ratio(self, /)\n",
      " |      Return integer ratio.\n",
      " |      \n",
      " |      Return a pair of integers, whose ratio is exactly equal to the original int\n",
      " |      and with a positive denominator.\n",
      " |      \n",
      " |      >>> (10).as_integer_ratio()\n",
      " |      (10, 1)\n",
      " |      >>> (-10).as_integer_ratio()\n",
      " |      (-10, 1)\n",
      " |      >>> (0).as_integer_ratio()\n",
      " |      (0, 1)\n",
      " |  \n",
      " |  bit_count(self, /)\n",
      " |      Number of ones in the binary representation of the absolute value of self.\n",
      " |      \n",
      " |      Also known as the population count.\n",
      " |      \n",
      " |      >>> bin(13)\n",
      " |      '0b1101'\n",
      " |      >>> (13).bit_count()\n",
      " |      3\n",
      " |  \n",
      " |  bit_length(self, /)\n",
      " |      Number of bits necessary to represent self in binary.\n",
      " |      \n",
      " |      >>> bin(37)\n",
      " |      '0b100101'\n",
      " |      >>> (37).bit_length()\n",
      " |      6\n",
      " |  \n",
      " |  conjugate(...)\n",
      " |      Returns self, the complex conjugate of any int.\n",
      " |  \n",
      " |  to_bytes(self, /, length, byteorder, *, signed=False)\n",
      " |      Return an array of bytes representing an integer.\n",
      " |      \n",
      " |      length\n",
      " |        Length of bytes object to use.  An OverflowError is raised if the\n",
      " |        integer is not representable with the given number of bytes.\n",
      " |      byteorder\n",
      " |        The byte order used to represent the integer.  If byteorder is 'big',\n",
      " |        the most significant byte is at the beginning of the byte array.  If\n",
      " |        byteorder is 'little', the most significant byte is at the end of the\n",
      " |        byte array.  To request the native byte order of the host system, use\n",
      " |        `sys.byteorder' as the byte order value.\n",
      " |      signed\n",
      " |        Determines whether two's complement is used to represent the integer.\n",
      " |        If signed is False and a negative integer is given, an OverflowError\n",
      " |        is raised.\n",
      " |  \n",
      " |  ----------------------------------------------------------------------\n",
      " |  Class methods defined here:\n",
      " |  \n",
      " |  from_bytes(bytes, byteorder, *, signed=False) from builtins.type\n",
      " |      Return the integer represented by the given array of bytes.\n",
      " |      \n",
      " |      bytes\n",
      " |        Holds the array of bytes to convert.  The argument must either\n",
      " |        support the buffer protocol or be an iterable object producing bytes.\n",
      " |        Bytes and bytearray are examples of built-in objects that support the\n",
      " |        buffer protocol.\n",
      " |      byteorder\n",
      " |        The byte order used to represent the integer.  If byteorder is 'big',\n",
      " |        the most significant byte is at the beginning of the byte array.  If\n",
      " |        byteorder is 'little', the most significant byte is at the end of the\n",
      " |        byte array.  To request the native byte order of the host system, use\n",
      " |        `sys.byteorder' as the byte order value.\n",
      " |      signed\n",
      " |        Indicates whether two's complement is used to represent the integer.\n",
      " |  \n",
      " |  ----------------------------------------------------------------------\n",
      " |  Static methods defined here:\n",
      " |  \n",
      " |  __new__(*args, **kwargs) from builtins.type\n",
      " |      Create and return a new object.  See help(type) for accurate signature.\n",
      " |  \n",
      " |  ----------------------------------------------------------------------\n",
      " |  Data descriptors defined here:\n",
      " |  \n",
      " |  denominator\n",
      " |      the denominator of a rational number in lowest terms\n",
      " |  \n",
      " |  imag\n",
      " |      the imaginary part of a complex number\n",
      " |  \n",
      " |  numerator\n",
      " |      the numerator of a rational number in lowest terms\n",
      " |  \n",
      " |  real\n",
      " |      the real part of a complex number\n",
      "\n"
     ]
    }
   ],
   "source": [
    "help(any_object)"
   ]
  },
  {
   "cell_type": "markdown",
   "id": "5dc26180-2818-4702-aa53-506ac435aecb",
   "metadata": {},
   "source": [
    "## 2. Everything in Python is an Object"
   ]
  },
  {
   "cell_type": "markdown",
   "id": "cfb16e79-fa37-4d50-826d-6e44f619ab3e",
   "metadata": {},
   "source": [
    "- Python is an **object-oriented programming languag**e, and in Python **everything is an object**.\n",
    "- Earlier we saw that **variables are simply pointers**, and the variable names themselves **have no attached type information**. \n",
    "- Python has types; **however, the types are linked not to the variable names but to the objects themselves**:"
   ]
  },
  {
   "cell_type": "code",
   "execution_count": 5,
   "id": "cdbcc4e8-bf8d-4abf-9da5-570cc7faed06",
   "metadata": {
    "tags": []
   },
   "outputs": [
    {
     "data": {
      "text/plain": [
       "int"
      ]
     },
     "execution_count": 5,
     "metadata": {},
     "output_type": "execute_result"
    }
   ],
   "source": [
    "x = 4\n",
    "type(x)"
   ]
  },
  {
   "cell_type": "code",
   "execution_count": 6,
   "id": "e8fcb0d0-30e0-419d-a364-c8f23fcdd61a",
   "metadata": {
    "tags": []
   },
   "outputs": [
    {
     "data": {
      "text/plain": [
       "str"
      ]
     },
     "execution_count": 6,
     "metadata": {},
     "output_type": "execute_result"
    }
   ],
   "source": [
    "x = 'hello'\n",
    "type(x)"
   ]
  },
  {
   "cell_type": "markdown",
   "id": "4d507139-32b7-4306-b6c9-0b276c78bb71",
   "metadata": {},
   "source": [
    "- An object is an **entity that contains data along with associated functionality**."
   ]
  },
  {
   "cell_type": "markdown",
   "id": "ab365012-35bd-45bd-842c-8eba967c78b5",
   "metadata": {},
   "source": [
    "## 3. Most Commonly Used Data Types"
   ]
  },
  {
   "cell_type": "markdown",
   "id": "c2c689b6-dda0-4950-b5d7-28e9f670145c",
   "metadata": {},
   "source": [
    "- In programming, **data type is an important concept**.\n",
    "- **Variables** can store data of different types, and **different data types can do different things**.\n",
    "- Python has the following data types **built-in by default**, in these categories:"
   ]
  },
  {
   "attachments": {
    "51d608e1-dd2c-4b0b-a40b-60902c47fbba.png": {
     "image/png": "[encoded data removed]"
    }
   },
   "cell_type": "markdown",
   "id": "9b953409-2199-4d73-a9e6-8812d13351bf",
   "metadata": {},
   "source": [
    "![image.png](attachment:51d608e1-dd2c-4b0b-a40b-60902c47fbba.png)"
   ]
  },
  {
   "cell_type": "markdown",
   "id": "26646d00-69e8-4440-b82e-6d20d189d753",
   "metadata": {},
   "source": [
    "- You can **get the data type of any object** by using the `type()` function:"
   ]
  },
  {
   "cell_type": "code",
   "execution_count": 7,
   "id": "6c79d060-d19c-42ab-852e-3a124a3479d7",
   "metadata": {
    "tags": []
   },
   "outputs": [
    {
     "data": {
      "text/plain": [
       "str"
      ]
     },
     "execution_count": 7,
     "metadata": {},
     "output_type": "execute_result"
    }
   ],
   "source": [
    "python_course = \"GDSC - Getting Started with Python\"\n",
    "type(python_course)"
   ]
  },
  {
   "cell_type": "code",
   "execution_count": 8,
   "id": "9f213df8-36bb-4437-842c-5e9ced79f8dd",
   "metadata": {
    "tags": []
   },
   "outputs": [
    {
     "data": {
      "text/plain": [
       "int"
      ]
     },
     "execution_count": 8,
     "metadata": {},
     "output_type": "execute_result"
    }
   ],
   "source": [
    "assignment_mark = 9\n",
    "type(assignment_mark)"
   ]
  },
  {
   "cell_type": "markdown",
   "id": "8a58ee52-a63d-441c-832b-e071ef7f1c6b",
   "metadata": {},
   "source": [
    "## 4. Operators in Python"
   ]
  },
  {
   "cell_type": "markdown",
   "id": "b8ac927f-2092-427e-b996-3577636238b6",
   "metadata": {},
   "source": [
    "- Python divides the **[operators](https://www.w3schools.com/python/python_operators.asp)** in the following groups:\n",
    "> - **Arithmetic** operators\n",
    "> - **Assignment** operators\n",
    "> - **Comparison** operators\n",
    "> - Logical operators\n",
    "> - Identity operators\n",
    "> - Membership operators\n",
    "> - Bitwise operators"
   ]
  },
  {
   "cell_type": "markdown",
   "id": "a455636e-b03b-4d12-ba8f-6006897b92f1",
   "metadata": {},
   "source": [
    "## 5. Control Flow"
   ]
  },
  {
   "cell_type": "markdown",
   "id": "c1783afc-4b8e-4bb2-8859-606ea6ba61fb",
   "metadata": {},
   "source": [
    "- With control flow, you can **execute certain code blocks conditionally** and/or repeatedly, **without it, a program is simply a list of statements that are sequentially executed**.\n",
    "- Python supports **many methods** of control flow:\n",
    "> - **Using `if` statements**,\n",
    "> - Using dictionaries,\n",
    "> - Using `try`/`except`,\n",
    "> - The new structural pattern matching in Python 3.10."
   ]
  },
  {
   "cell_type": "markdown",
   "id": "50f1a50d-eaa2-4db4-83ba-e792b8836139",
   "metadata": {},
   "source": [
    "## 6. Loops"
   ]
  },
  {
   "cell_type": "markdown",
   "id": "7f5e8fe0-4328-4b89-9d20-69f4e624745e",
   "metadata": {},
   "source": [
    "- Computers are often used to **automate repetitive tasks**, repeating identical or similar tasks without making errors is something that **computers do well and people do poorly**.\n",
    "- Because iteration is so common, Python provides several language features to make it easier:\n",
    "> - Python `for` (definite) loops,\n",
    "> - Python `while` (indefinte) loops."
   ]
  },
  {
   "cell_type": "markdown",
   "id": "4a3c897c-8041-49d6-8c76-0276ed1e2ae0",
   "metadata": {},
   "source": [
    "## 7. Functions"
   ]
  },
  {
   "cell_type": "markdown",
   "id": "94e2dd62-4f5f-4c5d-a71e-6e020ace181f",
   "metadata": {},
   "source": [
    "- One way to **organize** our Python code and to **make it more readable and reusable** is to factor-out useful pieces into reusable functions.\n",
    "- Functions are **groups of code that have a name and can be called using parenthese**.\n",
    "- Functions can be:\n",
    "> - **Built-in** functions,\n",
    "> - **User-defined** functions.\n",
    "- We’ve seen functions before:"
   ]
  },
  {
   "cell_type": "code",
   "execution_count": 9,
   "id": "f61183f1-a398-4a8a-b0bc-fb471bd26a61",
   "metadata": {
    "tags": []
   },
   "outputs": [],
   "source": [
    "course = \"GDSC - Getting Started with Python\""
   ]
  },
  {
   "cell_type": "code",
   "execution_count": 10,
   "id": "c62aff43-f6cb-4d70-9d21-2e162ca7a89c",
   "metadata": {
    "tags": []
   },
   "outputs": [
    {
     "name": "stdout",
     "output_type": "stream",
     "text": [
      "GDSC - Getting Started with Python\n"
     ]
    }
   ],
   "source": [
    "print(course)"
   ]
  },
  {
   "cell_type": "code",
   "execution_count": 11,
   "id": "10ed7666-4b76-42df-b90d-d9ff64518745",
   "metadata": {
    "tags": []
   },
   "outputs": [
    {
     "data": {
      "text/plain": [
       "str"
      ]
     },
     "execution_count": 11,
     "metadata": {},
     "output_type": "execute_result"
    }
   ],
   "source": [
    "type(course)"
   ]
  },
  {
   "cell_type": "code",
   "execution_count": 12,
   "id": "abef1109-385a-403e-918c-24ea695ba41c",
   "metadata": {
    "tags": []
   },
   "outputs": [
    {
     "data": {
      "text/plain": [
       "2553512785264"
      ]
     },
     "execution_count": 12,
     "metadata": {},
     "output_type": "execute_result"
    }
   ],
   "source": [
    "id(course)"
   ]
  },
  {
   "cell_type": "code",
   "execution_count": 13,
   "id": "38fee480-2d36-4222-8a24-2ebdaf10fe7c",
   "metadata": {
    "tags": []
   },
   "outputs": [
    {
     "name": "stdin",
     "output_type": "stream",
     "text": [
      "Course name:  GDSC - Getting Started with Python\n"
     ]
    },
    {
     "name": "stdout",
     "output_type": "stream",
     "text": [
      "GDSC - Getting Started with Python\n"
     ]
    }
   ],
   "source": [
    "course = input(\"Course name: \")\n",
    "print(course)"
   ]
  },
  {
   "cell_type": "code",
   "execution_count": null,
   "id": "41e42bf3-b591-4817-91af-c52ca7dfd795",
   "metadata": {},
   "outputs": [],
   "source": []
  }
 ],
 "metadata": {
  "kernelspec": {
   "display_name": "Python 3 (ipykernel)",
   "language": "python",
   "name": "python3"
  },
  "language_info": {
   "codemirror_mode": {
    "name": "ipython",
    "version": 3
   },
   "file_extension": ".py",
   "mimetype": "text/x-python",
   "name": "python",
   "nbconvert_exporter": "python",
   "pygments_lexer": "ipython3",
   "version": "3.10.10"
  }
 },
 "nbformat": 4,
 "nbformat_minor": 5
}
