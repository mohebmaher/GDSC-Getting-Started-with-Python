{
 "cells": [
  {
   "cell_type": "markdown",
   "id": "0f0579d6-4c70-4dc0-9d0e-05e0bdb145ae",
   "metadata": {
    "tags": []
   },
   "source": [
    "# Run in Circles"
   ]
  },
  {
   "cell_type": "markdown",
   "id": "c35dc323-85b9-4342-bb8a-c09af46ee10a",
   "metadata": {},
   "source": [
    "- Iteration means **executing the same block of code over and over**, potentially many times.\n",
    "- A programming structure that implements iteration is called a **loop**.\n",
    "- In programming, there are **two types of iteration**, **indefinite** and **definite**:\n",
    "> - With **indefinite** iteration, **the number of times the loop is executed isn’t specified explicitly in advance**, rather, the designated block is executed repeatedly **as long as some condition is met**,\n",
    "> - With **definite** iteration, **the number of times the designated block will be executed is specified explicitly at the time the loop starts**.\n",
    "- In this tutorial, **you’ll**:\n",
    "> - Learn about the **`while` loop**, the Python control structure used for **indefinite** iteration,\n",
    "> - Learn about the **`foor` loop**, the Python control structure used for **definite** iteration."
   ]
  },
  {
   "cell_type": "markdown",
   "id": "4594ca49-ec1e-49e6-ad9f-6fe19e6e40ea",
   "metadata": {},
   "source": [
    "## 1. The `while` Loop"
   ]
  },
  {
   "cell_type": "markdown",
   "id": "65c06d6a-7cba-4863-a4b7-bfa33173fa31",
   "metadata": {},
   "source": [
    "### The Basic Syntax"
   ]
  },
  {
   "cell_type": "markdown",
   "id": "41044e49-5a54-49ae-b7ea-af5801eadf2f",
   "metadata": {},
   "source": [
    "- The **format** of a simple `while` loop is **shown below**:\n",
    "\n",
    "```\n",
    "while <expr>:\n",
    "    <statement(s)>\n",
    "```"
   ]
  },
  {
   "cell_type": "markdown",
   "id": "a56808a2-cdf9-4d83-a61a-2c82118af63e",
   "metadata": {},
   "source": [
    "> - **`<expr>`:** the **controlling expression**, typically involves **one or more variables that are initialized prior to starting the loop** and then modified somewhere in the loop body,\n",
    "> - **`<statement(s)>`:** represents the **block to be repeatedly executed**, often referred to as the **body of the loop**, this is denoted with **indentation**."
   ]
  },
  {
   "cell_type": "markdown",
   "id": "8bf2bb7e-0401-43f7-b47a-22f13054816f",
   "metadata": {},
   "source": [
    "### How It Works"
   ]
  },
  {
   "cell_type": "markdown",
   "id": "85cfd1a0-43ac-4d9c-a329-c041b9ce25d0",
   "metadata": {},
   "source": [
    "- Here’s **what’s happening inside the `while` loop**:\n",
    "> - When a while loop is encountered, **`<expr>` is first evaluated in Boolean context**, if it is `True`, **the loop body is executed**,\n",
    "> - Then **`<expr>` is checked again**, and if still `True`, **the body is executed again**,\n",
    "> - **This continues** until `<expr>` becomes `False`, **at which point program execution proceeds to the first statement beyond the loop body**."
   ]
  },
  {
   "cell_type": "code",
   "execution_count": 1,
   "id": "29b89a43-0954-44f5-8e7d-5344e4219f56",
   "metadata": {
    "tags": []
   },
   "outputs": [
    {
     "name": "stdout",
     "output_type": "stream",
     "text": [
      "5\n",
      "4\n",
      "3\n",
      "2\n",
      "1\n"
     ]
    }
   ],
   "source": [
    "n = 5\n",
    "while n > 0:\n",
    "    print(n)\n",
    "    n -= 1"
   ]
  },
  {
   "cell_type": "markdown",
   "id": "accfc704-4372-4d7f-8460-4fbbacc486a2",
   "metadata": {},
   "source": [
    "- Note that the **controlling expression of the while loop is tested first**, before anything else happens, if it’s `False` **the loop body will never be executed at all**:"
   ]
  },
  {
   "cell_type": "code",
   "execution_count": 2,
   "id": "2170c154-6c1a-47a8-959d-8954dcc72381",
   "metadata": {
    "tags": []
   },
   "outputs": [],
   "source": [
    "n = 0\n",
    "while n > 0:\n",
    "    n -= 1\n",
    "    print(n)"
   ]
  },
  {
   "cell_type": "markdown",
   "id": "43cea9b5-36d4-4437-99bc-6f3c4c7bbb59",
   "metadata": {},
   "source": [
    "- Here’s another `while` loop **involving a `list`**, rather than a numeric comparison:"
   ]
  },
  {
   "cell_type": "code",
   "execution_count": 3,
   "id": "c1071cd9-5460-4adb-91e6-5a4b3761162d",
   "metadata": {
    "tags": []
   },
   "outputs": [
    {
     "name": "stdout",
     "output_type": "stream",
     "text": [
      "Lee Harris\n",
      "Lisa Robles\n",
      "Brenda Simpson\n",
      "Keith Wood\n",
      "Joshua Simpson\n"
     ]
    }
   ],
   "source": [
    "names_list = ['Joshua Simpson', 'Keith Wood', 'Brenda Simpson', 'Lisa Robles', 'Lee Harris']\n",
    "while names_list:\n",
    "    last_name = names_list.pop(-1)\n",
    "    print(last_name)"
   ]
  },
  {
   "cell_type": "markdown",
   "id": "23678880-253b-4220-a004-62513a2f07b6",
   "metadata": {
    "tags": []
   },
   "source": [
    "### Working with `while` Loops"
   ]
  },
  {
   "cell_type": "markdown",
   "id": "743d4e68-74bf-4c9f-8df8-b051a2a2956c",
   "metadata": {},
   "source": [
    "#### The Python `break` and `continue` Statements"
   ]
  },
  {
   "cell_type": "markdown",
   "id": "bcb88312-6a6c-4fa4-b10b-3473c8c98b5d",
   "metadata": {},
   "source": [
    "- Python provides **two keywords that erminate a loop iteration prematurely**:\n",
    "> - The Python `break` statement **immediately terminates a loop entirely**, program execution proceeds to the first statement following the loop body,\n",
    "> - The Python `continue` statement **immediately terminates the current loop iteration**, execution jumps to the top of the loop, and the controlling expression is re-evaluated to determine whether the loop will execute again or terminate.\n",
    "- The **distinction between `break` and `continue`** is demonstrated in the **following diagram**:"
   ]
  },
  {
   "cell_type": "markdown",
   "id": "2d5a351c-8c08-43bf-89d9-130b1711c576",
   "metadata": {},
   "source": [
    "<img style=\"margin-left: auto; margin-right: auto;\" src=\"../Assets/break_and_continue_while_loops.png\">"
   ]
  },
  {
   "cell_type": "markdown",
   "id": "f33e6c35-67a5-4425-8c60-85618fb32e45",
   "metadata": {},
   "source": [
    "- Here’s **two examples** that demonstrates the `break`  and `continue` statements:"
   ]
  },
  {
   "cell_type": "code",
   "execution_count": 4,
   "id": "1504b96c-0a6f-4242-b806-b658cd84261e",
   "metadata": {
    "tags": []
   },
   "outputs": [
    {
     "name": "stdout",
     "output_type": "stream",
     "text": [
      "5\n",
      "4\n",
      "3\n",
      "Loop ended!.\n"
     ]
    }
   ],
   "source": [
    "n = 5\n",
    "while n > 0:\n",
    "    print(n)\n",
    "    n -= 1\n",
    "    if n == 2:\n",
    "        break\n",
    "print('Loop ended!.')"
   ]
  },
  {
   "cell_type": "code",
   "execution_count": 5,
   "id": "6b9b2c49-dc80-43e0-aa29-15436230ebc2",
   "metadata": {
    "tags": []
   },
   "outputs": [
    {
     "name": "stdout",
     "output_type": "stream",
     "text": [
      "5\n",
      "4\n",
      "3\n",
      "2\n",
      "1\n",
      "Loop ended!\n"
     ]
    }
   ],
   "source": [
    "n = 5\n",
    "while n > 0:\n",
    "    print(n)\n",
    "    n -= 1\n",
    "    if n == 2:\n",
    "        continue\n",
    "print('Loop ended!')"
   ]
  },
  {
   "cell_type": "markdown",
   "id": "0b1704cd-2869-4e97-8d41-dff073449997",
   "metadata": {},
   "source": [
    "#### The `else` Clause"
   ]
  },
  {
   "cell_type": "markdown",
   "id": "f0106fc1-49d6-430a-8b52-77d54888a48c",
   "metadata": {},
   "source": [
    "- Python allows an **optional `else` clause at the end of a while loop**.\n",
    "- The **syntax** is shown below:\n",
    "```\n",
    "while <expr>:\n",
    "    <statement(s)>\n",
    "else:\n",
    "    <additional_statement(s)>\n",
    "```\n",
    "- The `<additional_statement(s)>` specified in the `else` clause **will be executed when the `while` loop terminates “by exhaustion”**."
   ]
  },
  {
   "cell_type": "markdown",
   "id": "eaf69ecf-60c5-44c4-891d-c39d180cfb00",
   "metadata": {},
   "source": [
    "- Consider the **difference** between these two examples:"
   ]
  },
  {
   "cell_type": "code",
   "execution_count": 6,
   "id": "be724901-f352-41ea-a94c-1ab25167d763",
   "metadata": {
    "tags": []
   },
   "outputs": [
    {
     "name": "stdout",
     "output_type": "stream",
     "text": [
      "5\n",
      "4\n",
      "3\n",
      "2\n",
      "1\n",
      "Loop ended!\n"
     ]
    }
   ],
   "source": [
    "n = 5\n",
    "while n > 0:\n",
    "    print(n)\n",
    "    n -= 1\n",
    "else:\n",
    "    print('Loop ended!')"
   ]
  },
  {
   "cell_type": "code",
   "execution_count": 7,
   "id": "ca63809e-117b-4963-b697-a4f669416690",
   "metadata": {
    "tags": []
   },
   "outputs": [
    {
     "data": {
      "text/plain": [
       "False"
      ]
     },
     "execution_count": 7,
     "metadata": {},
     "output_type": "execute_result"
    }
   ],
   "source": [
    "n > 0"
   ]
  },
  {
   "cell_type": "code",
   "execution_count": 8,
   "id": "9dc27b58-046c-4b54-ac57-6d342df864ea",
   "metadata": {
    "tags": []
   },
   "outputs": [
    {
     "name": "stdout",
     "output_type": "stream",
     "text": [
      "5\n",
      "4\n",
      "3\n"
     ]
    }
   ],
   "source": [
    "n = 5\n",
    "while n > 0:\n",
    "    print(n)\n",
    "    n -= 1\n",
    "    if n == 2:\n",
    "        break\n",
    "else:\n",
    "    print('Loop ended!')"
   ]
  },
  {
   "cell_type": "code",
   "execution_count": 9,
   "id": "4e57f230-17f0-489a-a9a7-832174c7b7c2",
   "metadata": {
    "tags": []
   },
   "outputs": [
    {
     "data": {
      "text/plain": [
       "True"
      ]
     },
     "execution_count": 9,
     "metadata": {},
     "output_type": "execute_result"
    }
   ],
   "source": [
    "n > 0"
   ]
  },
  {
   "cell_type": "markdown",
   "id": "79da853f-d9b3-48ab-a14b-610f24994342",
   "metadata": {},
   "source": [
    "- **When might an else clause on a while loop be useful?**\n",
    "> - One common situation is **if you are searching a list for a specific item**,\n",
    "> - You can use `break` to **exit the loop if the item is found**, and the `else` clause can contain code that is meant to be **executed if the item isn’t found**:"
   ]
  },
  {
   "cell_type": "code",
   "execution_count": 10,
   "id": "499a14f8-0a31-4d27-8dce-ffc07b35f391",
   "metadata": {
    "tags": []
   },
   "outputs": [],
   "source": [
    "names_list = ['Joshua Simpson', 'Keith Wood', 'Brenda Simpson', 'Lisa Robles', 'Lee Harris']\n",
    "# name_to_search = \"Guido Van Rossum\"\n",
    "name_to_search = \"Joshua Simpson\""
   ]
  },
  {
   "cell_type": "code",
   "execution_count": 11,
   "id": "b22a1f64-41f0-4f80-adb2-45797385cdd8",
   "metadata": {
    "tags": []
   },
   "outputs": [],
   "source": [
    "i = 0\n",
    "while i != len(names_list):\n",
    "    name = names_list[i]\n",
    "    if name == name_to_search:\n",
    "        break\n",
    "    i += 1\n",
    "else:\n",
    "    print(\"The name is NOT found!\")"
   ]
  },
  {
   "cell_type": "code",
   "execution_count": 12,
   "id": "2675fb02-2285-4213-ae51-043cbeece399",
   "metadata": {
    "tags": []
   },
   "outputs": [],
   "source": [
    "if name_to_search not in names_list:\n",
    "    print(\"The name is NOT found!\")"
   ]
  },
  {
   "cell_type": "markdown",
   "id": "273b3b7a-0923-4f09-847a-e6ba8c14ea22",
   "metadata": {},
   "source": [
    "#### Infinite Loops"
   ]
  },
  {
   "cell_type": "markdown",
   "id": "f4138551-b703-4b65-b966-76f12c6fceb3",
   "metadata": {},
   "source": [
    "- Suppose you write a `while` loop that theoretically **never ends**:"
   ]
  },
  {
   "cell_type": "code",
   "execution_count": 13,
   "id": "beb655ef-8eb5-4c03-9d6b-94cd3a06b640",
   "metadata": {
    "tags": []
   },
   "outputs": [],
   "source": [
    "# n = 0\n",
    "# while True:\n",
    "#     n += 1"
   ]
  },
  {
   "cell_type": "code",
   "execution_count": 14,
   "id": "12edeaa1-cd9a-4784-8d15-fb9546acaf29",
   "metadata": {
    "tags": []
   },
   "outputs": [
    {
     "data": {
      "text/plain": [
       "2"
      ]
     },
     "execution_count": 14,
     "metadata": {},
     "output_type": "execute_result"
    }
   ],
   "source": [
    "n"
   ]
  },
  {
   "cell_type": "markdown",
   "id": "3f737932-5066-4ec3-8960-28ea3190ea5e",
   "metadata": {},
   "source": [
    "- This pattern is actually **quite common**, remember that **loops can be broken out of with the `break` statement**:\n",
    "> - It may be more straightforward to **terminate a loop based on conditions recognized within the loop body**, rather than on a condition evaluated at the top,\n",
    "> - You can also specify **multiple break statements within a loop**."
   ]
  },
  {
   "cell_type": "markdown",
   "id": "f5412226-d80d-48f3-8b09-1fc97fa8b7c8",
   "metadata": {},
   "source": [
    "- Here’s **another variant of the loop shown above** that successively removes items from a list using `.pop()` until it is empty:"
   ]
  },
  {
   "cell_type": "code",
   "execution_count": 15,
   "id": "b5745d68-9f74-4000-a3a5-f12ef36017bf",
   "metadata": {
    "tags": []
   },
   "outputs": [
    {
     "name": "stdout",
     "output_type": "stream",
     "text": [
      "Lee Harris\n",
      "Lisa Robles\n",
      "Brenda Simpson\n",
      "Keith Wood\n",
      "Joshua Simpson\n"
     ]
    }
   ],
   "source": [
    "names_list = ['Joshua Simpson', 'Keith Wood', 'Brenda Simpson', 'Lisa Robles', 'Lee Harris']\n",
    "while names_list:\n",
    "    last_name = names_list.pop(-1)\n",
    "    print(last_name)"
   ]
  },
  {
   "cell_type": "code",
   "execution_count": 16,
   "id": "ebc9cae1-36f2-47f7-a831-5f995f098622",
   "metadata": {
    "tags": []
   },
   "outputs": [
    {
     "name": "stdout",
     "output_type": "stream",
     "text": [
      "Lee Harris\n",
      "Lisa Robles\n",
      "Brenda Simpson\n",
      "Keith Wood\n",
      "Joshua Simpson\n"
     ]
    }
   ],
   "source": [
    "names_list = ['Joshua Simpson', 'Keith Wood', 'Brenda Simpson', 'Lisa Robles', 'Lee Harris']\n",
    "while True:\n",
    "    if not names_list:\n",
    "        break\n",
    "    last_name = names_list.pop(-1)\n",
    "    print(last_name)"
   ]
  },
  {
   "cell_type": "markdown",
   "id": "392c2c0d-ea92-4174-b0d9-02acbfabb0c3",
   "metadata": {},
   "source": [
    "- In cases where **there are multiple reasons to end the loop**, it is often cleaner to **break out from several different locations**, rather than try to specify all the termination conditions in the loop header:"
   ]
  },
  {
   "cell_type": "code",
   "execution_count": 17,
   "id": "019da9d8-56f3-4239-86a7-d5a5e90cb697",
   "metadata": {
    "tags": []
   },
   "outputs": [],
   "source": [
    "names_list = ('Joshua Simpson', 'Keith Wood', 'Brenda Simpson', 'Lisa Robles', 'Lee Harris')\n",
    "while True:\n",
    "    if not isinstance(names_list, list):\n",
    "        break\n",
    "    if not names_list:\n",
    "        break\n",
    "    last_name = names_list.pop(-1)\n",
    "    print(last_name)"
   ]
  },
  {
   "cell_type": "markdown",
   "id": "bb0e084b-9095-4959-8089-cd29aec9da95",
   "metadata": {},
   "source": [
    "#### Nested `while` Loops"
   ]
  },
  {
   "cell_type": "markdown",
   "id": "1107f1fb-333b-426c-b65e-911c9d2a6f28",
   "metadata": {},
   "source": [
    "- A `while` loop can be **contained within** another `while` loop, as shown here:"
   ]
  },
  {
   "cell_type": "code",
   "execution_count": 18,
   "id": "93a516a2-ab40-4514-8c04-2df1dc943d2b",
   "metadata": {
    "tags": []
   },
   "outputs": [
    {
     "name": "stdout",
     "output_type": "stream",
     "text": [
      "8\n",
      "7\n",
      "6\n",
      "5\n",
      "4\n",
      "3\n",
      "2\n",
      "1\n"
     ]
    }
   ],
   "source": [
    "a = [4, 5, 6, 7]\n",
    "b = [1, 2, 3, 8]\n",
    "while len(b):\n",
    "    b_element = b.pop(-1)\n",
    "    print(b_element)\n",
    "    while len(a):\n",
    "        a_element = a.pop(-1)\n",
    "        print(a_element)"
   ]
  },
  {
   "cell_type": "markdown",
   "id": "e1b7742f-e663-4cef-b827-22773d6b28c1",
   "metadata": {},
   "source": [
    "- A `break` or `continue` statement found **within** nested loops **applies to the nearest enclosing loop**:"
   ]
  },
  {
   "cell_type": "code",
   "execution_count": 19,
   "id": "a8e1d9e2-4310-4297-be9b-6176c9f9b1e9",
   "metadata": {
    "tags": []
   },
   "outputs": [
    {
     "name": "stdout",
     "output_type": "stream",
     "text": [
      "8\n",
      "7\n",
      "6\n",
      "3\n",
      "4\n",
      "2\n",
      "1\n"
     ]
    }
   ],
   "source": [
    "a = [4, 5, 6, 7]\n",
    "b = [1, 2, 3, 8]\n",
    "while len(b):\n",
    "    b_element = b.pop(-1)\n",
    "    print(b_element)\n",
    "    while len(a):\n",
    "        a_element = a.pop(-1)\n",
    "        if a_element == 5:\n",
    "            break\n",
    "        print(a_element)"
   ]
  },
  {
   "cell_type": "markdown",
   "id": "f456c542-0f0f-48ba-8802-c4071d54d8a0",
   "metadata": {},
   "source": [
    "- In fact, **all the Python control structures can be intermingled with one another** to whatever extent you need."
   ]
  },
  {
   "cell_type": "markdown",
   "id": "b767af3d-592c-434e-acc4-dc305149d6d4",
   "metadata": {},
   "source": [
    "#### One-Line `while` Loops"
   ]
  },
  {
   "cell_type": "markdown",
   "id": "1299de1e-2606-41fe-9d1d-2c47a93935e1",
   "metadata": {},
   "source": [
    "- A `while` loop can be **specified on one line**.\n",
    "- If there are **multiple statements** in the block that makes up the loop body, they can be **separated by semicolons (`;`)**:"
   ]
  },
  {
   "cell_type": "code",
   "execution_count": 20,
   "id": "4ec731b7-c3da-4d59-9416-cfe70ba94fbe",
   "metadata": {
    "tags": []
   },
   "outputs": [
    {
     "name": "stdout",
     "output_type": "stream",
     "text": [
      "4\n",
      "3\n",
      "2\n",
      "1\n",
      "0\n"
     ]
    }
   ],
   "source": [
    "n = 5\n",
    "while n > 0:\n",
    "    n -= 1\n",
    "    print(n)"
   ]
  },
  {
   "cell_type": "code",
   "execution_count": 21,
   "id": "933f0091-6652-4407-b86c-e83b7862af25",
   "metadata": {
    "tags": []
   },
   "outputs": [
    {
     "name": "stdout",
     "output_type": "stream",
     "text": [
      "4\n",
      "3\n",
      "2\n",
      "1\n",
      "0\n"
     ]
    }
   ],
   "source": [
    "n = 5\n",
    "while n > 0: n -= 1; print(n)"
   ]
  },
  {
   "cell_type": "markdown",
   "id": "324c2745-613a-4932-8cba-c6750dce3fa4",
   "metadata": {},
   "source": [
    "- This only works with simple statements though, **remember that [PEP 8](https://peps.python.org/pep-0008/) discourages multiple statements on one line**:"
   ]
  },
  {
   "cell_type": "code",
   "execution_count": 22,
   "id": "a1e8a641-2ad7-4bf4-beb5-10b09d5799ed",
   "metadata": {
    "tags": []
   },
   "outputs": [
    {
     "ename": "SyntaxError",
     "evalue": "invalid syntax (3556355271.py, line 2)",
     "output_type": "error",
     "traceback": [
      "\u001b[1;36m  Cell \u001b[1;32mIn[22], line 2\u001b[1;36m\u001b[0m\n\u001b[1;33m    while n > 0: n -= 1; if True: print(\"n > 0\")\u001b[0m\n\u001b[1;37m                         ^\u001b[0m\n\u001b[1;31mSyntaxError\u001b[0m\u001b[1;31m:\u001b[0m invalid syntax\n"
     ]
    }
   ],
   "source": [
    "n = 5\n",
    "while n > 0: n -= 1; if True: print(\"n > 0\")"
   ]
  },
  {
   "cell_type": "code",
   "execution_count": null,
   "id": "f183045a-79ae-4ffd-a2d4-59ba817b32d5",
   "metadata": {
    "tags": []
   },
   "outputs": [],
   "source": [
    "n = 5\n",
    "while n > 0:\n",
    "    n -= 1\n",
    "    if True: print(\"n > 0\")"
   ]
  },
  {
   "cell_type": "markdown",
   "id": "2d57c070-4ae5-485b-aedb-3af3726a91b9",
   "metadata": {},
   "source": [
    "- Test your knowledge with interactive **“Python `while` Loops”** quiz!"
   ]
  },
  {
   "cell_type": "markdown",
   "id": "637080c2-1282-4d40-8d02-64dfe51a80aa",
   "metadata": {},
   "source": [
    "## 2. The `for` Loop"
   ]
  },
  {
   "cell_type": "markdown",
   "id": "cc6eb698-e6e8-4372-8e2d-97338b6ffcb4",
   "metadata": {},
   "source": [
    "### The Basic Syntax"
   ]
  },
  {
   "cell_type": "markdown",
   "id": "6908a471-dd57-49c7-968d-097e04ce8750",
   "metadata": {},
   "source": [
    "- The **format** of a simple `for` loop is **shown below**:\n",
    "```\n",
    "for <var> in <iterable>:\n",
    "    <statement(s)>\n",
    "```"
   ]
  },
  {
   "cell_type": "markdown",
   "id": "3ce5e343-b113-4dcc-9285-ca0a5149bbe6",
   "metadata": {},
   "source": [
    "> - **`<var>`:** the loop variable, takes on the **value of the next element in `<iterable>`** each time through the loop,\n",
    "> - **`<iterable>`:** any object of **collection** data structures (`list` - `tuple` - `dict` - `set` - `range`),\n",
    "> - **`<statement(s)>`:** lies **within the loop** body are **denoted by indentation**, and are executed once for each item in `<iterable>`."
   ]
  },
  {
   "cell_type": "markdown",
   "id": "b051d56e-9826-4863-8aaa-0d0b2ade2f54",
   "metadata": {},
   "source": [
    "### How It Works"
   ]
  },
  {
   "cell_type": "markdown",
   "id": "40097880-3781-4097-8e7a-79bdbee61cb5",
   "metadata": {},
   "source": [
    "- Here’s **what’s happening inside the `for` loop**:\n",
    "> - At each step of the loop, **`<var>` is assigned the next element in `<iterable>`**,\n",
    "> - Then **<statement(s)> are excuted**,\n",
    "> - The loops runs **once for each element** in `<iterable>` so the loop body executes `n = len(iterable)` times."
   ]
  },
  {
   "cell_type": "code",
   "execution_count": 23,
   "id": "bfed37c7-e2f2-4447-88cd-3fc4bce23508",
   "metadata": {
    "tags": []
   },
   "outputs": [
    {
     "name": "stdout",
     "output_type": "stream",
     "text": [
      "4\n",
      "3\n",
      "2\n",
      "1\n",
      "0\n"
     ]
    }
   ],
   "source": [
    "nums_list = [4, 3, 2, 1, 0]\n",
    "for n in nums_list:\n",
    "    print(n)"
   ]
  },
  {
   "cell_type": "code",
   "execution_count": 24,
   "id": "c8d444d7-9d02-4007-af05-c88cbb5a52d9",
   "metadata": {
    "tags": []
   },
   "outputs": [
    {
     "data": {
      "text/plain": [
       "5"
      ]
     },
     "execution_count": 24,
     "metadata": {},
     "output_type": "execute_result"
    }
   ],
   "source": [
    "len(nums_list)"
   ]
  },
  {
   "cell_type": "markdown",
   "id": "a0e9f0db-057b-4d0f-88f2-d6c9fee2be6f",
   "metadata": {},
   "source": [
    "- Before proceeding, let’s review some **relevant terms**:\n",
    "> - **Iteration:** the process of **looping through** the objects or items in a collection,\n",
    "> - **Iterable:** an object that can be **iterated over**,\n",
    "> - **Iterator:** the object that **produces successive items or values** from its associated iterable,\n",
    "> - **`iter()`:** the built-in function used to **obtain an iterator from an iterable**."
   ]
  },
  {
   "cell_type": "markdown",
   "id": "6e1a5160-076d-4dae-baf6-18f8739c0453",
   "metadata": {},
   "source": [
    "- Now, consider again the **simple `for` loop** presented at the start of this tutorial:"
   ]
  },
  {
   "cell_type": "code",
   "execution_count": 25,
   "id": "9c64ba89-5049-4c0d-ab5e-1fcfe099d4e2",
   "metadata": {
    "tags": []
   },
   "outputs": [
    {
     "name": "stdout",
     "output_type": "stream",
     "text": [
      "4\n",
      "3\n",
      "2\n",
      "1\n",
      "0\n"
     ]
    }
   ],
   "source": [
    "nums_list = [4, 3, 2, 1, 0]\n",
    "for n in nums_list:\n",
    "    print(n)"
   ]
  },
  {
   "cell_type": "markdown",
   "id": "621fce40-c762-42bd-816e-e8311a04d397",
   "metadata": {
    "tags": []
   },
   "source": [
    "- Python does the **following**:\n",
    "> - Calls `iter()` to obtain an **iterator** from `nums_list`,\n",
    "> - Calls `next()` repeatedly to obtain **each item from the iterator** in turn,\n",
    "> - Terminates the loop **when `next()` raises the StopIteration exception**."
   ]
  },
  {
   "cell_type": "markdown",
   "id": "232a9472-878b-445a-83c3-dbe4f7b5a4f1",
   "metadata": {},
   "source": [
    "### Working with `for` Loops"
   ]
  },
  {
   "cell_type": "markdown",
   "id": "1e396945-8749-44ea-a37d-b93361ce4945",
   "metadata": {},
   "source": [
    "#### The Python `break` and `continue` Statements"
   ]
  },
  {
   "cell_type": "markdown",
   "id": "c2ebfd91-cf90-4da2-887a-c2cd497d0231",
   "metadata": {},
   "source": [
    "- `break` and `continue` **work the same way** with `for` loops as with `while` loops:\n",
    "> - `break` **terminates the loop completely** and proceeds to the first statement following the loop,\n",
    "> - `continue` **terminates the current iteration** and proceeds to the next iteration."
   ]
  },
  {
   "cell_type": "code",
   "execution_count": 26,
   "id": "80c1daa0-c6e3-4040-b4d6-45772cf1bfe3",
   "metadata": {
    "tags": []
   },
   "outputs": [],
   "source": [
    "names_list = ['Joshua Simpson', 'Keith Wood', 'Brenda Simpson', 'Lisa Robles', 'Lee Harris']"
   ]
  },
  {
   "cell_type": "code",
   "execution_count": 27,
   "id": "45a4f908-2cf0-4b94-8f05-b66c57150607",
   "metadata": {
    "tags": []
   },
   "outputs": [
    {
     "name": "stdout",
     "output_type": "stream",
     "text": [
      "Joshua Simpson\n",
      "Keith Wood\n"
     ]
    }
   ],
   "source": [
    "for name in names_list:\n",
    "    if name == \"Brenda Simpson\":\n",
    "        break\n",
    "    print(name)"
   ]
  },
  {
   "cell_type": "code",
   "execution_count": 28,
   "id": "d9d341d7-b1b2-4e90-aaf8-b30f3902236e",
   "metadata": {
    "tags": []
   },
   "outputs": [
    {
     "name": "stdout",
     "output_type": "stream",
     "text": [
      "Joshua Simpson\n",
      "Keith Wood\n",
      "Lisa Robles\n",
      "Lee Harris\n"
     ]
    }
   ],
   "source": [
    "for name in names_list:\n",
    "    if name == \"Brenda Simpson\":\n",
    "        continue\n",
    "    print(name)"
   ]
  },
  {
   "cell_type": "markdown",
   "id": "15afb2ea-fdbe-46ea-926c-e5b7957563dc",
   "metadata": {},
   "source": [
    "#### The `else` Clause"
   ]
  },
  {
   "cell_type": "markdown",
   "id": "e8508a9f-85ff-4eae-b143-cc9a947dfdf2",
   "metadata": {},
   "source": [
    "- A `for` loop can have an `else` clause as well, **the interpretation is analogous to that of a `while` loop**.\n",
    "- The **syntax** is shown below:\n",
    "```\n",
    "for <var> in <iterable>:\n",
    "    <statement(s)>\n",
    "else:\n",
    "    <additional_statement(s)>\n",
    "```\n",
    "- The `<additional_statement(s)>` specified in the `else` clause **will be executed when the `for` loop terminates “by exhaustion”**."
   ]
  },
  {
   "cell_type": "markdown",
   "id": "331697bd-c3fd-49e9-939f-deff51845d44",
   "metadata": {},
   "source": [
    "- Consider the **difference** between these two examples:"
   ]
  },
  {
   "cell_type": "code",
   "execution_count": 29,
   "id": "6bb39857-bbc3-4d50-971d-1e285bce382c",
   "metadata": {
    "tags": []
   },
   "outputs": [
    {
     "name": "stdout",
     "output_type": "stream",
     "text": [
      "4\n",
      "3\n",
      "2\n",
      "1\n",
      "0\n",
      "Loop ended!\n"
     ]
    }
   ],
   "source": [
    "nums_list = [4, 3, 2, 1, 0]\n",
    "for n in nums_list:\n",
    "    print(n)\n",
    "else:\n",
    "    print(\"Loop ended!\")"
   ]
  },
  {
   "cell_type": "code",
   "execution_count": 30,
   "id": "f8f91507-e3e3-4f1f-903a-399aebdefd82",
   "metadata": {
    "tags": []
   },
   "outputs": [
    {
     "name": "stdout",
     "output_type": "stream",
     "text": [
      "4\n",
      "3\n",
      "2\n"
     ]
    }
   ],
   "source": [
    "nums_list = [4, 3, 2, 1, 0]\n",
    "for n in nums_list:\n",
    "    print(n)\n",
    "    if n == 2:\n",
    "        break\n",
    "else:\n",
    "    print(\"Loop ended!\")"
   ]
  },
  {
   "cell_type": "markdown",
   "id": "b67d7ab2-bd38-41ec-afc5-3da9127f7db2",
   "metadata": {},
   "source": [
    "#### Nested `for` Loops"
   ]
  },
  {
   "cell_type": "markdown",
   "id": "49aaaa8e-b195-4950-840d-bd7b1a3e2fbd",
   "metadata": {},
   "source": [
    "- A `for` loop can be **contained within** another `for` loop, as shown here:"
   ]
  },
  {
   "cell_type": "code",
   "execution_count": 31,
   "id": "a32d19bb-1a18-4076-99fc-601185137ce4",
   "metadata": {
    "tags": []
   },
   "outputs": [],
   "source": [
    "size = 100"
   ]
  },
  {
   "cell_type": "code",
   "execution_count": 32,
   "id": "b927202f-9445-4cee-83f6-619432e575f0",
   "metadata": {
    "tags": []
   },
   "outputs": [
    {
     "data": {
      "text/plain": [
       "100"
      ]
     },
     "execution_count": 32,
     "metadata": {},
     "output_type": "execute_result"
    }
   ],
   "source": [
    "nums_list = list(range(size))\n",
    "len(nums_list)"
   ]
  },
  {
   "cell_type": "code",
   "execution_count": 33,
   "id": "9f9e8e62-795b-4397-a7a5-a9ae62cd354a",
   "metadata": {
    "tags": []
   },
   "outputs": [
    {
     "data": {
      "text/plain": [
       "197"
      ]
     },
     "execution_count": 33,
     "metadata": {},
     "output_type": "execute_result"
    }
   ],
   "source": [
    "target = sum(nums_list[-2:])\n",
    "target"
   ]
  },
  {
   "cell_type": "code",
   "execution_count": 34,
   "id": "8f7504ef-7681-4b8c-b539-e86c4ed7b43d",
   "metadata": {
    "tags": []
   },
   "outputs": [
    {
     "name": "stdout",
     "output_type": "stream",
     "text": [
      "98 99\n",
      "CPU times: total: 15.6 ms\n",
      "Wall time: 12 ms\n"
     ]
    }
   ],
   "source": [
    "%%time\n",
    "for i in range(len(nums_list) - 1):\n",
    "    for j in range(i + 1, len(nums_list)):\n",
    "        a = nums_list[i]\n",
    "        b = nums_list[j]\n",
    "        if a + b == target:\n",
    "            print(a, b)\n",
    "            break"
   ]
  },
  {
   "cell_type": "markdown",
   "id": "478d923a-16e9-4b42-962c-ebc471e163c0",
   "metadata": {},
   "source": [
    "- Although nested loops are not always bad to use, **they are considered bad practices due to the following significant reasons**:\n",
    "> - Decreased **readability** of code,\n",
    "> - Reduced **performance**,\n",
    "> - Harder **debugging**."
   ]
  },
  {
   "cell_type": "markdown",
   "id": "1f0f9c63-a9d9-4d8a-aaad-23575d203848",
   "metadata": {},
   "source": [
    "- There is always an **efficient and better alternative to everything** in programming:"
   ]
  },
  {
   "cell_type": "code",
   "execution_count": 35,
   "id": "67877acd-386e-43cc-ab8a-7bc5cfa7e94b",
   "metadata": {
    "tags": []
   },
   "outputs": [
    {
     "name": "stdout",
     "output_type": "stream",
     "text": [
      "98 99\n",
      "CPU times: total: 0 ns\n",
      "Wall time: 1e+03 µs\n"
     ]
    }
   ],
   "source": [
    "%%time\n",
    "for a in nums_list:\n",
    "    b = target - a\n",
    "    if b in nums_list:\n",
    "        print(a, b)\n",
    "        break"
   ]
  },
  {
   "cell_type": "markdown",
   "id": "8d1da0bf-f21c-4024-8e7d-e93d70df3c62",
   "metadata": {},
   "source": [
    "#### One-Line `for` Loops"
   ]
  },
  {
   "cell_type": "markdown",
   "id": "f2702658-712c-4a21-bdcc-bf738d4adce7",
   "metadata": {},
   "source": [
    "- A `for` loop can be **specified on one line**.\n",
    "- If there are **multiple statements** in the block that makes up the loop body, they can be **separated by semicolons (`;`)**:"
   ]
  },
  {
   "cell_type": "code",
   "execution_count": 36,
   "id": "702fdfde-b79a-4542-8ae7-24dc5b904b95",
   "metadata": {
    "tags": []
   },
   "outputs": [
    {
     "name": "stdout",
     "output_type": "stream",
     "text": [
      "5\n",
      "4\n",
      "3\n",
      "2\n",
      "1\n"
     ]
    }
   ],
   "source": [
    "nums_list = [4, 3, 2, 1, 0]\n",
    "for n in nums_list: n += 1; print(n)"
   ]
  },
  {
   "cell_type": "markdown",
   "id": "4121f68d-2272-4429-af24-3fbae90b541c",
   "metadata": {},
   "source": [
    "- Again, this only works with simple statements though, **remember that [PEP 8](https://peps.python.org/pep-0008/) discourages multiple statements on one line**:"
   ]
  },
  {
   "cell_type": "code",
   "execution_count": 37,
   "id": "9d3dcfe2-4a73-4766-8fad-b0e7f9686b53",
   "metadata": {
    "tags": []
   },
   "outputs": [
    {
     "ename": "SyntaxError",
     "evalue": "invalid syntax (1836842110.py, line 2)",
     "output_type": "error",
     "traceback": [
      "\u001b[1;36m  Cell \u001b[1;32mIn[37], line 2\u001b[1;36m\u001b[0m\n\u001b[1;33m    for n in nums_list: if n % 2 == 0: print(n)\u001b[0m\n\u001b[1;37m                        ^\u001b[0m\n\u001b[1;31mSyntaxError\u001b[0m\u001b[1;31m:\u001b[0m invalid syntax\n"
     ]
    }
   ],
   "source": [
    "nums_list = [4, 3, 2, 1, 0]\n",
    "for n in nums_list: if n % 2 == 0: print(n)"
   ]
  },
  {
   "cell_type": "code",
   "execution_count": 38,
   "id": "063d2ba0-fca7-47d2-89ce-01d69eed9a4a",
   "metadata": {
    "tags": []
   },
   "outputs": [
    {
     "name": "stdout",
     "output_type": "stream",
     "text": [
      "4\n",
      "2\n",
      "0\n"
     ]
    }
   ],
   "source": [
    "nums_list = [4, 3, 2, 1, 0]\n",
    "for n in nums_list:\n",
    "    if n % 2 == 0: print(n)"
   ]
  },
  {
   "cell_type": "code",
   "execution_count": null,
   "id": "dab2be70-353c-4528-9daf-dd59fc714c77",
   "metadata": {},
   "outputs": [],
   "source": []
  }
 ],
 "metadata": {
  "kernelspec": {
   "display_name": "GDSC",
   "language": "python",
   "name": "gdsc"
  },
  "language_info": {
   "codemirror_mode": {
    "name": "ipython",
    "version": 3
   },
   "file_extension": ".py",
   "mimetype": "text/x-python",
   "name": "python",
   "nbconvert_exporter": "python",
   "pygments_lexer": "ipython3",
   "version": "3.10.10"
  }
 },
 "nbformat": 4,
 "nbformat_minor": 5
}
