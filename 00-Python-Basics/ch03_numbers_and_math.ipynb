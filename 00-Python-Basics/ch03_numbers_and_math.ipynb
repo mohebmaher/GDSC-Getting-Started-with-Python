{
 "cells": [
  {
   "cell_type": "markdown",
   "id": "fdfa0f93-891f-4841-95bc-84c9a9778198",
   "metadata": {
    "pycharm": {
     "name": "#%% md\n"
    }
   },
   "source": [
    "# Numbers and Math"
   ]
  },
  {
   "cell_type": "code",
   "execution_count": 1,
   "id": "3a99fe5b-e300-4da7-a52a-7b6671096be4",
   "metadata": {
    "pycharm": {
     "name": "#%%\n"
    }
   },
   "outputs": [],
   "source": [
    "# Beautify Python code automatically using Black.\n",
    "# %load_ext lab_black"
   ]
  },
  {
   "cell_type": "markdown",
   "id": "463ed2b6-e4b1-4398-9713-c4e1d321abfd",
   "metadata": {
    "pycharm": {
     "name": "#%% md\n"
    }
   },
   "source": [
    "- In this chapter, you will learn how to:\n",
    "> - Work with Python’s two built-in number types: **integer**, **floating-point**,\n",
    "> - Basic **arithmetic operations** and expressions."
   ]
  },
  {
   "cell_type": "markdown",
   "id": "98d77dd7-8b53-4756-9a31-ea0b13a3c7c4",
   "metadata": {
    "pycharm": {
     "name": "#%% md\n"
    },
    "tags": []
   },
   "source": [
    "## 1. Integers and Floating-Point Numbers"
   ]
  },
  {
   "cell_type": "markdown",
   "id": "5b5f859d-7bfa-403a-a31e-7e95ae6f6422",
   "metadata": {
    "pycharm": {
     "name": "#%% md\n"
    }
   },
   "source": [
    "- Notes on **number sets**:\n",
    "> - **Natural** Numbers - Common counting numbers.\n",
    "> - **Prime** Number - A natural number greater than 1 which has only 1 and itself as factors.\n",
    "> - **Composite** Number - A natural number greater than 1 which has more factors than 1 and itself.\n",
    "> - **Whole** Numbers - The set of Natural Numbers with the number 0 adjoined.\n",
    "> - **Integers** - Whole Numbers with their opposites (negative numbers) adjoined.\n",
    "> - **Rational** Numbers - All numbers which can be written as fractions.\n",
    "> - **Irrational** Numbers - All numbers which cannot be written as fractions.\n",
    "> - **Real** Numbers - The set of Rational Numbers with the set of Irrational Numbers adjoined.\n",
    "> - **Complex** Number - A number which can be written in the form a + bi where a and b are real numbers and i is the square root of -1."
   ]
  },
  {
   "cell_type": "markdown",
   "id": "cd18c4df-080b-4e0f-abfe-ea3a34a2f336",
   "metadata": {
    "pycharm": {
     "name": "#%% md\n"
    }
   },
   "source": [
    "- Python has **three built-in** number data types:\n",
    "> 1. **Integers**,\n",
    "> 2. **Floating-point** numbers,\n",
    "> 3. Complex numbers.\n",
    "\n",
    "- In this section, you’ll learn about **integers** and **floating-point numbers**, which are the two most commonly used number types. "
   ]
  },
  {
   "cell_type": "markdown",
   "id": "8537fdcf-0d16-4e7a-8988-6ffbc79d46b9",
   "metadata": {
    "pycharm": {
     "name": "#%% md\n"
    }
   },
   "source": [
    "### 1.1. Integers"
   ]
  },
  {
   "cell_type": "markdown",
   "id": "00370a1c-00a8-4d41-a39e-1ca3a62a4a1a",
   "metadata": {
    "pycharm": {
     "name": "#%% md\n"
    }
   },
   "source": [
    "- An integer is a **whole number with no decimal places**.\n",
    "- The name for the integer data type is `int`, which you can see with the `type()` function:"
   ]
  },
  {
   "cell_type": "code",
   "execution_count": 2,
   "id": "ccf22f9d-9d47-47dd-8865-b1a88703dfdd",
   "metadata": {
    "pycharm": {
     "name": "#%%\n"
    }
   },
   "outputs": [
    {
     "data": {
      "text/plain": [
       "int"
      ]
     },
     "execution_count": 2,
     "metadata": {},
     "output_type": "execute_result"
    }
   ],
   "source": [
    "type(1)  # An integer."
   ]
  },
  {
   "cell_type": "code",
   "execution_count": 3,
   "id": "a128960a-470c-44b4-8ed3-e6b0b363f536",
   "metadata": {
    "pycharm": {
     "name": "#%%\n"
    }
   },
   "outputs": [
    {
     "data": {
      "text/plain": [
       "float"
      ]
     },
     "execution_count": 3,
     "metadata": {},
     "output_type": "execute_result"
    }
   ],
   "source": [
    "type(1.0)  # Not an integer."
   ]
  },
  {
   "cell_type": "markdown",
   "id": "8782f7d7-fc6c-49f1-b4d2-0d7981170eac",
   "metadata": {
    "pycharm": {
     "name": "#%% md\n"
    }
   },
   "source": [
    "- You can **create an integer** by:\n",
    "> - Simply typing the number explicitly (**integer literal** - an integer literal is an integer value that is written explicitly in your\n",
    "code),\n",
    "> - Using the `int()` function (**constructor**)."
   ]
  },
  {
   "cell_type": "code",
   "execution_count": 2,
   "id": "104e1647-59d9-4fef-ac28-8b78318caed3",
   "metadata": {
    "pycharm": {
     "name": "#%%\n"
    }
   },
   "outputs": [
    {
     "data": {
      "text/plain": [
       "int"
      ]
     },
     "execution_count": 2,
     "metadata": {},
     "output_type": "execute_result"
    }
   ],
   "source": [
    "n = 1  # Integer literal.\n",
    "type(n)"
   ]
  },
  {
   "cell_type": "code",
   "execution_count": 3,
   "id": "7819f354-506e-479c-96d1-8f87bba15ec0",
   "metadata": {
    "pycharm": {
     "name": "#%%\n"
    }
   },
   "outputs": [
    {
     "data": {
      "text/plain": [
       "int"
      ]
     },
     "execution_count": 3,
     "metadata": {},
     "output_type": "execute_result"
    }
   ],
   "source": [
    "n = int(1.0)  # Constructor - Not an integer literal.\n",
    "type(n)"
   ]
  },
  {
   "cell_type": "markdown",
   "id": "69e31b7d-9e9c-4e44-9b27-458f6dc5d10d",
   "metadata": {
    "pycharm": {
     "name": "#%% md\n"
    }
   },
   "source": [
    "- Integer literals can be **written in two different ways**:"
   ]
  },
  {
   "cell_type": "code",
   "execution_count": 6,
   "id": "f914f845-20b1-4e65-817c-00955f8995ef",
   "metadata": {
    "pycharm": {
     "name": "#%%\n"
    }
   },
   "outputs": [
    {
     "data": {
      "text/plain": [
       "1000000"
      ]
     },
     "execution_count": 6,
     "metadata": {},
     "output_type": "execute_result"
    }
   ],
   "source": [
    "1000000  # Large numbers can be difficult to read."
   ]
  },
  {
   "cell_type": "code",
   "execution_count": 7,
   "id": "816e5599-2346-4891-a48e-8c4ee757a145",
   "metadata": {
    "pycharm": {
     "name": "#%%\n"
    },
    "tags": []
   },
   "outputs": [
    {
     "data": {
      "text/plain": [
       "1000000"
      ]
     },
     "execution_count": 7,
     "metadata": {},
     "output_type": "execute_result"
    }
   ],
   "source": [
    "1_000_000  # MORE readable."
   ]
  },
  {
   "cell_type": "code",
   "execution_count": 8,
   "id": "91325246-1a19-459b-8355-1f26719c5e4e",
   "metadata": {
    "pycharm": {
     "name": "#%%\n"
    }
   },
   "outputs": [
    {
     "data": {
      "text/plain": [
       "(1, 0, 0)"
      ]
     },
     "execution_count": 8,
     "metadata": {},
     "output_type": "execute_result"
    }
   ],
   "source": [
    "1, 000, 000  # Not a number in Python."
   ]
  },
  {
   "cell_type": "markdown",
   "id": "20d7006e-70c6-4a40-a847-060eaa07cee5",
   "metadata": {
    "pycharm": {
     "name": "#%% md\n"
    }
   },
   "source": [
    "- There is **no limit** to how large an integer can be."
   ]
  },
  {
   "cell_type": "markdown",
   "id": "184cb326-bca1-4864-a797-1a92cfd77fcd",
   "metadata": {
    "pycharm": {
     "name": "#%% md\n"
    }
   },
   "source": [
    "### 1.2. Floating-Point Numbers"
   ]
  },
  {
   "cell_type": "markdown",
   "id": "41e16e84-b215-4196-95d2-4c86173578bb",
   "metadata": {
    "pycharm": {
     "name": "#%% md\n"
    }
   },
   "source": [
    "- A floating-point number, or float for short, is **a number with a decimal place**.\n",
    "- The name of a floating-point data type is `float`:"
   ]
  },
  {
   "cell_type": "code",
   "execution_count": 9,
   "id": "d61cf2d7-312d-4011-94a7-8f83ab4c9d6f",
   "metadata": {
    "pycharm": {
     "name": "#%%\n"
    }
   },
   "outputs": [
    {
     "data": {
      "text/plain": [
       "float"
      ]
     },
     "execution_count": 9,
     "metadata": {},
     "output_type": "execute_result"
    }
   ],
   "source": [
    "type(1.0)"
   ]
  },
  {
   "cell_type": "markdown",
   "id": "fdaf188f-9164-4177-8745-f614622844fe",
   "metadata": {
    "pycharm": {
     "name": "#%% md\n"
    }
   },
   "source": [
    "- You can **create a floating-point number** by:\n",
    "> - Simply typing the number explicitly (**floating-point literal** - a floating-point literal is a floating-point value that is written explicitly in your code),\n",
    "> - Using the `float()` function (**constructor**)."
   ]
  },
  {
   "cell_type": "code",
   "execution_count": 1,
   "id": "57cdaade-1990-4574-bc59-184402c54c66",
   "metadata": {
    "pycharm": {
     "name": "#%%\n"
    }
   },
   "outputs": [
    {
     "data": {
      "text/plain": [
       "float"
      ]
     },
     "execution_count": 1,
     "metadata": {},
     "output_type": "execute_result"
    }
   ],
   "source": [
    "n = 1.0  # Floating-point literal.\n",
    "type((n))"
   ]
  },
  {
   "cell_type": "code",
   "execution_count": 11,
   "id": "de0ca2cf-86bb-4c5d-91e6-232d648904b1",
   "metadata": {
    "pycharm": {
     "name": "#%%\n"
    }
   },
   "outputs": [
    {
     "data": {
      "text/plain": [
       "float"
      ]
     },
     "execution_count": 11,
     "metadata": {},
     "output_type": "execute_result"
    }
   ],
   "source": [
    "n = float(\"1\")  # Constructor - Not a floating-point literal.\n",
    "type(n)"
   ]
  },
  {
   "cell_type": "markdown",
   "id": "1d862aa1-383e-4ac8-a572-31fcac7663c5",
   "metadata": {
    "pycharm": {
     "name": "#%% md\n"
    }
   },
   "source": [
    "- Floating-point literals can be **written in three different ways**:"
   ]
  },
  {
   "cell_type": "code",
   "execution_count": 12,
   "id": "24ccc25e-6d0c-4de6-af06-028d2c9a93c8",
   "metadata": {
    "pycharm": {
     "name": "#%%\n"
    }
   },
   "outputs": [
    {
     "data": {
      "text/plain": [
       "1000000.0"
      ]
     },
     "execution_count": 12,
     "metadata": {},
     "output_type": "execute_result"
    }
   ],
   "source": [
    "1000000.0"
   ]
  },
  {
   "cell_type": "code",
   "execution_count": 13,
   "id": "faade976-ed2e-4fd3-86e4-38e22fc504ac",
   "metadata": {
    "pycharm": {
     "name": "#%%\n"
    }
   },
   "outputs": [
    {
     "data": {
      "text/plain": [
       "1000000.0"
      ]
     },
     "execution_count": 13,
     "metadata": {},
     "output_type": "execute_result"
    }
   ],
   "source": [
    "1_000_000.0"
   ]
  },
  {
   "cell_type": "code",
   "execution_count": 14,
   "id": "3c42c6da-117b-4e53-baac-0ebe3c88dc2a",
   "metadata": {
    "pycharm": {
     "name": "#%%\n"
    }
   },
   "outputs": [
    {
     "data": {
      "text/plain": [
       "1000000.0"
      ]
     },
     "execution_count": 14,
     "metadata": {},
     "output_type": "execute_result"
    }
   ],
   "source": [
    "n = 1e6  # For really large numbers, you can use E-notation.\n",
    "n"
   ]
  },
  {
   "cell_type": "code",
   "execution_count": 15,
   "id": "0c00f9e4-966c-4885-9a40-a7bb62885669",
   "metadata": {
    "pycharm": {
     "name": "#%%\n"
    }
   },
   "outputs": [
    {
     "data": {
      "text/plain": [
       "0.0001"
      ]
     },
     "execution_count": 15,
     "metadata": {},
     "output_type": "execute_result"
    }
   ],
   "source": [
    "1e-4  # You can also use negative numbers as the exponent."
   ]
  },
  {
   "cell_type": "markdown",
   "id": "1d91b843-8e03-4375-82bf-0fa06103f307",
   "metadata": {
    "pycharm": {
     "name": "#%% md\n"
    }
   },
   "source": [
    "- Unlike integers, **floats do have a maximum size**, the maximum floating-point number **depends on your system**."
   ]
  },
  {
   "cell_type": "code",
   "execution_count": 16,
   "id": "1cf2feea-bcdd-4c82-9ba8-af9913269bcc",
   "metadata": {
    "tags": []
   },
   "outputs": [
    {
     "data": {
      "text/plain": [
       "1.7976931348623157e+308"
      ]
     },
     "execution_count": 16,
     "metadata": {},
     "output_type": "execute_result"
    }
   ],
   "source": [
    "import sys\n",
    "\n",
    "max_float = sys.float_info.max\n",
    "max_float"
   ]
  },
  {
   "cell_type": "markdown",
   "id": "c537746e-f8dd-4521-97ce-bf6b8efcb38e",
   "metadata": {
    "tags": []
   },
   "source": [
    "- When you reach the maximum floating-point number, **Python returns a special float value `inf`**:"
   ]
  },
  {
   "cell_type": "code",
   "execution_count": 17,
   "id": "16e59318-5f46-473e-bc97-ffc9462c5011",
   "metadata": {
    "tags": []
   },
   "outputs": [
    {
     "data": {
      "text/plain": [
       "inf"
      ]
     },
     "execution_count": 17,
     "metadata": {},
     "output_type": "execute_result"
    }
   ],
   "source": [
    "max_float * 2"
   ]
  },
  {
   "cell_type": "markdown",
   "id": "f3df7140-edf4-4b72-b79c-7e5c762b0eb2",
   "metadata": {
    "pycharm": {
     "name": "#%% md\n"
    }
   },
   "source": [
    "- `inf` stands for **infinity**, and it just means that the number you’ve tried to create is **beyond the maximum floating-point value allowed on your computer**.\n",
    "- The **type** of `inf` is still `float`:"
   ]
  },
  {
   "cell_type": "code",
   "execution_count": 18,
   "id": "5a120e1f-5a40-4185-8835-ef3e2c36a329",
   "metadata": {
    "pycharm": {
     "name": "#%%\n"
    },
    "tags": []
   },
   "outputs": [
    {
     "data": {
      "text/plain": [
       "float"
      ]
     },
     "execution_count": 18,
     "metadata": {},
     "output_type": "execute_result"
    }
   ],
   "source": [
    "type(max_float * 2)"
   ]
  },
  {
   "cell_type": "markdown",
   "id": "85dd35a9-11b8-4c3b-b4d9-d4293fbf23d3",
   "metadata": {
    "pycharm": {
     "name": "#%% md\n"
    }
   },
   "source": [
    "- There is also `-inf` which stands for **negative infinity**:"
   ]
  },
  {
   "cell_type": "code",
   "execution_count": 19,
   "id": "69e60002-a4bc-4fda-a7a7-5456dc8ab678",
   "metadata": {
    "pycharm": {
     "name": "#%%\n"
    },
    "tags": []
   },
   "outputs": [
    {
     "data": {
      "text/plain": [
       "-inf"
      ]
     },
     "execution_count": 19,
     "metadata": {},
     "output_type": "execute_result"
    }
   ],
   "source": [
    "-max_float * 2"
   ]
  },
  {
   "cell_type": "markdown",
   "id": "6e8b4407-b9e4-4466-bf3f-460c7302d4b6",
   "metadata": {
    "pycharm": {
     "name": "#%% md\n"
    }
   },
   "source": [
    "- You probably won’t come across `inf` and `-inf` often as a programmer, **unless you are working with extremely large (or small) numbers**."
   ]
  },
  {
   "cell_type": "markdown",
   "id": "1dec3491-fce1-49fc-b773-fb012d283bdc",
   "metadata": {
    "pycharm": {
     "name": "#%% md\n"
    },
    "tags": []
   },
   "source": [
    "## 2. Arithmetic Operators and Expressions"
   ]
  },
  {
   "cell_type": "markdown",
   "id": "a92f2d09-dac5-4256-927e-bab4c26c41ca",
   "metadata": {
    "pycharm": {
     "name": "#%% md\n"
    },
    "tags": [],
    "toc-hr-collapsed": true
   },
   "source": [
    "### 2.1. Basic Operations"
   ]
  },
  {
   "cell_type": "markdown",
   "id": "eaf51dca-6484-4500-827d-50fa88b03040",
   "metadata": {
    "pycharm": {
     "name": "#%% md\n"
    }
   },
   "source": [
    "#### **Addition**"
   ]
  },
  {
   "cell_type": "markdown",
   "id": "40ceba8e-598d-43f1-bb44-46d5dd8d7001",
   "metadata": {
    "pycharm": {
     "name": "#%% md\n"
    }
   },
   "source": [
    "- Addition is performed with the **`+` operator**:"
   ]
  },
  {
   "cell_type": "code",
   "execution_count": 20,
   "id": "c497d679-1eb2-4cbf-bf98-66f4c77bc9ab",
   "metadata": {
    "pycharm": {
     "name": "#%%\n"
    }
   },
   "outputs": [
    {
     "data": {
      "text/plain": [
       "3"
      ]
     },
     "execution_count": 20,
     "metadata": {},
     "output_type": "execute_result"
    }
   ],
   "source": [
    "1 + 2"
   ]
  },
  {
   "cell_type": "markdown",
   "id": "260d1e4f-101c-4b27-a549-da01d1641653",
   "metadata": {
    "pycharm": {
     "name": "#%% md\n"
    }
   },
   "source": [
    "- Operands **do not need to be the same type**, adding two integers **always results in an `int`**, if one of the operands is a float, **the result is also a float**."
   ]
  },
  {
   "cell_type": "code",
   "execution_count": 21,
   "id": "76acd98c-6ba5-4486-8099-b8202403ce27",
   "metadata": {
    "pycharm": {
     "name": "#%%\n"
    }
   },
   "outputs": [
    {
     "data": {
      "text/plain": [
       "3.0"
      ]
     },
     "execution_count": 21,
     "metadata": {},
     "output_type": "execute_result"
    }
   ],
   "source": [
    "1.0 + 2"
   ]
  },
  {
   "cell_type": "markdown",
   "id": "063b204d-fc94-455f-9c50-c041d95f6397",
   "metadata": {
    "pycharm": {
     "name": "#%% md\n"
    }
   },
   "source": [
    "#### **Substraction**"
   ]
  },
  {
   "cell_type": "markdown",
   "id": "88aa30b7-ba53-4ca2-be07-4ed40a51a015",
   "metadata": {
    "pycharm": {
     "name": "#%% md\n"
    }
   },
   "source": [
    "- To subtract two numbers, just put a **`-` operator** in between them:"
   ]
  },
  {
   "cell_type": "code",
   "execution_count": 22,
   "id": "827f8cd3-9ed7-4b26-a729-163d28f11380",
   "metadata": {
    "pycharm": {
     "name": "#%%\n"
    }
   },
   "outputs": [
    {
     "data": {
      "text/plain": [
       "0"
      ]
     },
     "execution_count": 22,
     "metadata": {},
     "output_type": "execute_result"
    }
   ],
   "source": [
    "1 - 1"
   ]
  },
  {
   "cell_type": "markdown",
   "id": "c9bdc046-10fc-49d6-bb53-125607af4cb2",
   "metadata": {
    "pycharm": {
     "name": "#%% md\n"
    }
   },
   "source": [
    "- Just like adding two integers, subtracting two integers **always results in an int**, if one of the operands is a float, **the result is also a float**."
   ]
  },
  {
   "cell_type": "code",
   "execution_count": 23,
   "id": "315fd15f-d688-4165-bcfb-a118a63ebe93",
   "metadata": {
    "pycharm": {
     "name": "#%%\n"
    }
   },
   "outputs": [
    {
     "data": {
      "text/plain": [
       "0.0"
      ]
     },
     "execution_count": 23,
     "metadata": {},
     "output_type": "execute_result"
    }
   ],
   "source": [
    "1.0 - 1"
   ]
  },
  {
   "cell_type": "markdown",
   "id": "4b1ccddd-b1c3-40a6-bd0d-189019a1e196",
   "metadata": {
    "pycharm": {
     "name": "#%% md\n"
    }
   },
   "source": [
    "- The **`-` operator** is also used to denote **negative** numbers."
   ]
  },
  {
   "cell_type": "code",
   "execution_count": 24,
   "id": "98a2663f-b66f-4f55-803b-767cd33a17fd",
   "metadata": {
    "pycharm": {
     "name": "#%%\n"
    }
   },
   "outputs": [
    {
     "data": {
      "text/plain": [
       "-3"
      ]
     },
     "execution_count": 24,
     "metadata": {},
     "output_type": "execute_result"
    }
   ],
   "source": [
    "-3"
   ]
  },
  {
   "cell_type": "markdown",
   "id": "e1f11a9a-27e1-4c65-be6c-7195a4b9cc43",
   "metadata": {
    "pycharm": {
     "name": "#%% md\n"
    }
   },
   "source": [
    "#### **Multiplication**"
   ]
  },
  {
   "cell_type": "markdown",
   "id": "4911b25d-2a5e-4a51-992f-aa5751819b16",
   "metadata": {
    "pycharm": {
     "name": "#%% md\n"
    }
   },
   "source": [
    "- To multiply two numbers, use the **`*` operator**:"
   ]
  },
  {
   "cell_type": "code",
   "execution_count": 25,
   "id": "a87f1282-a152-40c4-b06f-887a0cceec35",
   "metadata": {
    "pycharm": {
     "name": "#%%\n"
    }
   },
   "outputs": [
    {
     "data": {
      "text/plain": [
       "9"
      ]
     },
     "execution_count": 25,
     "metadata": {},
     "output_type": "execute_result"
    }
   ],
   "source": [
    "3 * 3"
   ]
  },
  {
   "cell_type": "markdown",
   "id": "7cb1d538-0ccb-410b-bc45-3919e9ad4f36",
   "metadata": {
    "pycharm": {
     "name": "#%% md\n"
    }
   },
   "source": [
    "- The type of number you get from multiplication **follows the same rules** as addition and subtraction, multiplying two integers **results in an int**, and multiplying a number with a float **results in a float**."
   ]
  },
  {
   "cell_type": "code",
   "execution_count": 26,
   "id": "11c70779-cee4-4616-82e9-453c9d845cf8",
   "metadata": {
    "pycharm": {
     "name": "#%%\n"
    }
   },
   "outputs": [
    {
     "data": {
      "text/plain": [
       "9.0"
      ]
     },
     "execution_count": 26,
     "metadata": {},
     "output_type": "execute_result"
    }
   ],
   "source": [
    "3.0 * 3"
   ]
  },
  {
   "cell_type": "markdown",
   "id": "65edbb86-175f-41c7-9168-80e1fbc5ff87",
   "metadata": {
    "pycharm": {
     "name": "#%% md\n"
    }
   },
   "source": [
    "#### **Division**"
   ]
  },
  {
   "cell_type": "markdown",
   "id": "ca35741e-79a4-4d81-b2d3-ff33969d0a95",
   "metadata": {
    "pycharm": {
     "name": "#%% md\n"
    }
   },
   "source": [
    "- The **`/` operator** is used to divide two numbers:"
   ]
  },
  {
   "cell_type": "code",
   "execution_count": 27,
   "id": "6e4c62c0-34f0-4394-a601-5da5ba8d3305",
   "metadata": {
    "pycharm": {
     "name": "#%%\n"
    }
   },
   "outputs": [
    {
     "data": {
      "text/plain": [
       "3.75"
      ]
     },
     "execution_count": 27,
     "metadata": {},
     "output_type": "execute_result"
    }
   ],
   "source": [
    "15 / 4"
   ]
  },
  {
   "cell_type": "markdown",
   "id": "f98e7047-ab9e-4d1e-8724-ae315e27ac75",
   "metadata": {
    "pycharm": {
     "name": "#%% md\n"
    }
   },
   "source": [
    "- Unlike addition, subtraction, and multiplication, **division with the / operator always returns a float**."
   ]
  },
  {
   "cell_type": "code",
   "execution_count": 28,
   "id": "61ce6313-c1ee-440c-881e-f5d783db142c",
   "metadata": {
    "pycharm": {
     "name": "#%%\n"
    }
   },
   "outputs": [
    {
     "data": {
      "text/plain": [
       "3.0"
      ]
     },
     "execution_count": 28,
     "metadata": {},
     "output_type": "execute_result"
    }
   ],
   "source": [
    "9 / 3"
   ]
  },
  {
   "cell_type": "markdown",
   "id": "b833a31d-f377-42d8-b121-59b50538e1cd",
   "metadata": {
    "pycharm": {
     "name": "#%% md\n"
    }
   },
   "source": [
    "#### **Floor division**"
   ]
  },
  {
   "cell_type": "markdown",
   "id": "25fe6e9e-8974-4cc6-88e0-7e5ee1fc1e66",
   "metadata": {
    "pycharm": {
     "name": "#%% md\n"
    }
   },
   "source": [
    "- Python provides a **second division operator, `//`**, called the **floor** division operator:"
   ]
  },
  {
   "cell_type": "code",
   "execution_count": 29,
   "id": "c5561b45-aaab-4dc8-9550-561486278ae2",
   "metadata": {
    "pycharm": {
     "name": "#%%\n"
    }
   },
   "outputs": [
    {
     "data": {
      "text/plain": [
       "3"
      ]
     },
     "execution_count": 29,
     "metadata": {},
     "output_type": "execute_result"
    }
   ],
   "source": [
    "9 // 3"
   ]
  },
  {
   "cell_type": "markdown",
   "id": "dad52cb9-ca44-45f2-af1a-446e12425179",
   "metadata": {
    "pycharm": {
     "name": "#%% md\n"
    }
   },
   "source": [
    "- The `//` operator first **divides the number on the left by the number on the right** and then **returns the largest integer that is equal to or smaller than the result**."
   ]
  },
  {
   "cell_type": "code",
   "execution_count": 30,
   "id": "a811b4bd-61ed-4113-a87e-56302f15b75a",
   "metadata": {
    "pycharm": {
     "name": "#%%\n"
    }
   },
   "outputs": [
    {
     "data": {
      "text/plain": [
       "3"
      ]
     },
     "execution_count": 30,
     "metadata": {},
     "output_type": "execute_result"
    }
   ],
   "source": [
    "15 // 4"
   ]
  },
  {
   "cell_type": "markdown",
   "id": "0089867d-6154-4cb2-ad45-f1cdb1808447",
   "metadata": {
    "pycharm": {
     "name": "#%% md\n"
    }
   },
   "source": [
    "- This might not give the value you expect **when one of the numbers is negative**."
   ]
  },
  {
   "cell_type": "code",
   "execution_count": 31,
   "id": "571eb75b-c2dd-4c81-8916-09b674397fd6",
   "metadata": {
    "pycharm": {
     "name": "#%%\n"
    }
   },
   "outputs": [
    {
     "data": {
      "text/plain": [
       "-4"
      ]
     },
     "execution_count": 31,
     "metadata": {},
     "output_type": "execute_result"
    }
   ],
   "source": [
    "-15 // 4"
   ]
  },
  {
   "cell_type": "code",
   "execution_count": 32,
   "id": "821665cc-e3cb-477e-8eb8-645e7b59e602",
   "metadata": {
    "pycharm": {
     "name": "#%%\n"
    }
   },
   "outputs": [
    {
     "data": {
      "text/plain": [
       "-4"
      ]
     },
     "execution_count": 32,
     "metadata": {},
     "output_type": "execute_result"
    }
   ],
   "source": [
    "15 // -4"
   ]
  },
  {
   "cell_type": "markdown",
   "id": "e48b309c-4d45-4490-9099-b71d45f472c7",
   "metadata": {
    "pycharm": {
     "name": "#%% md\n"
    }
   },
   "source": [
    "- Note that `//` **returns a floating-point number** if one of the operands is a float."
   ]
  },
  {
   "cell_type": "code",
   "execution_count": 33,
   "id": "a1aad824-314a-49e0-96af-33831af4f028",
   "metadata": {
    "pycharm": {
     "name": "#%%\n"
    }
   },
   "outputs": [
    {
     "data": {
      "text/plain": [
       "3.0"
      ]
     },
     "execution_count": 33,
     "metadata": {},
     "output_type": "execute_result"
    }
   ],
   "source": [
    "9.0 // 3"
   ]
  },
  {
   "cell_type": "markdown",
   "id": "d3c15864-15ce-4a50-8c73-5c1be1def4ea",
   "metadata": {
    "pycharm": {
     "name": "#%% md\n"
    }
   },
   "source": [
    "#### **Modulus**"
   ]
  },
  {
   "cell_type": "markdown",
   "id": "1cd7e92e-f675-45ad-8517-cf667de1d2ff",
   "metadata": {
    "pycharm": {
     "name": "#%% md\n"
    }
   },
   "source": [
    "- The `%` operator, or the **modulus**, returns the remainder of dividing the left operand by the right operand:"
   ]
  },
  {
   "cell_type": "code",
   "execution_count": 34,
   "id": "87395fdf-b1c1-49dd-9de4-f143f59c8898",
   "metadata": {
    "pycharm": {
     "name": "#%%\n"
    }
   },
   "outputs": [
    {
     "data": {
      "text/plain": [
       "3"
      ]
     },
     "execution_count": 34,
     "metadata": {},
     "output_type": "execute_result"
    }
   ],
   "source": [
    "15 % 4"
   ]
  },
  {
   "cell_type": "markdown",
   "id": "2b187ac4-5da8-4432-9072-d6594400a472",
   "metadata": {
    "pycharm": {
     "name": "#%% md\n"
    }
   },
   "source": [
    "- One of the most common uses of `%` is **to determine whether or not one number is divisible by another**."
   ]
  },
  {
   "cell_type": "code",
   "execution_count": 35,
   "id": "deb33a84-bc2e-4c7f-a1ff-869ad7741045",
   "metadata": {
    "pycharm": {
     "name": "#%%\n"
    }
   },
   "outputs": [
    {
     "data": {
      "text/plain": [
       "False"
      ]
     },
     "execution_count": 35,
     "metadata": {},
     "output_type": "execute_result"
    }
   ],
   "source": [
    "# Is it odd or even?\n",
    "n = 5\n",
    "n % 2 == 0"
   ]
  },
  {
   "cell_type": "markdown",
   "id": "51974c42-08a8-4cdc-8131-6f4472e44479",
   "metadata": {
    "pycharm": {
     "name": "#%% md\n"
    }
   },
   "source": [
    "- Just like foor division, things get a little tricky when you use the `%` operator **with negative numbers**."
   ]
  },
  {
   "cell_type": "code",
   "execution_count": 36,
   "id": "171ee465-cbef-4fe7-bc78-a9fae86d5875",
   "metadata": {
    "pycharm": {
     "name": "#%%\n"
    }
   },
   "outputs": [
    {
     "data": {
      "text/plain": [
       "1"
      ]
     },
     "execution_count": 36,
     "metadata": {},
     "output_type": "execute_result"
    }
   ],
   "source": [
    "-15 % 4"
   ]
  },
  {
   "cell_type": "code",
   "execution_count": 37,
   "id": "2fcc78f0-5382-4ebf-85b1-aebe70c913d4",
   "metadata": {
    "pycharm": {
     "name": "#%%\n"
    }
   },
   "outputs": [
    {
     "data": {
      "text/plain": [
       "-1"
      ]
     },
     "execution_count": 37,
     "metadata": {},
     "output_type": "execute_result"
    }
   ],
   "source": [
    "15 % -4"
   ]
  },
  {
   "cell_type": "markdown",
   "id": "e3044586-f499-482a-9961-13bea82adb92",
   "metadata": {
    "pycharm": {
     "name": "#%% md\n"
    }
   },
   "source": [
    "- In general, the `//` and `% `operators are defined and calculated **in such a way that this equation `a == b * (a // b) + a % b` always holds**."
   ]
  },
  {
   "cell_type": "code",
   "execution_count": 38,
   "id": "d3e74f34-5764-4dc3-8b86-d51ef676f27c",
   "metadata": {
    "pycharm": {
     "name": "#%%\n"
    }
   },
   "outputs": [
    {
     "name": "stdout",
     "output_type": "stream",
     "text": [
      "a = 15, b = 4\n",
      "a // b = 3\n",
      "a % b = 3\n",
      "Does it hold? True\n"
     ]
    }
   ],
   "source": [
    "# Both numbers are positive.\n",
    "a, b = 15, 4\n",
    "print(f\"a = {a}, b = {b}\")\n",
    "print(f\"a // b = {a // b}\")\n",
    "print(f\"a % b = {a % b}\")\n",
    "print(\"Does it hold?\", a == b * (a // b) + a % b)"
   ]
  },
  {
   "cell_type": "code",
   "execution_count": 39,
   "id": "b5c29dfb-207d-47ef-8d9f-d33cd6c8a43a",
   "metadata": {
    "pycharm": {
     "name": "#%%\n"
    }
   },
   "outputs": [
    {
     "name": "stdout",
     "output_type": "stream",
     "text": [
      "a = -15, b = 4\n",
      "a // b = -4\n",
      "a % b = 1\n",
      "Does it hold? True\n"
     ]
    }
   ],
   "source": [
    "# One number is negative.\n",
    "a, b = -15, 4\n",
    "print(f\"a = {a}, b = {b}\")\n",
    "print(f\"a // b = {a // b}\")\n",
    "print(f\"a % b = {a % b}\")\n",
    "print(\"Does it hold?\", a == b * (a // b) + a % b)"
   ]
  },
  {
   "cell_type": "code",
   "execution_count": 40,
   "id": "cedf3c70-7578-445c-b5c3-cc00e03456a7",
   "metadata": {
    "pycharm": {
     "name": "#%%\n"
    }
   },
   "outputs": [
    {
     "name": "stdout",
     "output_type": "stream",
     "text": [
      "a = 15, b = -4\n",
      "a // b = -4\n",
      "a % b = -1\n",
      "Does it hold? True\n"
     ]
    }
   ],
   "source": [
    "# The other number is negative.\n",
    "a, b = 15, -4\n",
    "print(f\"a = {a}, b = {b}\")\n",
    "print(f\"a // b = {a // b}\")\n",
    "print(f\"a % b = {a % b}\")\n",
    "print(\"Does it hold?\", a == b * (a // b) + a % b)"
   ]
  },
  {
   "cell_type": "code",
   "execution_count": 41,
   "id": "59b02690-56b2-4112-aa74-97c5b47350fb",
   "metadata": {
    "pycharm": {
     "name": "#%%\n"
    }
   },
   "outputs": [
    {
     "name": "stdout",
     "output_type": "stream",
     "text": [
      "a = -15, b = -4\n",
      "a // b = 3\n",
      "a % b = -3\n",
      "Does it hold? True\n"
     ]
    }
   ],
   "source": [
    "# Both numbers are negative.\n",
    "a, b = -15, -4\n",
    "print(f\"a = {a}, b = {b}\")\n",
    "print(f\"a // b = {a // b}\")\n",
    "print(f\"a % b = {a % b}\")\n",
    "print(\"Does it hold?\", a == b * (a // b) + a % b)"
   ]
  },
  {
   "cell_type": "markdown",
   "id": "d396a9e3-570c-43fe-8e45-18ab084eb334",
   "metadata": {
    "pycharm": {
     "name": "#%% md\n"
    }
   },
   "source": [
    "- Also `%` operator **returns a floating-point number** if one of the operands is a float."
   ]
  },
  {
   "cell_type": "code",
   "execution_count": 42,
   "id": "9503a68f-26c6-4dc2-8b26-c9d056cb3135",
   "metadata": {
    "pycharm": {
     "name": "#%%\n"
    }
   },
   "outputs": [
    {
     "data": {
      "text/plain": [
       "3.0"
      ]
     },
     "execution_count": 42,
     "metadata": {},
     "output_type": "execute_result"
    }
   ],
   "source": [
    "15.0 % 4"
   ]
  },
  {
   "cell_type": "markdown",
   "id": "bb3861a8-e366-4c8e-8672-dde378908dd5",
   "metadata": {
    "pycharm": {
     "name": "#%% md\n"
    }
   },
   "source": [
    "#### **Exponents**"
   ]
  },
  {
   "cell_type": "markdown",
   "id": "14b24160-d8b8-4040-a05f-2fe2fe394320",
   "metadata": {
    "pycharm": {
     "name": "#%% md\n"
    }
   },
   "source": [
    "- You can raise a number to a power using the **`**` operator**:"
   ]
  },
  {
   "cell_type": "code",
   "execution_count": 43,
   "id": "59d96723-5520-4b4c-a9e7-e4fd7faa79d1",
   "metadata": {
    "pycharm": {
     "name": "#%%\n"
    }
   },
   "outputs": [
    {
     "data": {
      "text/plain": [
       "4"
      ]
     },
     "execution_count": 43,
     "metadata": {},
     "output_type": "execute_result"
    }
   ],
   "source": [
    "2**2"
   ]
  },
  {
   "cell_type": "markdown",
   "id": "a7757556-3b7f-4324-b372-883f53ba3f44",
   "metadata": {
    "pycharm": {
     "name": "#%% md\n"
    }
   },
   "source": [
    "- **Exponents don’t have to be integers**, they can also be floats.\n",
    "- Raising a number to the power of `0.5` **is the same as taking the square root**, but notice that even though the square root of 2 is an integer, **Python returns the float** `2.0`."
   ]
  },
  {
   "cell_type": "code",
   "execution_count": 44,
   "id": "9eee4565-0c32-4018-89f6-0335c3e5423c",
   "metadata": {
    "pycharm": {
     "name": "#%%\n"
    }
   },
   "outputs": [
    {
     "data": {
      "text/plain": [
       "2.0"
      ]
     },
     "execution_count": 44,
     "metadata": {},
     "output_type": "execute_result"
    }
   ],
   "source": [
    "4**0.5"
   ]
  },
  {
   "cell_type": "markdown",
   "id": "5878c595-1a60-49ae-b58e-25d0cc150e07",
   "metadata": {
    "pycharm": {
     "name": "#%% md\n"
    }
   },
   "source": [
    "- For positive operands, the `**` operator **returns an integer if both operands are integers, and a float if any one of the operands is a floating-point number**."
   ]
  },
  {
   "cell_type": "code",
   "execution_count": 45,
   "id": "d5099aba-d23a-4dcb-8981-4459727c89e1",
   "metadata": {
    "pycharm": {
     "name": "#%%\n"
    }
   },
   "outputs": [
    {
     "data": {
      "text/plain": [
       "4"
      ]
     },
     "execution_count": 45,
     "metadata": {},
     "output_type": "execute_result"
    }
   ],
   "source": [
    "2**2"
   ]
  },
  {
   "cell_type": "code",
   "execution_count": 46,
   "id": "88f0c020-0836-4d94-ba35-8d94bd3ed591",
   "metadata": {
    "pycharm": {
     "name": "#%%\n"
    }
   },
   "outputs": [
    {
     "data": {
      "text/plain": [
       "4.0"
      ]
     },
     "execution_count": 46,
     "metadata": {},
     "output_type": "execute_result"
    }
   ],
   "source": [
    "2.0**2.0"
   ]
  },
  {
   "cell_type": "code",
   "execution_count": 47,
   "id": "34e0a37c-4a72-4e19-963e-cce4631e2670",
   "metadata": {
    "pycharm": {
     "name": "#%%\n"
    }
   },
   "outputs": [
    {
     "data": {
      "text/plain": [
       "4.0"
      ]
     },
     "execution_count": 47,
     "metadata": {},
     "output_type": "execute_result"
    }
   ],
   "source": [
    "2**2.0"
   ]
  },
  {
   "cell_type": "markdown",
   "id": "3817d73f-e342-4760-8741-57947409ac2f",
   "metadata": {
    "pycharm": {
     "name": "#%% md\n"
    }
   },
   "source": [
    "- You can also raise numbers to **negative powers**.\n",
    "- Raising a number to a negative power **is the same as dividing 1 by the number raised to the positive power**. "
   ]
  },
  {
   "cell_type": "code",
   "execution_count": 48,
   "id": "14530453-081b-49f4-a1d1-a17e6f501548",
   "metadata": {
    "pycharm": {
     "name": "#%%\n"
    }
   },
   "outputs": [
    {
     "data": {
      "text/plain": [
       "0.5"
      ]
     },
     "execution_count": 48,
     "metadata": {},
     "output_type": "execute_result"
    }
   ],
   "source": [
    "2**-1"
   ]
  },
  {
   "cell_type": "markdown",
   "id": "21058b4e-935d-4cd2-bb40-2516b89896b6",
   "metadata": {
    "pycharm": {
     "name": "#%% md\n"
    }
   },
   "source": [
    "### 2.2. More Complex Arithmetic Expressions"
   ]
  },
  {
   "cell_type": "markdown",
   "id": "0d16932d-62d3-4292-949e-71bf10ddae8b",
   "metadata": {
    "pycharm": {
     "name": "#%% md\n"
    }
   },
   "source": [
    "- You can combine operators to form **complex arithmetic expressions**.\n",
    "- An arithmetic expression is a **combination of numbers, operators, and parentheses that Python can compute, or evaluate**, to return a value.\n",
    "- Here are some **examples** of arithmetic expressions:"
   ]
  },
  {
   "cell_type": "code",
   "execution_count": 49,
   "id": "e0258ad1-cdbc-46c5-98a3-d359b0cdfd5c",
   "metadata": {
    "pycharm": {
     "name": "#%%\n"
    }
   },
   "outputs": [
    {
     "data": {
      "text/plain": [
       "7"
      ]
     },
     "execution_count": 49,
     "metadata": {},
     "output_type": "execute_result"
    }
   ],
   "source": [
    "1 + 2 * 3"
   ]
  },
  {
   "cell_type": "code",
   "execution_count": 50,
   "id": "74fd4540-5ef7-4392-8963-868631158187",
   "metadata": {
    "tags": []
   },
   "outputs": [
    {
     "data": {
      "text/plain": [
       "9"
      ]
     },
     "execution_count": 50,
     "metadata": {},
     "output_type": "execute_result"
    }
   ],
   "source": [
    "(1 + 2) * 3"
   ]
  },
  {
   "cell_type": "code",
   "execution_count": 51,
   "id": "0b5b0ecc-c17c-476c-b516-44c5bfa909ec",
   "metadata": {
    "pycharm": {
     "name": "#%%\n"
    }
   },
   "outputs": [
    {
     "data": {
      "text/plain": [
       "10.0"
      ]
     },
     "execution_count": 51,
     "metadata": {},
     "output_type": "execute_result"
    }
   ],
   "source": [
    "4 / 2 + 2**3"
   ]
  },
  {
   "cell_type": "code",
   "execution_count": 52,
   "id": "f5953318-7d48-4cdc-a3e9-3e7916e80af2",
   "metadata": {
    "pycharm": {
     "name": "#%%\n"
    }
   },
   "outputs": [
    {
     "data": {
      "text/plain": [
       "-3"
      ]
     },
     "execution_count": 52,
     "metadata": {},
     "output_type": "execute_result"
    }
   ],
   "source": [
    "-1 + (-3 * 2 + 4)"
   ]
  },
  {
   "cell_type": "markdown",
   "id": "1fb571eb-5333-472e-8c2f-fbaa36576cfc",
   "metadata": {
    "pycharm": {
     "name": "#%% md\n"
    }
   },
   "source": [
    "- The **rules for evaluating expressions** work are the same as in everyday arithmetic, you probably learned these rules under the name **precedence**.\n",
    "- The **operator precedence** in Python is listed in the following table **in descending order** (upper group has higher precedence than the lower ones):"
   ]
  },
  {
   "attachments": {
    "1b630975-aad3-47f0-91b6-ea29d68b718a.png": {
     "image/png": "[encoded data removed]"
    }
   },
   "cell_type": "markdown",
   "id": "ba8b90d1-ca0f-4774-8530-8d45f0e5eb7d",
   "metadata": {
    "pycharm": {
     "name": "#%% md\n"
    }
   },
   "source": [
    "![image.png](attachment:1b630975-aad3-47f0-91b6-ea29d68b718a.png)"
   ]
  },
  {
   "cell_type": "markdown",
   "id": "412ab894-6092-4fa9-a4b4-c3d3ea5b18ba",
   "metadata": {
    "pycharm": {
     "name": "#%% md\n"
    }
   },
   "source": [
    "- **[PEP 8](https://peps.python.org/pep-0008)** says the following about whitespace in complex expressions:\n",
    "> “If operators with different priorities are used, **consider adding whitespace around the operators with the lowest priority(ies)**. Use your own judgment; however, **never use more than one space, and always have the same amount of whitespace on both sides of a binary operator**.”"
   ]
  },
  {
   "cell_type": "markdown",
   "id": "88c25e53-9348-4ce8-a1c9-e953b06a0020",
   "metadata": {
    "pycharm": {
     "name": "#%% md\n"
    }
   },
   "source": [
    "### 2.3. Math Functions and Number Methods"
   ]
  },
  {
   "cell_type": "markdown",
   "id": "382930e9-b0e5-467e-83bf-369b77e12cba",
   "metadata": {
    "pycharm": {
     "name": "#%% md\n"
    }
   },
   "source": [
    "#### **The `round()` function**"
   ]
  },
  {
   "cell_type": "markdown",
   "id": "9a353578-2d98-4cdf-a02f-c555bae00e0a",
   "metadata": {
    "pycharm": {
     "name": "#%% md\n"
    }
   },
   "source": [
    "- You can use `round()` to **round a number to the nearest integer**:"
   ]
  },
  {
   "cell_type": "code",
   "execution_count": 53,
   "id": "b9a6e6c6-7ec6-4e5d-bf86-4c1135d34158",
   "metadata": {
    "pycharm": {
     "name": "#%%\n"
    }
   },
   "outputs": [
    {
     "data": {
      "text/plain": [
       "2"
      ]
     },
     "execution_count": 53,
     "metadata": {},
     "output_type": "execute_result"
    }
   ],
   "source": [
    "round(2.3)"
   ]
  },
  {
   "cell_type": "markdown",
   "id": "14e488d8-cc99-444e-bc12-f86112b9e056",
   "metadata": {
    "pycharm": {
     "name": "#%% md\n"
    }
   },
   "source": [
    "- `round()` has some unexpected behavior **when the number ends in `.5`**:"
   ]
  },
  {
   "cell_type": "code",
   "execution_count": 54,
   "id": "9c2a413b-3fe1-4b57-a723-ef49dd8a2361",
   "metadata": {
    "pycharm": {
     "name": "#%%\n"
    }
   },
   "outputs": [
    {
     "data": {
      "text/plain": [
       "2"
      ]
     },
     "execution_count": 54,
     "metadata": {},
     "output_type": "execute_result"
    }
   ],
   "source": [
    "round(2.5)"
   ]
  },
  {
   "cell_type": "code",
   "execution_count": 55,
   "id": "2b94b81e-5c0e-484f-94c2-f961ae9b1bf1",
   "metadata": {
    "pycharm": {
     "name": "#%%\n"
    }
   },
   "outputs": [
    {
     "data": {
      "text/plain": [
       "4"
      ]
     },
     "execution_count": 55,
     "metadata": {},
     "output_type": "execute_result"
    }
   ],
   "source": [
    "round(3.5)"
   ]
  },
  {
   "cell_type": "markdown",
   "id": "59b3b69e-768a-4dc9-b228-6c01a1b89d45",
   "metadata": {
    "pycharm": {
     "name": "#%% md\n"
    }
   },
   "source": [
    "- **What happened?**\n",
    "> - Python 3 rounds numbers according to a strategy called **[rounding ties to even](https://en.wikipedia.org/wiki/IEEE_754#Roundings_to_nearest)**,\n",
    "> - **A tie is any number whose last digit is a five** (`2.5` and `3.1415` are ties, but `1.37` is not),\n",
    "> - When you round ties to even, **you first look at the digit one decimal place to the left of the last digit in the tie, if that digit is even, you round down. If the digit is odd, you round up**."
   ]
  },
  {
   "cell_type": "markdown",
   "id": "4a6da698-44e6-4b8b-bdb4-d4dbc4129302",
   "metadata": {
    "pycharm": {
     "name": "#%% md\n"
    }
   },
   "source": [
    "- You can round a number to a given number of decimal places by **passing a second argument to `round()`**:"
   ]
  },
  {
   "cell_type": "code",
   "execution_count": 56,
   "id": "663185fc-0877-438e-8d4d-d7ee1cd61a7b",
   "metadata": {
    "pycharm": {
     "name": "#%%\n"
    }
   },
   "outputs": [
    {
     "data": {
      "text/plain": [
       "3.142"
      ]
     },
     "execution_count": 56,
     "metadata": {},
     "output_type": "execute_result"
    }
   ],
   "source": [
    "round(3.14159, 3)"
   ]
  },
  {
   "cell_type": "markdown",
   "id": "74b03d15-ab99-4026-8629-373da964685e",
   "metadata": {
    "pycharm": {
     "name": "#%% md\n"
    }
   },
   "source": [
    "- **Sometimes `round()` doesn’t get the answer quite right!**"
   ]
  },
  {
   "cell_type": "code",
   "execution_count": 57,
   "id": "0ed560dd-abf1-4ad1-ac92-ee9f23e90fb5",
   "metadata": {
    "pycharm": {
     "name": "#%%\n"
    }
   },
   "outputs": [
    {
     "data": {
      "text/plain": [
       "2.67"
      ]
     },
     "execution_count": 57,
     "metadata": {},
     "output_type": "execute_result"
    }
   ],
   "source": [
    "round(2.675, 2)  # ??"
   ]
  },
  {
   "cell_type": "markdown",
   "id": "9d49242c-be5b-4309-9919-752ebef242d1",
   "metadata": {
    "pycharm": {
     "name": "#%% md\n"
    }
   },
   "source": [
    "- **What happened?**\n",
    "> - `2.675` is a **tie** because it lies exactly halfway between the numbers `2.67` and `2.68`.\n",
    "> - Since Python rounds ties to the nearest even number, **you would expect `round(2.675, 2)` to return `2.68`, but it returns `2.67` instead**,\n",
    "> - This error is a result of **floating-point representation error**, and isn’t a bug in the `round()` function."
   ]
  },
  {
   "cell_type": "markdown",
   "id": "d78e63ec-3cf3-4ea2-9c3d-4dde9ee0eaf7",
   "metadata": {
    "pycharm": {
     "name": "#%% md\n"
    }
   },
   "source": [
    "#### **The `abs()` Function**"
   ]
  },
  {
   "cell_type": "markdown",
   "id": "ced2c6da-474b-430f-8d60-c9bcd86800e7",
   "metadata": {
    "pycharm": {
     "name": "#%% md\n"
    }
   },
   "source": [
    "- To get the absolute value of a number in Python, **you use the `abs()` function**:"
   ]
  },
  {
   "cell_type": "code",
   "execution_count": 58,
   "id": "7ff617d8-e0fe-4cc4-8e6f-535b4dacbd0c",
   "metadata": {
    "pycharm": {
     "name": "#%%\n"
    }
   },
   "outputs": [
    {
     "data": {
      "text/plain": [
       "3"
      ]
     },
     "execution_count": 58,
     "metadata": {},
     "output_type": "execute_result"
    }
   ],
   "source": [
    "abs(-3)"
   ]
  },
  {
   "cell_type": "markdown",
   "id": "8140deda-d705-43f5-ba71-00ea6f070aa2",
   "metadata": {
    "pycharm": {
     "name": "#%% md\n"
    }
   },
   "source": [
    "- `abs()` always returns a **positive** number **of the same type** as its argument. "
   ]
  },
  {
   "cell_type": "code",
   "execution_count": 59,
   "id": "59a97746-7ecb-444f-a770-31b6d32a6cf6",
   "metadata": {
    "pycharm": {
     "name": "#%%\n"
    }
   },
   "outputs": [
    {
     "data": {
      "text/plain": [
       "0.5"
      ]
     },
     "execution_count": 59,
     "metadata": {},
     "output_type": "execute_result"
    }
   ],
   "source": [
    "abs(-0.5)"
   ]
  },
  {
   "cell_type": "markdown",
   "id": "a092d1ae-8343-41a6-92e3-4f6c0efae975",
   "metadata": {
    "pycharm": {
     "name": "#%% md\n"
    }
   },
   "source": [
    "#### **The `pow()` Function**"
   ]
  },
  {
   "cell_type": "markdown",
   "id": "cf5d9d10-efc0-4142-a6f1-fc24b8b13983",
   "metadata": {
    "pycharm": {
     "name": "#%% md\n"
    }
   },
   "source": [
    "- You can use the `pow()` function to **raise a number to a power**,\n",
    "- It takes **two arguments**:\n",
    "> - The first is the **base**, that is the number to be raised to a power,\n",
    "> - The second argument is the **exponent**."
   ]
  },
  {
   "cell_type": "code",
   "execution_count": 60,
   "id": "998d618a-c183-4b66-b424-885b6a4ae979",
   "metadata": {
    "pycharm": {
     "name": "#%%\n"
    }
   },
   "outputs": [
    {
     "data": {
      "text/plain": [
       "8"
      ]
     },
     "execution_count": 60,
     "metadata": {},
     "output_type": "execute_result"
    }
   ],
   "source": [
    "pow(2, 3)"
   ]
  },
  {
   "cell_type": "markdown",
   "id": "fe3f2d3b-8f3d-43d0-81bc-a32398826662",
   "metadata": {
    "pycharm": {
     "name": "#%% md\n"
    }
   },
   "source": [
    "- Just like `**`, **the exponent in `pow()` can be negative**:"
   ]
  },
  {
   "cell_type": "code",
   "execution_count": 61,
   "id": "ab3ee28f-e775-4f86-86b1-512d700c4b06",
   "metadata": {
    "pycharm": {
     "name": "#%%\n"
    }
   },
   "outputs": [
    {
     "data": {
      "text/plain": [
       "0.25"
      ]
     },
     "execution_count": 61,
     "metadata": {},
     "output_type": "execute_result"
    }
   ],
   "source": [
    "pow(2, -2)"
   ]
  },
  {
   "cell_type": "markdown",
   "id": "03a16ddb-6f77-404d-ad3f-37c6bb4a567c",
   "metadata": {
    "pycharm": {
     "name": "#%% md\n"
    }
   },
   "source": [
    "- **So, what’s the difference between `**` and pow()?**\n",
    "> - The `pow()` function accepts an optional third argument that computes the first number raised to the power of the second number and then **takes the modulo with respect to the third number**,\n",
    "> - In other words, **`pow(x, y, z)` is equivalent to `(x ** y) % z`**."
   ]
  },
  {
   "cell_type": "code",
   "execution_count": 62,
   "id": "71668a73-d820-41ec-b7ec-41c2c9491e90",
   "metadata": {
    "pycharm": {
     "name": "#%%\n"
    }
   },
   "outputs": [
    {
     "data": {
      "text/plain": [
       "0"
      ]
     },
     "execution_count": 62,
     "metadata": {},
     "output_type": "execute_result"
    }
   ],
   "source": [
    "pow(2, 3, 2)"
   ]
  },
  {
   "cell_type": "markdown",
   "id": "cfdeebff-6bbc-4ef6-8897-a688273ea3d8",
   "metadata": {
    "pycharm": {
     "name": "#%% md\n"
    }
   },
   "source": [
    "#### **The `.is_integer()` Method**"
   ]
  },
  {
   "cell_type": "markdown",
   "id": "c5a1dd4a-59b3-4bed-a891-eb57426cef43",
   "metadata": {
    "pycharm": {
     "name": "#%% md\n"
    }
   },
   "source": [
    "- Floating-point numbers have an `.is_integer()` method that **returns True if the number is integral and returns False otherwise**."
   ]
  },
  {
   "cell_type": "code",
   "execution_count": 63,
   "id": "f84e2a72-6173-45bc-a188-1f35c284bf4c",
   "metadata": {
    "pycharm": {
     "name": "#%%\n"
    }
   },
   "outputs": [
    {
     "data": {
      "text/plain": [
       "True"
      ]
     },
     "execution_count": 63,
     "metadata": {},
     "output_type": "execute_result"
    }
   ],
   "source": [
    "n = 1.0\n",
    "n.is_integer()"
   ]
  },
  {
   "cell_type": "code",
   "execution_count": 64,
   "id": "5b48f182-9300-4610-aaaa-ad0b88511ef3",
   "metadata": {
    "pycharm": {
     "name": "#%%\n"
    }
   },
   "outputs": [
    {
     "data": {
      "text/plain": [
       "False"
      ]
     },
     "execution_count": 64,
     "metadata": {},
     "output_type": "execute_result"
    }
   ],
   "source": [
    "n = 1.1\n",
    "n.is_integer()"
   ]
  },
  {
   "cell_type": "markdown",
   "id": "f0705b6a-180b-4144-b48e-4998c14d1ef9",
   "metadata": {
    "pycharm": {
     "name": "#%% md\n"
    }
   },
   "source": [
    "- This can be useful for **validating user input as follwos**:"
   ]
  },
  {
   "cell_type": "code",
   "execution_count": 65,
   "id": "27e11af3-1f62-4220-a3f6-b352d9836414",
   "metadata": {
    "pycharm": {
     "name": "#%%\n"
    }
   },
   "outputs": [
    {
     "name": "stdin",
     "output_type": "stream",
     "text": [
      "Enter any number:  1\n"
     ]
    },
    {
     "data": {
      "text/plain": [
       "True"
      ]
     },
     "execution_count": 65,
     "metadata": {},
     "output_type": "execute_result"
    }
   ],
   "source": [
    "# Get the user input:\n",
    "user_input = float(input(\"Enter any number: \"))\n",
    "# Check if it is an integer\"\n",
    "user_input.is_integer()"
   ]
  },
  {
   "cell_type": "markdown",
   "id": "edb32137-96e2-4113-987e-c58d066da11b",
   "metadata": {
    "pycharm": {
     "name": "#%% md\n"
    }
   },
   "source": [
    "### 2.4. Print Numbers in Style"
   ]
  },
  {
   "cell_type": "markdown",
   "id": "1cc4c689-e044-4e84-91ee-c5254946ba44",
   "metadata": {
    "pycharm": {
     "name": "#%% md\n"
    }
   },
   "source": [
    "- Displaying numbers to a user requires **inserting numbers into a string**."
   ]
  },
  {
   "cell_type": "code",
   "execution_count": 66,
   "id": "03de802c-6c4e-4320-8758-13eca6d41870",
   "metadata": {
    "pycharm": {
     "name": "#%%\n"
    }
   },
   "outputs": [
    {
     "name": "stdout",
     "output_type": "stream",
     "text": [
      "The value of n is 7.12579867868769.\n"
     ]
    }
   ],
   "source": [
    "n = 7.1257986786876897098\n",
    "print(f\"The value of n is {n}.\")"
   ]
  },
  {
   "cell_type": "markdown",
   "id": "13ba2a7f-eba7-4497-9cf9-ec380a4e044c",
   "metadata": {
    "pycharm": {
     "name": "#%% md\n"
    }
   },
   "source": [
    "- Those curly braces support a simple **[formatting language](https://docs.python.org/3/library/string.html#format-specification-mini-language)** you can use to **alter the appearance of the value** in the final formatted string."
   ]
  },
  {
   "cell_type": "code",
   "execution_count": 67,
   "id": "2bc5cbbc-ad91-49a4-a2f6-0055f51d8425",
   "metadata": {
    "pycharm": {
     "name": "#%%\n"
    }
   },
   "outputs": [
    {
     "name": "stdout",
     "output_type": "stream",
     "text": [
      "The value of n is 7.13.\n"
     ]
    }
   ],
   "source": [
    "print(f\"The value of n is {n:.2f}.\")"
   ]
  },
  {
   "cell_type": "code",
   "execution_count": 68,
   "id": "4503aaba-1ed0-487b-bb8c-2a4163a94ac0",
   "metadata": {
    "tags": []
   },
   "outputs": [
    {
     "data": {
      "text/plain": [
       "7.12579867868769"
      ]
     },
     "execution_count": 68,
     "metadata": {},
     "output_type": "execute_result"
    }
   ],
   "source": [
    "n"
   ]
  },
  {
   "cell_type": "markdown",
   "id": "98979ed4-2bd0-4f48-9012-5e39807e2e99",
   "metadata": {
    "pycharm": {
     "name": "#%% md\n"
    }
   },
   "source": [
    "- **What happened?**\n",
    "> - The colon (`:`) after the variable n indicates that **everything after it is part of the formatting specification**,\n",
    "> - The `.2` in `.2f` **rounds the number to two decimal places**, and the `f` **tells Python to display n as a рxed-point number**,"
   ]
  },
  {
   "cell_type": "markdown",
   "id": "27f8d821-bd4e-4e41-98e6-0b4f51dd4dad",
   "metadata": {
    "pycharm": {
     "name": "#%% md\n"
    }
   },
   "source": [
    "- To round to **one decimal places**, replace `.2` with `.1`:"
   ]
  },
  {
   "cell_type": "code",
   "execution_count": 69,
   "id": "d689996c-6d74-4e2d-98d8-da16265b07f2",
   "metadata": {
    "pycharm": {
     "name": "#%%\n"
    }
   },
   "outputs": [
    {
     "name": "stdout",
     "output_type": "stream",
     "text": [
      "The value of n is 7.1.\n"
     ]
    }
   ],
   "source": [
    "n = 7.126\n",
    "print(f\"The value of n is {n:.1f}.\")"
   ]
  },
  {
   "cell_type": "markdown",
   "id": "2049a869-5b81-4731-9cad-66b771415860",
   "metadata": {
    "pycharm": {
     "name": "#%% md\n"
    }
   },
   "source": [
    "- You can insert commas to group the integer part of large numbers by the thousands with the , option:"
   ]
  },
  {
   "cell_type": "code",
   "execution_count": 70,
   "id": "c4bb856e-06e6-4a31-b5ea-f3dfa122c828",
   "metadata": {
    "pycharm": {
     "name": "#%%\n"
    }
   },
   "outputs": [
    {
     "name": "stdout",
     "output_type": "stream",
     "text": [
      "The value of n is 1,234.56.\n"
     ]
    }
   ],
   "source": [
    "n = 1234.56\n",
    "print(f\"The value of n is {n:,.2f}.\")"
   ]
  },
  {
   "cell_type": "markdown",
   "id": "a3475594-2ab3-4005-b903-da80814f7bd3",
   "metadata": {
    "pycharm": {
     "name": "#%% md\n"
    }
   },
   "source": [
    "- Another useful option is `%`, which is used to **display percentages**, \n",
    "- The `%` option **should always go at the end of your formatting specification, and you can’t mix it with the f option**."
   ]
  },
  {
   "cell_type": "code",
   "execution_count": 71,
   "id": "bfff6c39-1c66-4cb9-8a32-36bbb9911f9f",
   "metadata": {
    "pycharm": {
     "name": "#%%\n"
    }
   },
   "outputs": [
    {
     "name": "stdout",
     "output_type": "stream",
     "text": [
      "Over 90.0% of pythonistas say that GDSC is the best!\n"
     ]
    }
   ],
   "source": [
    "ratio = 0.9\n",
    "print(f\"Over {ratio:.1%} of pythonistas say that GDSC is the best!\")"
   ]
  },
  {
   "cell_type": "markdown",
   "id": "61c86d0f-07df-4df4-a529-a9641a1aa2f2",
   "metadata": {
    "pycharm": {
     "name": "#%% md\n"
    }
   },
   "source": [
    "- The formatting mini language is powerful and extensive, **you are encouraged to read the [official documentation](https://docs.python.org/3/library/string.html#format-string-syntax_)**."
   ]
  },
  {
   "cell_type": "markdown",
   "id": "5f8b7eed-e8a8-4f45-a7af-e1d256e84738",
   "metadata": {
    "pycharm": {
     "name": "#%% md\n"
    }
   },
   "source": [
    "### 2.5. Some Advanced Stuff"
   ]
  },
  {
   "cell_type": "markdown",
   "id": "e44a53af-2f4b-4175-b6c6-41a0f0295591",
   "metadata": {
    "pycharm": {
     "name": "#%% md\n"
    }
   },
   "source": [
    "#### **Converting `str` into `int`**"
   ]
  },
  {
   "cell_type": "code",
   "execution_count": 72,
   "id": "5cb97ac4-d829-4319-980d-1fc8e20baf5d",
   "metadata": {
    "pycharm": {
     "name": "#%%\n"
    }
   },
   "outputs": [
    {
     "ename": "ValueError",
     "evalue": "invalid literal for int() with base 10: 'abcdef'",
     "output_type": "error",
     "traceback": [
      "\u001b[1;31m---------------------------------------------------------------------------\u001b[0m",
      "\u001b[1;31mValueError\u001b[0m                                Traceback (most recent call last)",
      "Cell \u001b[1;32mIn[72], line 1\u001b[0m\n\u001b[1;32m----> 1\u001b[0m \u001b[38;5;28;43mint\u001b[39;49m\u001b[43m(\u001b[49m\u001b[38;5;124;43m\"\u001b[39;49m\u001b[38;5;124;43mabcdef\u001b[39;49m\u001b[38;5;124;43m\"\u001b[39;49m\u001b[43m)\u001b[49m\n",
      "\u001b[1;31mValueError\u001b[0m: invalid literal for int() with base 10: 'abcdef'"
     ]
    }
   ],
   "source": [
    "int(\"abcdef\")"
   ]
  },
  {
   "cell_type": "code",
   "execution_count": null,
   "id": "57afbb53-14d3-4a80-b23c-7de595339827",
   "metadata": {
    "pycharm": {
     "name": "#%%\n"
    }
   },
   "outputs": [],
   "source": [
    "int(\"abcdef\", base=16)"
   ]
  },
  {
   "cell_type": "markdown",
   "id": "23b40c37-11e2-42a3-98b0-b494eb107cbf",
   "metadata": {
    "pycharm": {
     "name": "#%% md\n"
    }
   },
   "source": [
    "#### **The Right Way to Compare Integers**"
   ]
  },
  {
   "cell_type": "markdown",
   "id": "58961458-a14f-4d07-b28b-92609b305591",
   "metadata": {
    "pycharm": {
     "name": "#%% md\n"
    }
   },
   "source": [
    "- The **value** and the **identitiy** of an object are two different things, **you have seen that before!**\n",
    " - The `==` operator compares two objects for **equal value**, but the `is` operator compares them for **equal identity**."
   ]
  },
  {
   "cell_type": "code",
   "execution_count": 73,
   "id": "0921efa7-7f84-4215-aeb0-bcb87d08e45a",
   "metadata": {
    "pycharm": {
     "name": "#%%\n"
    }
   },
   "outputs": [],
   "source": [
    "a = 257\n",
    "b = 257"
   ]
  },
  {
   "cell_type": "code",
   "execution_count": 74,
   "id": "68c8f163-d0eb-4e76-b9a1-7d6bf9f64b19",
   "metadata": {
    "pycharm": {
     "name": "#%%\n"
    }
   },
   "outputs": [
    {
     "name": "stdout",
     "output_type": "stream",
     "text": [
      "True\n",
      "False\n"
     ]
    }
   ],
   "source": [
    "print(a == b)  # Comparing value.\n",
    "print(a is b)  # Comparing identity."
   ]
  },
  {
   "cell_type": "markdown",
   "id": "370bd9a9-5289-48d9-a630-b24110a86a49",
   "metadata": {
    "pycharm": {
     "name": "#%% md\n"
    }
   },
   "source": [
    "- Let's replicate this small experiment with a differnet number:"
   ]
  },
  {
   "cell_type": "code",
   "execution_count": 75,
   "id": "b7777011-e718-4151-997b-05877747cf90",
   "metadata": {
    "pycharm": {
     "name": "#%%\n"
    }
   },
   "outputs": [],
   "source": [
    "a = 42\n",
    "b = 42"
   ]
  },
  {
   "cell_type": "code",
   "execution_count": 76,
   "id": "c763c9dc-22a0-43a8-bc96-b6e4fec6aac3",
   "metadata": {
    "pycharm": {
     "name": "#%%\n"
    }
   },
   "outputs": [
    {
     "name": "stdout",
     "output_type": "stream",
     "text": [
      "True\n",
      "True\n"
     ]
    }
   ],
   "source": [
    "print(a == b)  # Comparing value.\n",
    "print(a is b)  # Comparing identity."
   ]
  },
  {
   "cell_type": "markdown",
   "id": "c4138d54-8a15-468a-bb8c-800524a15f2b",
   "metadata": {
    "pycharm": {
     "name": "#%% md\n"
    }
   },
   "source": [
    "- **What happened?**\n",
    "> - When Python creates a new integer object and stores it in memory, that object creation takes very little time.\n",
    "> - As a tiny optimization, **CPython creates integer objects for -5 to 256 at the start of every program**,\n",
    "> - These integers are called **preallocated integers**, and CPython automatically creates objects for them **because they are fairly common**: a program is more likely to use the integer 0 or 2 than, say, 1729.\n",
    "> - When creating a new integer object in memory, **CPython first checks whether it’s between -5 and 256**, and if so, CPython **simply returns the existing integer object** instead of creating a new one.\n",
    "> - This behavior is called **ineger interning** and it **saves time and memory by not creating and storing duplicate small integers**."
   ]
  },
  {
   "attachments": {
    "fef67711-8921-4f09-a389-130715b96652.png": {
     "image/png": "[encoded data removed]"
    }
   },
   "cell_type": "markdown",
   "id": "79ff5197-c81a-4de2-80fc-03d6a0863c09",
   "metadata": {
    "pycharm": {
     "name": "#%% md\n"
    }
   },
   "source": [
    "![image.png](attachment:fef67711-8921-4f09-a389-130715b96652.png)"
   ]
  },
  {
   "cell_type": "markdown",
   "id": "92318953-7335-407e-a279-e916ae476067",
   "metadata": {
    "pycharm": {
     "name": "#%% md\n"
    }
   },
   "source": [
    "- Because of this optimization, **certain contrived situations can produce bizarre results**,\n",
    "- In real-world programs **you should only only use an integer’s value, not its identity**,\n",
    "- This is also the case in **floats**, **strings**, **bools**, or other values of other simple data types."
   ]
  },
  {
   "cell_type": "markdown",
   "id": "c5bd705e-2437-48a0-8ed3-63d63d3835e6",
   "metadata": {
    "pycharm": {
     "name": "#%% md\n"
    }
   },
   "source": [
    "#### **Make Python Lie to You**"
   ]
  },
  {
   "cell_type": "markdown",
   "id": "a1331b2e-c69c-492d-be33-5830b8821ff2",
   "metadata": {
    "pycharm": {
     "name": "#%% md\n"
    }
   },
   "source": [
    "- **What do you think `0.1 + 0.2` is?**\n",
    "> - The answer is `0.3`,\n",
    "> - Let’s see **what Python has to say about it**:"
   ]
  },
  {
   "cell_type": "code",
   "execution_count": 77,
   "id": "c9d5cc88-07f7-4d4f-8391-7c4655337634",
   "metadata": {
    "tags": []
   },
   "outputs": [
    {
     "data": {
      "text/plain": [
       "False"
      ]
     },
     "execution_count": 77,
     "metadata": {},
     "output_type": "execute_result"
    }
   ],
   "source": [
    "0.1 + 0.2 == 0.3"
   ]
  },
  {
   "cell_type": "markdown",
   "id": "c9f4ac09-4303-45d1-9dad-87fbe9882768",
   "metadata": {
    "pycharm": {
     "name": "#%% md\n"
    }
   },
   "source": [
    "- **Is this a bug in Python?**\n",
    "> - No, **it isn’t a bug! It’s a foating-point representation error**, and it has nothing to do with Python,\n",
    "> - It’s related to **the way floating-point numbers are stored in a computer’s memory**."
   ]
  },
  {
   "cell_type": "markdown",
   "id": "583026ae-c5cf-4d40-a819-f00246b7309a",
   "metadata": {
    "pycharm": {
     "name": "#%% md\n"
    }
   },
   "source": [
    "- **What is foating-point representation error?**\n",
    "> - The number `0.1` can be represented as the fraction `1/10`, **both are decimal representations, or base 10 representations**,\n",
    "> - Computers, store floatingpoint numbers in **base 2 representation, more commonly called binary representation**,\n",
    "> - When represented in binary, **something familiar yet possibly unexpected happens** to the decimal number 0.1:\n",
    ">> - Consider the **fraction `1/3`**, it has no finite decimal representation **with infinitely many 3’s after the decimal point ( `0.3333333333...`)**,\n",
    ">> - **The same thing happens** to the fraction 1/10 in binary, **it has an infinitely repeating fraction (`0.00011001100110011001100110011...`)**,\n",
    ">> - Computers have **finite memory**, so the number 0.1 must be stored as an **approximation and not as its true value**,\n",
    ">> - Because the approximation of `0.1` in binary is just an approximatio, **it is entirely possible that more than one decimal number have the same binary approximation**, so Python prints out the **shortest decimal number that shares the approximation**,\n",
    ">> - This explains **why `0.1 + 0.2` does not equal `0.3`**. Python adds together the binary approximations for `0.1`\n",
    "and `0.2`, which gives a number **which is not the binary approximation for 0.3**."
   ]
  },
  {
   "cell_type": "markdown",
   "id": "12ca1be8-b1ee-4f72-9941-58ef68b044d6",
   "metadata": {
    "pycharm": {
     "name": "#%% md\n"
    }
   },
   "source": [
    "- **What is the correct method then for testing the equality of floating-point numbers?**\n",
    "> - Define a **tolerance limit**,\n",
    "> - **If the absolute value of `a - b` is equal to or less than the pre-defined tolerance limit, then the two numbers are considered equal**."
   ]
  },
  {
   "cell_type": "code",
   "execution_count": 78,
   "id": "ef7e2dca-1f35-4d0c-8bfd-b5d1ad2a22d3",
   "metadata": {
    "pycharm": {
     "name": "#%%\n"
    }
   },
   "outputs": [
    {
     "data": {
      "text/plain": [
       "True"
      ]
     },
     "execution_count": 78,
     "metadata": {},
     "output_type": "execute_result"
    }
   ],
   "source": [
    "# The intiuition behind testing the equality of floats:\n",
    "a = 0.3\n",
    "b = 0.1 + 0.2\n",
    "tol_limit = 1e-6\n",
    "abs_difference = abs(a - b)\n",
    "tol_limit >= abs_difference"
   ]
  },
  {
   "cell_type": "code",
   "execution_count": 79,
   "id": "e5f0f1ef-ae43-47dc-83d9-b1f5e4fff557",
   "metadata": {
    "pycharm": {
     "name": "#%%\n"
    }
   },
   "outputs": [
    {
     "data": {
      "text/plain": [
       "True"
      ]
     },
     "execution_count": 79,
     "metadata": {},
     "output_type": "execute_result"
    }
   ],
   "source": [
    "# Using the math module:\n",
    "import math\n",
    "\n",
    "math.isclose(a, b, rel_tol=tol_limit)"
   ]
  },
  {
   "cell_type": "markdown",
   "id": "d3995445-9305-4958-afee-e1e4f178a582",
   "metadata": {
    "pycharm": {
     "name": "#%% md\n"
    }
   },
   "source": [
    "- Floating-point representation error is something **every programmer in every language needs to be aware of and know how to handle**,\n",
    "- **It's not specific to Python**, you can see the result of printing `0.1 + 0.2` in many different languages **[here](https://0.30000000000000004.com/)**."
   ]
  },
  {
   "cell_type": "markdown",
   "id": "a7db9807-f311-48ec-b514-381b7bddb04a",
   "metadata": {
    "pycharm": {
     "name": "#%% md\n"
    }
   },
   "source": [
    "#### **To Infinity and Beyond**"
   ]
  },
  {
   "cell_type": "markdown",
   "id": "b2c4db93-0a6b-4407-96ae-f06092f3e567",
   "metadata": {
    "pycharm": {
     "name": "#%% md\n"
    }
   },
   "source": [
    "- **What are `nan` and `inf`?**\n",
    "> - They stand for **Not-a-Number** and **infinity**, respectively.\n",
    "> - You can create them using `float` type, **since it is not a defined keyword in Python, you have to pass it to `float()` in a string format (within quotes)**.\n",
    "> - One thing worth mentioning here, **`'nan'` and `'inf'` are case insensitive**."
   ]
  },
  {
   "cell_type": "code",
   "execution_count": 80,
   "id": "97a1c45a-5eb2-4e63-a46e-cc715d936634",
   "metadata": {
    "pycharm": {
     "name": "#%%\n"
    }
   },
   "outputs": [
    {
     "data": {
      "text/plain": [
       "(nan, inf)"
      ]
     },
     "execution_count": 80,
     "metadata": {},
     "output_type": "execute_result"
    }
   ],
   "source": [
    "nan = float(\"nan\")\n",
    "inf = float(\"inf\")\n",
    "nan, inf"
   ]
  },
  {
   "cell_type": "markdown",
   "id": "20ca80d9-269f-4a86-a109-31828ac9382e",
   "metadata": {
    "pycharm": {
     "name": "#%% md\n"
    }
   },
   "source": [
    "- **`inf` and `nan` can only be defined by the float type**, you cannot create them without float or convert them to another type."
   ]
  },
  {
   "cell_type": "code",
   "execution_count": 81,
   "id": "6c4ad131-f9f5-4cc0-a55a-7a7f4204aca3",
   "metadata": {
    "pycharm": {
     "name": "#%%\n"
    }
   },
   "outputs": [
    {
     "data": {
      "text/plain": [
       "(float, float)"
      ]
     },
     "execution_count": 81,
     "metadata": {},
     "output_type": "execute_result"
    }
   ],
   "source": [
    "type(nan), type(inf)"
   ]
  },
  {
   "cell_type": "code",
   "execution_count": 82,
   "id": "2039a814-2ced-4d7b-9acb-9c4620676800",
   "metadata": {
    "pycharm": {
     "name": "#%%\n"
    }
   },
   "outputs": [
    {
     "ename": "ValueError",
     "evalue": "cannot convert float NaN to integer",
     "output_type": "error",
     "traceback": [
      "\u001b[1;31m---------------------------------------------------------------------------\u001b[0m",
      "\u001b[1;31mValueError\u001b[0m                                Traceback (most recent call last)",
      "Cell \u001b[1;32mIn[82], line 1\u001b[0m\n\u001b[1;32m----> 1\u001b[0m \u001b[38;5;28;43mint\u001b[39;49m\u001b[43m(\u001b[49m\u001b[43mnan\u001b[49m\u001b[43m)\u001b[49m\n",
      "\u001b[1;31mValueError\u001b[0m: cannot convert float NaN to integer"
     ]
    }
   ],
   "source": [
    "int(nan)"
   ]
  },
  {
   "cell_type": "markdown",
   "id": "c86b5cba-e03c-48a2-8c59-020bca773d23",
   "metadata": {
    "pycharm": {
     "name": "#%% md\n"
    }
   },
   "source": [
    "- **Arithmetic operations** with `inf`:\n",
    "> - `inf` is defined as an **undefined number that can either be a positive or negative**,\n",
    "> - **Most arithmetic operations performed on an infinite value lead to an infinite number**."
   ]
  },
  {
   "cell_type": "code",
   "execution_count": 83,
   "id": "cd3e4660-c46a-414a-b2dd-0ae4720e9977",
   "metadata": {
    "pycharm": {
     "name": "#%%\n"
    }
   },
   "outputs": [
    {
     "name": "stdout",
     "output_type": "stream",
     "text": [
      "inf\n",
      "inf\n",
      "inf\n",
      "inf\n"
     ]
    }
   ],
   "source": [
    "print(inf + 10)\n",
    "print(inf * 10)\n",
    "print(inf - 10)\n",
    "print(inf / 10)"
   ]
  },
  {
   "cell_type": "code",
   "execution_count": 84,
   "id": "ed323128-d307-4ae8-963b-8830d9996ef8",
   "metadata": {
    "pycharm": {
     "name": "#%%\n"
    }
   },
   "outputs": [
    {
     "name": "stdout",
     "output_type": "stream",
     "text": [
      "inf\n",
      "inf\n",
      "nan\n",
      "nan\n"
     ]
    }
   ],
   "source": [
    "print(inf + inf)\n",
    "print(inf * inf)\n",
    "print(inf - inf)  # ??\n",
    "print(inf / inf)  # ??"
   ]
  },
  {
   "cell_type": "markdown",
   "id": "3652aa14-78ea-46a2-96e6-d31b50b0c6e0",
   "metadata": {
    "pycharm": {
     "name": "#%% md\n"
    }
   },
   "source": [
    "- **Comparison** with `inf`:\n",
    "> - The concept of comparing an infinite value to finite values is as simple as it gets,\n",
    "> - Positive `inf` is **always bigger than any positive number** and **negative `inf` is always smaller than any negative number**, \n",
    "> - `inf` is equal to itself."
   ]
  },
  {
   "cell_type": "code",
   "execution_count": 85,
   "id": "39105fed-5fc1-401d-bc9e-7d3661399b45",
   "metadata": {
    "pycharm": {
     "name": "#%%\n"
    }
   },
   "outputs": [
    {
     "data": {
      "text/plain": [
       "(1.7976931348623157e+308, 2.2250738585072014e-308)"
      ]
     },
     "execution_count": 85,
     "metadata": {},
     "output_type": "execute_result"
    }
   ],
   "source": [
    "import sys\n",
    "\n",
    "max_f = sys.float_info.max\n",
    "min_f = sys.float_info.min\n",
    "max_f, min_f"
   ]
  },
  {
   "cell_type": "code",
   "execution_count": 86,
   "id": "b73c0c32-2f16-4b05-850e-c6b1ba116e1e",
   "metadata": {
    "pycharm": {
     "name": "#%%\n"
    }
   },
   "outputs": [
    {
     "name": "stdout",
     "output_type": "stream",
     "text": [
      "True\n",
      "True\n"
     ]
    }
   ],
   "source": [
    "print(inf > max_f)\n",
    "print(-inf < min_f)"
   ]
  },
  {
   "cell_type": "code",
   "execution_count": 87,
   "id": "e7c9db78-e2a5-498f-b491-5b0ce8e515f5",
   "metadata": {
    "pycharm": {
     "name": "#%%\n"
    }
   },
   "outputs": [
    {
     "name": "stdout",
     "output_type": "stream",
     "text": [
      "False\n",
      "False\n",
      "True\n"
     ]
    }
   ],
   "source": [
    "print(inf > inf)\n",
    "print(-inf < -inf)\n",
    "print(inf > -inf)"
   ]
  },
  {
   "cell_type": "code",
   "execution_count": 88,
   "id": "f34bec99-6698-49f4-b884-1cf940a052a0",
   "metadata": {
    "pycharm": {
     "name": "#%%\n"
    }
   },
   "outputs": [
    {
     "name": "stdout",
     "output_type": "stream",
     "text": [
      "True\n"
     ]
    }
   ],
   "source": [
    "print(inf == inf)"
   ]
  },
  {
   "cell_type": "markdown",
   "id": "6b4ec5f6-20e3-45b0-a556-035b13dd1d17",
   "metadata": {
    "pycharm": {
     "name": "#%% md\n"
    }
   },
   "source": [
    "- **Arithmetic operations** with `nan`:\n",
    "> - `nan` is a way to conventienly **represent missing data**.\n",
    "> - `nan` is essentially **like a black hole that turns almost everything into nothing**,\n",
    "> - **Exceptions**: `nan` to the power of `0` and `1` to the power of `nan`."
   ]
  },
  {
   "cell_type": "code",
   "execution_count": 89,
   "id": "3a5b471d-9004-4622-9ff9-ed03235389b2",
   "metadata": {
    "pycharm": {
     "name": "#%%\n"
    }
   },
   "outputs": [
    {
     "name": "stdout",
     "output_type": "stream",
     "text": [
      "nan\n",
      "nan\n",
      "nan\n",
      "nan\n"
     ]
    }
   ],
   "source": [
    "print(nan + 10)\n",
    "print(nan * 10)\n",
    "print(nan - 10)\n",
    "print(nan / 10)"
   ]
  },
  {
   "cell_type": "code",
   "execution_count": 90,
   "id": "67bd55e2-3962-4b1f-a33c-312e47422f86",
   "metadata": {
    "pycharm": {
     "name": "#%%\n"
    }
   },
   "outputs": [
    {
     "name": "stdout",
     "output_type": "stream",
     "text": [
      "nan\n",
      "nan\n",
      "nan\n",
      "nan\n"
     ]
    }
   ],
   "source": [
    "print(nan + inf)\n",
    "print(nan * inf)\n",
    "print(nan - inf)\n",
    "print(nan / inf)"
   ]
  },
  {
   "cell_type": "code",
   "execution_count": 91,
   "id": "1cbf92ff-c706-455b-a44c-eaeb9cbd771b",
   "metadata": {
    "pycharm": {
     "name": "#%%\n"
    }
   },
   "outputs": [
    {
     "name": "stdout",
     "output_type": "stream",
     "text": [
      "1.0\n",
      "1.0\n"
     ]
    }
   ],
   "source": [
    "print(nan**0)\n",
    "print(1**nan)"
   ]
  },
  {
   "cell_type": "markdown",
   "id": "561ce643-89c2-4231-8ad7-45b4fdcc033d",
   "metadata": {
    "pycharm": {
     "name": "#%% md\n"
    }
   },
   "source": [
    "- **Comparison** with `nan`:\n",
    "> - **You cannot make a comparison or check for `nan` with the regular comparison operators**,\n",
    "> - In fact, **`nan` isn’t equal to anything that exists in Python**, it is not equal to even itself."
   ]
  },
  {
   "cell_type": "code",
   "execution_count": 92,
   "id": "60560a2b-8581-4589-9998-ac0ddb08e535",
   "metadata": {
    "pycharm": {
     "name": "#%%\n"
    }
   },
   "outputs": [
    {
     "name": "stdout",
     "output_type": "stream",
     "text": [
      "False\n",
      "False\n"
     ]
    }
   ],
   "source": [
    "print(nan > 1)\n",
    "print(nan < 1)"
   ]
  },
  {
   "cell_type": "code",
   "execution_count": 93,
   "id": "d27d97f4-e8a5-405c-b6e0-862863f9a784",
   "metadata": {
    "pycharm": {
     "name": "#%%\n"
    }
   },
   "outputs": [
    {
     "name": "stdout",
     "output_type": "stream",
     "text": [
      "False\n",
      "False\n"
     ]
    }
   ],
   "source": [
    "print(nan > nan)\n",
    "print(nan < nan)"
   ]
  },
  {
   "cell_type": "code",
   "execution_count": 94,
   "id": "0ef163b3-c6e2-457e-aaf0-123ad4689d68",
   "metadata": {
    "pycharm": {
     "name": "#%%\n"
    }
   },
   "outputs": [
    {
     "name": "stdout",
     "output_type": "stream",
     "text": [
      "False\n"
     ]
    }
   ],
   "source": [
    "print(nan == nan)"
   ]
  },
  {
   "cell_type": "code",
   "execution_count": null,
   "id": "1546fc6f-f32d-47e8-9f05-b798d5fa925b",
   "metadata": {},
   "outputs": [],
   "source": []
  }
 ],
 "metadata": {
  "kernelspec": {
   "display_name": "Python 3 (ipykernel)",
   "language": "python",
   "name": "python3"
  },
  "language_info": {
   "codemirror_mode": {
    "name": "ipython",
    "version": 3
   },
   "file_extension": ".py",
   "mimetype": "text/x-python",
   "name": "python",
   "nbconvert_exporter": "python",
   "pygments_lexer": "ipython3",
   "version": "3.10.10"
  }
 },
 "nbformat": 4,
 "nbformat_minor": 5
}
