{
 "cells": [
  {
   "cell_type": "markdown",
   "id": "08fc55d1-d93f-429a-baac-c6405b2f210a",
   "metadata": {
    "pycharm": {
     "name": "#%% md\n"
    }
   },
   "source": [
    "# Setting Up Python"
   ]
  },
  {
   "cell_type": "markdown",
   "id": "b9072e55-cd27-4f5e-9f1d-3798c7bc7471",
   "metadata": {
    "pycharm": {
     "name": "#%% md\n"
    }
   },
   "source": [
    "- In this chapter, you will learn how to:\n",
    "> - Notes on **Python history**.\n",
    "> - Install the latest version of **Python 3** on your computer,\n",
    "> - Open **IDLE**, Python’s built-in Integrated Development and Learning Environment."
   ]
  },
  {
   "cell_type": "markdown",
   "id": "a2ea19ac-e330-4632-bdee-b021b6607705",
   "metadata": {
    "pycharm": {
     "name": "#%% md\n"
    }
   },
   "source": [
    "## 1. Before We Start - Some Notes on Python"
   ]
  },
  {
   "cell_type": "markdown",
   "id": "12836281-b8a5-407a-bd98-aabbd3b25481",
   "metadata": {
    "pycharm": {
     "name": "#%% md\n"
    }
   },
   "source": [
    "### **What is Python?**\n",
    "- Python is a widely used **high-level** programming language **for general-purpose programming**, created by **Guido van Rossum** and first released in 1991.\n",
    "- Python features a **dynamic type system** and **automatic memory management** and supports **multiple programming paradigms**, including object-oriented, imperative, functional programming, and procedural styles.\n",
    "- It has a large and comprehensive **standard library**."
   ]
  },
  {
   "cell_type": "markdown",
   "id": "69449038-ce58-4d16-988c-5c6125e98a50",
   "metadata": {
    "pycharm": {
     "name": "#%% md\n"
    }
   },
   "source": [
    "### **Why is it called Python?**\n",
    "- When he began implementing Python, Guido van Rossum was also reading the published scripts from **“Monty Python's Flying Circus”**, a BBC comedy series from the 1970s.\n",
    "- Van Rossum thought he needed a name that was **short, unique, and slightly mysterious**, so he decided to call the language **Python**."
   ]
  },
  {
   "cell_type": "markdown",
   "id": "8dadbab2-c84e-4559-b40b-8780b7812796",
   "metadata": {
    "pycharm": {
     "name": "#%% md\n"
    }
   },
   "source": [
    "### **The [history](https://raw.githubusercontent.com/mohebmaher/GDSC-Python/master/Assets/brief_history_of_python.png) of Python.**"
   ]
  },
  {
   "cell_type": "markdown",
   "id": "3e111856-1f5b-4171-8480-11fb5c5e7459",
   "metadata": {
    "pycharm": {
     "name": "#%% md\n"
    }
   },
   "source": [
    "### **What is Python all about?**\n",
    "- Long time Pythoneer **Tim Peters** succinctly channels the guiding principles for Python’s design into **20 aphorisms, only 19 of which have been written down**.\n",
    "- You can access the **[Zen of Python](https://learnpython.com/blog/zen-of-python/)** with the following import:"
   ]
  },
  {
   "cell_type": "code",
   "execution_count": 1,
   "id": "e51a8136-d840-4553-a1a2-aee4138d5303",
   "metadata": {
    "pycharm": {
     "name": "#%%\n"
    }
   },
   "outputs": [
    {
     "name": "stdout",
     "output_type": "stream",
     "text": [
      "The Zen of Python, by Tim Peters\n",
      "\n",
      "Beautiful is better than ugly.\n",
      "Explicit is better than implicit.\n",
      "Simple is better than complex.\n",
      "Complex is better than complicated.\n",
      "Flat is better than nested.\n",
      "Sparse is better than dense.\n",
      "Readability counts.\n",
      "Special cases aren't special enough to break the rules.\n",
      "Although practicality beats purity.\n",
      "Errors should never pass silently.\n",
      "Unless explicitly silenced.\n",
      "In the face of ambiguity, refuse the temptation to guess.\n",
      "There should be one-- and preferably only one --obvious way to do it.\n",
      "Although that way may not be obvious at first unless you're Dutch.\n",
      "Now is better than never.\n",
      "Although never is often better than *right* now.\n",
      "If the implementation is hard to explain, it's a bad idea.\n",
      "If the implementation is easy to explain, it may be a good idea.\n",
      "Namespaces are one honking great idea -- let's do more of those!\n"
     ]
    }
   ],
   "source": [
    "import this"
   ]
  },
  {
   "cell_type": "markdown",
   "id": "bec5fe26-d1c8-45ac-b489-80e28b06d593",
   "metadata": {
    "pycharm": {
     "name": "#%% md\n"
    },
    "tags": []
   },
   "source": [
    "### **Why is Python so popular?**\n",
    "> - It’s **open source**, which means **it’s free** to use and distribute, even for commercial purposes,\n",
    "> - It has a **simple syntax** that mimics natural language, so it’s easier to read and understand, this makes it quicker to build projects, and faster to improve on them,\n",
    "> - It’s **beginner friendly**, making it popular for entry-level coders,\n",
    "> - It’s **versatile**, Python can be used for many different tasks, from web development to machine learning,\n",
    "> - Python’s **archive of modules and libraries—bundles** of code that third-party users have created to expand Python’s capabilities—is vast and growing,\n",
    "> - Python has a **large and active community** that contributes to Python’s pool of modules and libraries, and acts as a helpful resource for other programmers."
   ]
  },
  {
   "cell_type": "markdown",
   "id": "54a9f6fe-0986-4096-9663-de84611d6be5",
   "metadata": {
    "pycharm": {
     "name": "#%% md\n"
    }
   },
   "source": [
    "### **What can you do with Python?**\n",
    "- **Data analysis** and **machine learning**,\n",
    "- Web development,\n",
    "- **Automation** or **scripting**,\n",
    "- Software testing and prototyping,\n",
    "- **Everyday tasks**."
   ]
  },
  {
   "cell_type": "markdown",
   "id": "b8ce25dc-d543-4e4c-845f-8148ec2a6a9e",
   "metadata": {
    "pycharm": {
     "name": "#%% md\n"
    }
   },
   "source": [
    "## 2. Installing Python - What Your Options Are"
   ]
  },
  {
   "cell_type": "markdown",
   "id": "f522a750-bedc-4747-af27-7a1e047441e3",
   "metadata": {
    "pycharm": {
     "name": "#%% md\n"
    }
   },
   "source": [
    "- Installing or updating Python on your computer is the **first step to becoming a Python programmer**.\n",
    "- There are a multitude of installation methods:\n",
    "> - **Official [Python](https://www.python.org/downloads/) distributions.**\n",
    "> - **Specialized distributions** for scientific computing (**[Anaconda](https://www.anaconda.com)**),\n",
    "> - **Online Python Interpreters** (**[Replit](https://replit.com)**) or **Notebooks** (**[Colab](https://colab.research.google.com/)**).\n",
    "- There are some **additional setting** that may be beneficial!"
   ]
  },
  {
   "cell_type": "markdown",
   "id": "f9efc557-4d9b-44ff-9b73-33802e07172c",
   "metadata": {
    "pycharm": {
     "name": "#%% md\n"
    }
   },
   "source": [
    "### Official Python distributions\n",
    "- Download the **official [Python distribution](https://www.python.org/downloads/)** (preferably version 3.10.9),\n",
    "- **Install** as recommended (**DON'T forget to add Python to PATH**),\n",
    "- Download the **[`requirememts.txt`](https://github.com/mohebmaher/GDSC-Python)** file,\n",
    "- **Open cmd** and **navigate to** the project folder,\n",
    "- **Run** `pip install -r requirements.txt` (**this may take sometime**)."
   ]
  },
  {
   "cell_type": "markdown",
   "id": "2c777cfe-7895-4d4f-8bc2-79b5105d37af",
   "metadata": {
    "pycharm": {
     "name": "#%% md\n"
    }
   },
   "source": [
    "### Specialized distributions for scientific computing\n",
    "- Download the **[Anaconda distribution](https://www.anaconda.com)** (preferably the latest version),\n",
    "- **Install** as recommended (**it is  NOT recommended to add Anaconda to PATH**)."
   ]
  },
  {
   "cell_type": "markdown",
   "id": "936723f5-d704-4307-a6d4-2382f08cbc4a",
   "metadata": {
    "pycharm": {
     "name": "#%% md\n"
    }
   },
   "source": [
    "### Additional settings:\n",
    "- Installing **Git Bash**,\n",
    "- Changing the **working directory** of **Jupyter Lab**,\n",
    "- Setting up a **virtual environment**,\n",
    "- Adding virtual environments to **Jupyter kernels**."
   ]
  },
  {
   "cell_type": "markdown",
   "id": "b4740744-b426-4e63-9735-2448359d1dcf",
   "metadata": {
    "pycharm": {
     "name": "#%% md\n"
    }
   },
   "source": [
    "## 3. Additional Resources\n",
    "- [Python 3 Installation & Setup Guide.](https://realpython.com/installing-python)\n",
    "- [Installing Anaconda on Windows Tutorial](https://www.datacamp.com/tutorial/installing-anaconda-windows)"
   ]
  },
  {
   "cell_type": "code",
   "execution_count": null,
   "id": "b0004163-d189-4a2a-be2c-11e86f62b07c",
   "metadata": {
    "pycharm": {
     "name": "#%%\n"
    }
   },
   "outputs": [],
   "source": []
  }
 ],
 "metadata": {
  "kernelspec": {
   "display_name": "GDSC",
   "language": "python",
   "name": "gdsc"
  },
  "language_info": {
   "codemirror_mode": {
    "name": "ipython",
    "version": 3
   },
   "file_extension": ".py",
   "mimetype": "text/x-python",
   "name": "python",
   "nbconvert_exporter": "python",
   "pygments_lexer": "ipython3",
   "version": "3.10.10"
  }
 },
 "nbformat": 4,
 "nbformat_minor": 5
}
