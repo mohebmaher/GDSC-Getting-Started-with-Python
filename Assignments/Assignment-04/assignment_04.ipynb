{
 "cells": [
  {
   "cell_type": "markdown",
   "id": "0ec043f9-a180-44ec-81b5-6ddd0b5a83c3",
   "metadata": {},
   "source": [
    "## Given an array of random numbers, push all the zero’s of a given array to the end of the array. The order of all other elements should be same.\n",
    "> - **Input:** `[1, 9, 8, 4, 0, 0, 2, 7, 0, 6, 0]`\n",
    "> - **Output:** `[1, 9, 8, 4, 2, 7, 6, 0, 0, 0, 0]`"
   ]
  },
  {
   "cell_type": "code",
   "execution_count": null,
   "id": "328c1e51-5a8d-40ec-8886-719a1d81ec40",
   "metadata": {
    "tags": []
   },
   "outputs": [],
   "source": [
    "nums_list = [1, 9, 8, 4, 0, 0, 2, 7, 0, 6, 0]"
   ]
  },
  {
   "cell_type": "code",
   "execution_count": null,
   "id": "b73dd677-3e20-41a5-aee8-f2e31b76dec6",
   "metadata": {},
   "outputs": [],
   "source": [
    "# TODO\n",
    "push_zeros_to_end = "
   ]
  },
  {
   "cell_type": "markdown",
   "id": "179714dd-c26f-4fcc-b21f-cfac1f6492f8",
   "metadata": {},
   "source": [
    "## There are multiple ways to compare two arrays:"
   ]
  },
  {
   "cell_type": "markdown",
   "id": "bd56c47d-8355-4170-876a-54b6f5096703",
   "metadata": {},
   "source": [
    "### With respect to order and duplicates.\n",
    "> `list_01 = [1, 2, 3, 4, 5, 6, 7]`\n",
    "\n",
    "> `list_02 = [1, 2, 3, 4, 5, 6, 7]`"
   ]
  },
  {
   "cell_type": "code",
   "execution_count": null,
   "id": "200735b9-a7d6-41d0-a618-362de86a9cf5",
   "metadata": {
    "tags": []
   },
   "outputs": [],
   "source": [
    "# TODO\n",
    "pass"
   ]
  },
  {
   "cell_type": "markdown",
   "id": "3a64e850-78f8-4dde-bf91-2c801607dab5",
   "metadata": {},
   "source": [
    "### Ignoring duplicates.\n",
    "> `list_01 = [1, 2, 3, 3, 4, 5, 6, 7, 7]`\n",
    "\n",
    "> `list_02 = [1, 2, 3, 4, 5, 5, 6, 7]`"
   ]
  },
  {
   "cell_type": "code",
   "execution_count": null,
   "id": "5e722e4b-5eee-4368-ab21-71431a5f30f9",
   "metadata": {
    "tags": []
   },
   "outputs": [],
   "source": [
    "# TODO\n",
    "pass"
   ]
  },
  {
   "cell_type": "markdown",
   "id": "aaeb9fb6-6de3-4a0b-b23f-2d2a54d27808",
   "metadata": {},
   "source": [
    "### Ignoring order.\n",
    "> `list_01 = [5, 2, 7, 4, 1, 6, 3]`\n",
    "\n",
    "> `list_02 = [6, 4, 3, 2, 5, 1, 7]`"
   ]
  },
  {
   "cell_type": "code",
   "execution_count": null,
   "id": "4fdbf585-d609-4e07-9d87-206c4c25e858",
   "metadata": {
    "tags": []
   },
   "outputs": [],
   "source": [
    "# TODO\n",
    "pass"
   ]
  },
  {
   "cell_type": "markdown",
   "id": "6fb03105-9494-4407-ad34-e332122598f0",
   "metadata": {},
   "source": [
    "### Ignoring duplicates and order.\n",
    "> `list_01 = [5, 2, 7, 4, 1, 5, 6, 3, 6, 3, 4, 2, 7]`\n",
    "\n",
    "> `list_02 = [6, 4, 3, 2, 5, 1, 7, 3, 7, 2]`"
   ]
  },
  {
   "cell_type": "code",
   "execution_count": null,
   "id": "97ed3d47-8d43-4f30-aeae-5a0ed76c5587",
   "metadata": {
    "tags": []
   },
   "outputs": [],
   "source": [
    "# TODO\n",
    "pass"
   ]
  },
  {
   "cell_type": "markdown",
   "id": "21bd441d-b4ee-4ebb-8ac8-0127b69a2319",
   "metadata": {},
   "source": [
    "## Using ONLY lists and loops and given the two lists `ten_names` and `scores`, write a Python program that accepts the person's name and print its scores assuming that the order of elements in the two lists match up.\n",
    "> - **Input: `\"Alexandra Thompson\"`**\n",
    "> - **Output: `1`**"
   ]
  },
  {
   "cell_type": "code",
   "execution_count": null,
   "id": "ee2dcf32-e50a-49e1-93ef-61be148429b3",
   "metadata": {
    "tags": []
   },
   "outputs": [],
   "source": [
    "ten_names = ['John Smith', 'Alexandra Thompson', 'Christopher Lynch',\n",
    "             'Brandon Brown', 'Nancy Watts', 'Jason Kelley', 'Daniel Hill',\n",
    "             'Bradley Caldwell', 'Scott Bailey', 'Destiny Beasley']"
   ]
  },
  {
   "cell_type": "code",
   "execution_count": null,
   "id": "989b8f05-48b2-4b4b-ba43-443f23c91fd4",
   "metadata": {
    "tags": []
   },
   "outputs": [],
   "source": [
    "scores = [2, 1, 7, 2, 3, 10, 2, 10, 1, 8]"
   ]
  },
  {
   "cell_type": "code",
   "execution_count": null,
   "id": "5afe32eb-69a9-4c6a-b749-b5bd99ea7df7",
   "metadata": {},
   "outputs": [],
   "source": [
    "# TODO\n",
    "name = input(\"Name: \")"
   ]
  },
  {
   "cell_type": "markdown",
   "id": "b093b13d-b787-4b2c-b08a-67d08b55efac",
   "metadata": {},
   "source": [
    "## Given the two lists `ten_names` and `scores` from the previous question, create a dictionary which holds names as the keys and scores as the values."
   ]
  },
  {
   "cell_type": "code",
   "execution_count": null,
   "id": "754dfb96-4b96-4b8d-ae64-1587259970e3",
   "metadata": {},
   "outputs": [],
   "source": [
    "# TODO\n",
    "names_to_scores = "
   ]
  },
  {
   "cell_type": "markdown",
   "id": "cf288678-c0ae-49c2-9c73-f1f5b3f4c170",
   "metadata": {},
   "source": [
    "## Write a Python program that retrieves a score from `names_to_scores` dictionary given the corresponding name with handling any possible `KeyError`."
   ]
  },
  {
   "cell_type": "code",
   "execution_count": null,
   "id": "3a571bd0-d309-4656-9109-be464ef7c2f5",
   "metadata": {},
   "outputs": [],
   "source": [
    "# TODO\n",
    "name = input(\"Name: \")"
   ]
  },
  {
   "cell_type": "markdown",
   "id": "7026c224-2eb4-4190-a802-9d19b22b1cb7",
   "metadata": {},
   "source": [
    "## Update the score of `John Smith` to be `5`."
   ]
  },
  {
   "cell_type": "code",
   "execution_count": null,
   "id": "e3133368-05e2-4e60-8ef5-69b9c1ecc0c7",
   "metadata": {},
   "outputs": [],
   "source": [
    "# TODO\n",
    "names_to_scores = "
   ]
  },
  {
   "cell_type": "markdown",
   "id": "810c7441-3711-4f92-9ec8-e16473e7d36e",
   "metadata": {},
   "source": [
    "## Add `3` to each score in the `names_to_scores` dictionary."
   ]
  },
  {
   "cell_type": "code",
   "execution_count": null,
   "id": "130ab82c-59c5-4d19-88dd-969f2c26297c",
   "metadata": {},
   "outputs": [],
   "source": [
    "# TODO\n",
    "names_to_scores = "
   ]
  },
  {
   "cell_type": "markdown",
   "id": "32866c23-8a03-43e8-9096-0787bdaaa741",
   "metadata": {},
   "source": [
    "## Sort `names_to_scores` dictionary according to keys and values."
   ]
  },
  {
   "cell_type": "code",
   "execution_count": null,
   "id": "dd442dfd-2203-410a-81eb-6b748c2556d0",
   "metadata": {},
   "outputs": [],
   "source": [
    "# TODO\n",
    "sorted_according_to_keys = "
   ]
  },
  {
   "cell_type": "code",
   "execution_count": null,
   "id": "d9c5d97b-ecd0-4e63-b1a7-c0efb41be24e",
   "metadata": {},
   "outputs": [],
   "source": [
    "# TODO\n",
    "sorted_according_to_vals = "
   ]
  },
  {
   "cell_type": "markdown",
   "id": "46d275af-3ae1-4673-9461-83e855550b3a",
   "metadata": {},
   "source": [
    "## Write a Python program to find the average of all scores in `names_to_scores` dictionary."
   ]
  },
  {
   "cell_type": "code",
   "execution_count": null,
   "id": "ff3f2973-2b9f-4903-8501-e20afa2222c0",
   "metadata": {},
   "outputs": [],
   "source": [
    "# TODO\n",
    "average_score = "
   ]
  },
  {
   "cell_type": "markdown",
   "id": "22c20bb0-540c-44b3-a77f-99114970c46d",
   "metadata": {},
   "source": [
    "## Make a new dictionary called `results` that holds thae names and final results after updating the `names_to_scores` dictionary in the last question."
   ]
  },
  {
   "cell_type": "code",
   "execution_count": null,
   "id": "664c027c-30e3-47fd-8af6-e66b18b5b3de",
   "metadata": {},
   "outputs": [],
   "source": [
    "# TODO\n",
    "results = "
   ]
  },
  {
   "cell_type": "markdown",
   "id": "94876608-1122-45db-9e2b-c487af080a5b",
   "metadata": {},
   "source": [
    "## Delete names of personswho failed from `results` dictionary by three different ways."
   ]
  },
  {
   "cell_type": "code",
   "execution_count": null,
   "id": "6de61ef5-83a8-4769-93a5-b2e1cb330eeb",
   "metadata": {},
   "outputs": [],
   "source": [
    "# TODO\n",
    "passed_01 = "
   ]
  },
  {
   "cell_type": "code",
   "execution_count": null,
   "id": "1b6a580f-934d-468f-b4df-19121edb2eed",
   "metadata": {},
   "outputs": [],
   "source": [
    "# TODO\n",
    "passed_02 = "
   ]
  },
  {
   "cell_type": "code",
   "execution_count": null,
   "id": "a617a956-ba81-4f06-a82d-a3b85a24d073",
   "metadata": {},
   "outputs": [],
   "source": [
    "# TODO\n",
    "passed_03 = "
   ]
  },
  {
   "cell_type": "markdown",
   "id": "3dbd1c3d-aaa7-41f8-b099-3e1cb5958c21",
   "metadata": {},
   "source": [
    "## There are so many ways to encrypt a text message in Python, one of which is assigning each word a certain number. Here is the original message:\n",
    "> NumPy, short for Numerical Python, has long been a cornerstone of numerical computing in Python. It provides the data structures, algorithms, and library glue\\nneeded for most scientific applications involving numerical data in Python."
   ]
  },
  {
   "cell_type": "markdown",
   "id": "f5e9bc0f-a046-47f5-9c1f-ba5e285d32d2",
   "metadata": {},
   "source": [
    "### 1. Iterate over the words in `message` and to map each word to  a number in a dicationary named `words_to_naums`."
   ]
  },
  {
   "cell_type": "code",
   "execution_count": null,
   "id": "09aba68f-07a8-43f4-8816-1d38b4f7f92a",
   "metadata": {
    "tags": []
   },
   "outputs": [],
   "source": [
    "message = \"NumPy, short for Numerical Python,\\\n",
    "has long been a cornerstone of numerical computing in Python. \\\n",
    "It provides the data structures, algorithms, and library glue \\\n",
    "needed for most scientific applications involving numerical data in Python.\"\n",
    "\n",
    "print(message)"
   ]
  },
  {
   "cell_type": "code",
   "execution_count": null,
   "id": "1ff319d7-6704-4bfd-9ac7-7fe758a4e1fa",
   "metadata": {
    "tags": []
   },
   "outputs": [],
   "source": [
    "# TODO (use numbers as strings to make your life easier!)\n",
    "words_to_nums = "
   ]
  },
  {
   "cell_type": "markdown",
   "id": "b08b27b6-3d49-4216-816f-e6a303325977",
   "metadata": {},
   "source": [
    "### 2. Create a new string named `enc_message` using the `nums_to_word` dictionary to replace each word in `message` with its corresponding number."
   ]
  },
  {
   "cell_type": "code",
   "execution_count": null,
   "id": "1ca4adca-dabe-478c-8e94-56755ae65f42",
   "metadata": {},
   "outputs": [],
   "source": [
    "# TODO\n",
    "enc_message = "
   ]
  },
  {
   "cell_type": "markdown",
   "id": "5df792ae-4930-4d2c-9108-79a954bf84c7",
   "metadata": {},
   "source": [
    "### 3. Decrypt `enc_message` using the `words_to_nums` you have created in another variable named `dec_message`."
   ]
  },
  {
   "cell_type": "code",
   "execution_count": null,
   "id": "62606971-fcfd-461f-97fb-549b3acc6b29",
   "metadata": {},
   "outputs": [],
   "source": [
    "# TODO\n",
    "dec_message = "
   ]
  },
  {
   "cell_type": "markdown",
   "id": "c0ad9d06-70de-43f1-b20e-102432ac5d5a",
   "metadata": {},
   "source": [
    "### 4. Test the two strings `message` and `dec_message` for equality."
   ]
  },
  {
   "cell_type": "code",
   "execution_count": null,
   "id": "d1ee3f95-58f2-4cfa-ac3a-aee653ab4682",
   "metadata": {
    "tags": []
   },
   "outputs": [],
   "source": [
    "chs_to_idx = {}\n",
    "\n",
    "if len(message) == len(dec_message):\n",
    "    \n",
    "    for i in range(len(message)):\n",
    "        a, b = message[i], dec_message[i]\n",
    "        if a != b:\n",
    "            chs_to_idx[i] = [a, b]\n",
    "            \n",
    "    print(chs_to_idx)\n",
    "else:\n",
    "    print(\"Something went wrong!\")    "
   ]
  },
  {
   "cell_type": "markdown",
   "id": "1cb35f38-519e-44fb-ab10-0b61d96d700e",
   "metadata": {},
   "source": [
    "## Given a text with random words, group the words that end with the same two letters together and count them."
   ]
  },
  {
   "cell_type": "code",
   "execution_count": null,
   "id": "3011c35f-d079-4cdd-8b39-cf2d4247f264",
   "metadata": {
    "tags": []
   },
   "outputs": [],
   "source": [
    "# This code loads a text with 500 random words and prints the first 10 words:\n",
    "%run \"load_random_words.py\""
   ]
  },
  {
   "cell_type": "code",
   "execution_count": null,
   "id": "050850cd-a93f-43d1-92ee-5518ea8fee8c",
   "metadata": {
    "tags": []
   },
   "outputs": [],
   "source": [
    "type(random_words), len(random_words)"
   ]
  },
  {
   "cell_type": "code",
   "execution_count": null,
   "id": "55379af1-7160-4d89-a6fb-5083699a61a8",
   "metadata": {},
   "outputs": [],
   "source": [
    "# TODO\n",
    "chs_to_words = "
   ]
  },
  {
   "cell_type": "markdown",
   "id": "deecb096-e714-456b-8b49-9ff7606af262",
   "metadata": {},
   "source": [
    "## Write a Python program to find the top candidate words in `random_words` to help in writing a poem."
   ]
  },
  {
   "cell_type": "code",
   "execution_count": null,
   "id": "5e56858c-da59-4d80-92d9-3380802b0166",
   "metadata": {},
   "outputs": [],
   "source": [
    "# TODO\n",
    "candidate_words = "
   ]
  }
 ],
 "metadata": {
  "kernelspec": {
   "display_name": "Main-Dev-Env",
   "language": "python",
   "name": "main-dev-env"
  },
  "language_info": {
   "codemirror_mode": {
    "name": "ipython",
    "version": 3
   },
   "file_extension": ".py",
   "mimetype": "text/x-python",
   "name": "python",
   "nbconvert_exporter": "python",
   "pygments_lexer": "ipython3",
   "version": "3.10.10"
  }
 },
 "nbformat": 4,
 "nbformat_minor": 5
}
